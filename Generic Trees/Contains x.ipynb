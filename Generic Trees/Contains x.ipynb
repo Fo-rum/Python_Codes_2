{
 "cells": [
  {
   "cell_type": "markdown",
   "metadata": {},
   "source": [
    "Given a generic tree and an integer x, check if x is present in the given tree or not.\n",
    "\n",
    "Return true if x is present, return false otherwise."
   ]
  },
  {
   "cell_type": "markdown",
   "metadata": {},
   "source": [
    "Input format :\n",
    "The first line of input contains data of the nodes of the tree in level order form. The order is: data for root node, number of children to root node, data of each of child nodes and so on and so forth for each node. The data of the nodes of the tree is separated by space.  \n",
    "The following line contains an integer, that denotes the value of x.\n",
    "\n",
    "Output format :\n",
    "The first and only line of output contains true, if x is present and false, otherwise.\n",
    "\n",
    "Constraints:\n",
    "Time Limit: 1 sec"
   ]
  },
  {
   "cell_type": "code",
   "execution_count": null,
   "metadata": {},
   "outputs": [],
   "source": [
    "from sys import stdin,setrecursionlimit\n",
    "setrecursionlimit(10**6)\n",
    "class treeNode:\n",
    "    def __init__(self, data):\n",
    "        self.data = data\n",
    "        self.children = []\n",
    "    def __str__(self):\n",
    "        return str(self.data)\n",
    "\n",
    "def containsX(tree, x):\n",
    "    if tree == None:\n",
    "        return False\n",
    "    \n",
    "    if tree.data == x:\n",
    "        return True\n",
    "\n",
    "    for child in tree.children:\n",
    "        if (containsX(child,x)):\n",
    "            return True\n",
    "    return False\n",
    "    \n",
    "# if not containsX(tree,x):\n",
    "#     return True\n",
    "# return False\n",
    "\n",
    "def createLevelWiseTree(arr):\n",
    "    root = treeNode(int(arr[0]))\n",
    "    q = [root]\n",
    "    size = len(arr)\n",
    "    i = 1\n",
    "    while i<size:\n",
    "        parent = q.pop(0)\n",
    "        childCount = int(arr[i])\n",
    "        i += 1\n",
    "        for j in range(0,childCount):\n",
    "            temp = treeNode(int(arr[i+j]))\n",
    "            parent.children.append(temp)\n",
    "            q.append(temp)\n",
    "        i += childCount\n",
    "    return root\n",
    "\n",
    "# Main\n",
    "\n",
    "arr = list(int(x) for x in stdin.readline().strip().split())\n",
    "x=int(stdin.readline().strip())\n",
    "tree = createLevelWiseTree(arr)\n",
    "if containsX(tree,x):\n",
    "    print('true')\n",
    "else:\n",
    "    print('false')"
   ]
  },
  {
   "cell_type": "code",
   "execution_count": null,
   "metadata": {},
   "outputs": [],
   "source": [
    "\"\"\"Sample Input 1 :\n",
    "10 3 20 30 40 2 40 50 0 0 0 0\n",
    "40 \n",
    "Sample Output 1 :\n",
    "true\n",
    "Sample Input 2 :\n",
    "10 3 20 30 40 2 40 50 0 0 0 0\n",
    "4 \n",
    "Sample Output 2:\n",
    "false\"\"\""
   ]
  }
 ],
 "metadata": {
  "kernelspec": {
   "display_name": "Python 3",
   "language": "python",
   "name": "python3"
  },
  "language_info": {
   "codemirror_mode": {
    "name": "ipython",
    "version": 3
   },
   "file_extension": ".py",
   "mimetype": "text/x-python",
   "name": "python",
   "nbconvert_exporter": "python",
   "pygments_lexer": "ipython3",
   "version": "3.8.2"
  }
 },
 "nbformat": 4,
 "nbformat_minor": 4
}
