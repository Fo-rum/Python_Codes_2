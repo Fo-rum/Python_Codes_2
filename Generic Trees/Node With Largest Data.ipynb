{
 "cells": [
  {
   "cell_type": "markdown",
   "metadata": {},
   "source": [
    "Given a generic tree, find and return the node with maximum data. \n",
    "\n",
    "You need to return the node which is having maximum data.\n",
    "Return null if tree is empty."
   ]
  },
  {
   "cell_type": "markdown",
   "metadata": {},
   "source": [
    "Input format :\n",
    "The first line of input contains data of the nodes of the tree in level order form. The order is: data for root node, number of children to root node, data of each of child nodes and so on and so forth for each node. The data of the nodes of the tree is separated by space.\n",
    "\n",
    "Output Format :\n",
    "The first and only line of output contains the data of the node with largest data in the given tree.\n",
    "\n",
    "Constraints:\n",
    "Time Limit: 1 sec"
   ]
  },
  {
   "cell_type": "code",
   "execution_count": null,
   "metadata": {},
   "outputs": [],
   "source": [
    "from sys import stdin,setrecursionlimit\n",
    "setrecursionlimit(10**6)\n",
    "class treeNode:\n",
    "    def __init__(self, data):\n",
    "        self.data = data\n",
    "        self.children = []\n",
    "    def __str__(self):\n",
    "        return str(self.data)\n",
    "\n",
    "def maxDataNode(tree):\n",
    "    if tree == None:\n",
    "        return None\n",
    "    maxNode = tree \n",
    "    for child in tree.children:\n",
    "        temp = maxDataNode(child)\n",
    "        if temp.data > maxNode.data:\n",
    "            maxNode = temp\n",
    "    return maxNode\n",
    "\n",
    "def createLevelWiseTree(arr):\n",
    "    root = treeNode(int(arr[0]))\n",
    "    q = [root]\n",
    "    size = len(arr)\n",
    "    i = 1\n",
    "    while i<size:\n",
    "        parent = q.pop(0)\n",
    "        childCount = int(arr[i])\n",
    "        i += 1\n",
    "        for j in range(0,childCount):\n",
    "            temp = treeNode(int(arr[i+j]))\n",
    "            parent.children.append(temp)\n",
    "            q.append(temp)\n",
    "        i += childCount\n",
    "    return root\n",
    "\n",
    "# Main\n",
    "arr = list(int(x) for x in stdin.readline().strip().split())\n",
    "tree = createLevelWiseTree(arr)\n",
    "print(maxDataNode(tree).data)"
   ]
  },
  {
   "cell_type": "code",
   "execution_count": null,
   "metadata": {},
   "outputs": [],
   "source": [
    "\"\"\"Sample Input 1:\n",
    "10 3 20 30 40 2 40 50 0 0 0 0 \n",
    "Sample Output 1:\n",
    "50\"\"\""
   ]
  }
 ],
 "metadata": {
  "kernelspec": {
   "display_name": "Python 3",
   "language": "python",
   "name": "python3"
  },
  "language_info": {
   "codemirror_mode": {
    "name": "ipython",
    "version": 3
   },
   "file_extension": ".py",
   "mimetype": "text/x-python",
   "name": "python",
   "nbconvert_exporter": "python",
   "pygments_lexer": "ipython3",
   "version": "3.8.2"
  }
 },
 "nbformat": 4,
 "nbformat_minor": 4
}
