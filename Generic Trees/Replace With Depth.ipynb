{
 "cells": [
  {
   "cell_type": "markdown",
   "metadata": {},
   "source": [
    "You are given a generic tree. You have to replace each node with its depth value. \n",
    "\n",
    "You just have to update the data of each node, there is no need to return or print anything."
   ]
  },
  {
   "cell_type": "markdown",
   "metadata": {},
   "source": [
    "Input format :\n",
    "The first line of input contains data of the nodes of the tree in level order form. The order is: data for root node, number of children to root node, data of each of child nodes and so on and so forth for each node. The data of the nodes of the tree is separated by space.\n",
    "\n",
    "Output format:\n",
    "The updated tree is printed level wise. Each level is printed in a new line. Please refer to sample output 1 for more details. \n",
    "\n",
    "Constraints:\n",
    "Time Limit: 1 sec"
   ]
  },
  {
   "cell_type": "code",
   "execution_count": null,
   "metadata": {},
   "outputs": [],
   "source": [
    "from sys import stdin,setrecursionlimit\n",
    "setrecursionlimit(10**6)\n",
    "\n",
    "class treeNode:\n",
    "    def __init__(self, data):\n",
    "        self.data = data\n",
    "        self.children = []\n",
    "\n",
    "def helper(tree,depth=0):\n",
    "    \n",
    "    #base case:\n",
    "    if not tree:\n",
    "        return \n",
    "    \n",
    "    temp = tree\n",
    "    tree.data = depth\n",
    "    \n",
    "    for child in temp.children:\n",
    "        helper(child,depth+1)\n",
    "        \n",
    "\n",
    "\n",
    "def replacewithDepth(tree):\n",
    "    \n",
    "    #base case\n",
    "    if not tree:\n",
    "        return \n",
    "    \n",
    "    helper(tree)\n",
    "    \n",
    "\n",
    "def createLevelWiseTree(arr):\n",
    "    root = treeNode(int(arr[0]))\n",
    "    q = [root]\n",
    "    size = len(arr)\n",
    "    i = 1\n",
    "    while i<size:\n",
    "        parent = q.pop(0)\n",
    "        childCount = int(arr[i])\n",
    "        i += 1\n",
    "        for j in range(0,childCount):\n",
    "            temp = treeNode(int(arr[i+j]))\n",
    "            parent.children.append(temp)\n",
    "            q.append(temp)\n",
    "        i += childCount\n",
    "    return root\n",
    "\n",
    "def printLevelAtNewLine(tree):\n",
    "    q = [tree]\n",
    "    newq = []\n",
    "    while q:\n",
    "        parent = q.pop(0)\n",
    "        print(parent.data, end=' ')\n",
    "        for child in parent.children:\n",
    "            newq.append(child)\n",
    "        if len(q)==0:\n",
    "            q = newq\n",
    "            newq = []\n",
    "            print()  # Move to next Line\n",
    "\n",
    "# Main\n",
    "arr = list(int(x) for x in stdin.readline().strip().split())\n",
    "tree = createLevelWiseTree(arr)\n",
    "replacewithDepth(tree)\n",
    "printLevelAtNewLine(tree)"
   ]
  },
  {
   "cell_type": "code",
   "execution_count": null,
   "metadata": {},
   "outputs": [],
   "source": [
    "\"\"\"Sample Input 1:\n",
    "10 3 20 30 40 2 40 50 0 0 0 0 \n",
    "Sample Output 1:\n",
    "0 \n",
    "1 1 1 \n",
    "2 2\"\"\""
   ]
  }
 ],
 "metadata": {
  "kernelspec": {
   "display_name": "Python 3",
   "language": "python",
   "name": "python3"
  },
  "language_info": {
   "codemirror_mode": {
    "name": "ipython",
    "version": 3
   },
   "file_extension": ".py",
   "mimetype": "text/x-python",
   "name": "python",
   "nbconvert_exporter": "python",
   "pygments_lexer": "ipython3",
   "version": "3.8.2"
  }
 },
 "nbformat": 4,
 "nbformat_minor": 4
}
