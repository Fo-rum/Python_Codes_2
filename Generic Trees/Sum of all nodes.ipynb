{
 "cells": [
  {
   "cell_type": "markdown",
   "metadata": {},
   "source": [
    "Given a generic tree, find and return the sum of all nodes present in the given tree."
   ]
  },
  {
   "cell_type": "markdown",
   "metadata": {},
   "source": [
    "Input format :\n",
    "The first line of input contains data of the nodes of the tree in level order form. The order is: data for root node, number of children to root node, data of each of child nodes and so on and so forth for each node. The data of the nodes of the tree is separated by space.   \n",
    "\n",
    "Output Format :\n",
    "The first and only line of output prints the sum of all nodes of the given generic tree.\n",
    "\n",
    "Constraints:\n",
    "Time Limit: 1 sec"
   ]
  },
  {
   "cell_type": "code",
   "execution_count": null,
   "metadata": {},
   "outputs": [],
   "source": [
    "import sys\n",
    "import queue\n",
    "\n",
    "class TreeNode :\n",
    "    def __init__(self, data) :\n",
    "        self.data = data\n",
    "        self.children = list()\n",
    "\n",
    "def inputLevelWise(li) :\n",
    "    i = 0\n",
    "    data = li[i] \n",
    "    i += 1\n",
    "    if data == -1 :\n",
    "        return None\n",
    "    root = TreeNode(data) \n",
    "    q = queue.Queue()\n",
    "    q.put(root)\n",
    "    while (not q.empty()) :\n",
    "        frontNode = q.get()\n",
    "        noOfChildren = li[i]\n",
    "        i += 1\n",
    "        childrenArray = li[i : i+noOfChildren]\n",
    "        for childData in childrenArray :\n",
    "            childNode = TreeNode(childData)\n",
    "            frontNode.children.append(childNode)\n",
    "            q.put(childNode)\n",
    "        i = i+noOfChildren\n",
    "    return root\n",
    "        \n",
    "def sumOfAllNodes(root) :\n",
    "    \n",
    "    #edge case:\n",
    "    if root == None:\n",
    "        return None\n",
    "    \n",
    "    sum = root.data\n",
    "    for child in root.children:\n",
    "        sum = sum + sumOfAllNodes(child)\n",
    "    return sum\n",
    "\n",
    "    \n",
    "#main\n",
    "sys.setrecursionlimit(10**6)\n",
    "li = [int(elem) for elem in list(input().strip().split())]\n",
    "root = inputLevelWise(li)\n",
    "print(sumOfAllNodes(root))"
   ]
  },
  {
   "cell_type": "code",
   "execution_count": null,
   "metadata": {},
   "outputs": [],
   "source": [
    "\"\"\"Sample Input 1:\n",
    "10 3 20 30 40 2 40 50 0 0 0 0 \n",
    "Sample Output 1:\n",
    "190\"\"\""
   ]
  }
 ],
 "metadata": {
  "kernelspec": {
   "display_name": "Python 3",
   "language": "python",
   "name": "python3"
  },
  "language_info": {
   "codemirror_mode": {
    "name": "ipython",
    "version": 3
   },
   "file_extension": ".py",
   "mimetype": "text/x-python",
   "name": "python",
   "nbconvert_exporter": "python",
   "pygments_lexer": "ipython3",
   "version": "3.8.2"
  }
 },
 "nbformat": 4,
 "nbformat_minor": 4
}
