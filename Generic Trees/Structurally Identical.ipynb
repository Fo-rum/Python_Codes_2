{
 "cells": [
  {
   "cell_type": "markdown",
   "metadata": {},
   "source": [
    "Given two generic trees, return true if they are structurally identical. Otherwise return false.\n",
    "\n",
    "Structural Identical\n",
    "\n",
    "If the two given trees are made of nodes with the same values and the nodes are arranged in the same way, then the trees are called identical.  "
   ]
  },
  {
   "cell_type": "markdown",
   "metadata": {},
   "source": [
    "Input format :\n",
    "The first line of input contains data of the nodes of the first tree in level order form. The order is: data for root node, number of children to root node, data of each of child nodes and so on and so forth for each node. The data of the nodes of the tree is separated by space. \n",
    "\n",
    "The following line of input contains data of the nodes of the second tree in level order form. The order is: data for root node, number of children to root node, data of each of child nodes and so on and so forth for each node. The data of the nodes of the tree is separated by space.\n",
    "\n",
    "Output format :\n",
    "The first and only line of output contains true, if the given trees are structurally identical and false, otherwise.\n",
    "\n",
    "Constraints:\n",
    "Time Limit: 1 sec"
   ]
  },
  {
   "cell_type": "code",
   "execution_count": null,
   "metadata": {},
   "outputs": [],
   "source": [
    "from sys import stdin,setrecursionlimit\n",
    "setrecursionlimit(10**6)\n",
    "class treeNode:\n",
    "    def __init__(self, data):\n",
    "        self.data = data\n",
    "        self.children = []\n",
    "\n",
    "def isIdentical(tree1, tree2):\n",
    "    if not tree1:\n",
    "        if not tree2:\n",
    "            return True\n",
    "        return False\n",
    "    if (tree1.data != tree2.data) or len(tree1.children) != len(tree2.children):\n",
    "        return False\n",
    "    for child1, child2 in zip(tree1.children, tree2.children):\n",
    "        if not isIdentical(child1, child2):\n",
    "            return False\n",
    "    return True\n",
    "\n",
    "def createLevelWiseTree(arr):\n",
    "    root = treeNode(int(arr[0]))\n",
    "    q = [root]\n",
    "    size = len(arr)\n",
    "    i = 1\n",
    "    while i<size:\n",
    "        parent = q.pop(0)\n",
    "        childCount = int(arr[i])\n",
    "        i += 1\n",
    "        for j in range(0,childCount):\n",
    "            temp = treeNode(int(arr[i+j]))\n",
    "            parent.children.append(temp)\n",
    "            q.append(temp)\n",
    "        i += childCount\n",
    "    return root\n",
    "\n",
    "# Main\n",
    "arr1 = list(int(x) for x in stdin.readline().strip().split())\n",
    "tree1 = createLevelWiseTree(arr1)\n",
    "arr2 = list(int(x) for x in stdin.readline().strip().split())\n",
    "tree2 = createLevelWiseTree(arr2)\n",
    "if isIdentical(tree1, tree2):\n",
    "    print('true')\n",
    "else:\n",
    "    print('false')"
   ]
  },
  {
   "cell_type": "code",
   "execution_count": null,
   "metadata": {},
   "outputs": [],
   "source": [
    "\"\"\"Sample Input 1 :\n",
    "10 3 20 30 40 2 40 50 0 0 0 0 \n",
    "10 3 20 30 40 2 40 50 0 0 0 0\n",
    "Sample Output 1 :\n",
    "true\n",
    "Sample Input 2 :\n",
    "10 3 20 30 40 2 40 50 0 0 0 0 \n",
    "10 3 2 30 40 2 40 50 0 0 0 0\n",
    "Sample Output 2:\n",
    "false\"\"\""
   ]
  }
 ],
 "metadata": {
  "kernelspec": {
   "display_name": "Python 3",
   "language": "python",
   "name": "python3"
  },
  "language_info": {
   "codemirror_mode": {
    "name": "ipython",
    "version": 3
   },
   "file_extension": ".py",
   "mimetype": "text/x-python",
   "name": "python",
   "nbconvert_exporter": "python",
   "pygments_lexer": "ipython3",
   "version": "3.8.2"
  }
 },
 "nbformat": 4,
 "nbformat_minor": 4
}
