{
 "cells": [
  {
   "cell_type": "markdown",
   "metadata": {},
   "source": [
    "Given a generic tree, count and return the number of leaf nodes present in the given tree."
   ]
  },
  {
   "cell_type": "markdown",
   "metadata": {},
   "source": [
    "\n",
    "Input format :\n",
    "The first line of input contains data of the nodes of the tree in level order form. The order is: data for root node, number of children to root node, data of each of child nodes and so on and so forth for each node. The data of the nodes of the tree is separated by space.  \n",
    "\n",
    "Output Format :\n",
    "The first and only line of output prints the count of leaf nodes present in the given tree.\n",
    "\n",
    "Constraints:\n",
    "Time Limit: 1 sec"
   ]
  },
  {
   "cell_type": "code",
   "execution_count": null,
   "metadata": {},
   "outputs": [],
   "source": [
    "import sys\n",
    "class treeNode:\n",
    "    def __init__(self, data):\n",
    "        self.data = data\n",
    "        self.children = []\n",
    "    def __str__(self):\n",
    "        return str(self.data)\n",
    "\n",
    "def leafNodeCount(tree):\n",
    "    if tree is None:\n",
    "        return 0\n",
    "    if len(tree.children) == 0:\n",
    "        return 1\n",
    "    \n",
    "    count = 0\n",
    "    for child in tree.children:\n",
    "        count = count + leafNodeCount(child)\n",
    "    return count\n",
    "\n",
    "\n",
    "def createLevelWiseTree(arr):\n",
    "    root = treeNode(int(arr[0]))\n",
    "    q = [root]\n",
    "    size = len(arr)\n",
    "    i = 1\n",
    "    while i<size:\n",
    "        parent = q.pop(0)\n",
    "        childCount = int(arr[i])\n",
    "        i += 1\n",
    "        for j in range(0,childCount):\n",
    "            temp = treeNode(int(arr[i+j]))\n",
    "            parent.children.append(temp)\n",
    "            q.append(temp)\n",
    "        i += childCount\n",
    "    return root\n",
    "\n",
    "# Main\n",
    "sys.setrecursionlimit(10**6)\n",
    "arr = list(int(x) for x in input().strip().split(' '))\n",
    "tree = createLevelWiseTree(arr)\n",
    "print(leafNodeCount(tree))"
   ]
  },
  {
   "cell_type": "code",
   "execution_count": 1,
   "metadata": {},
   "outputs": [
    {
     "data": {
      "text/plain": [
       "'Sample Input 1 :\\n10 3 20 30 40 2 40 50 0 0 0 0 \\nSample Output 1 :\\n4'"
      ]
     },
     "execution_count": 1,
     "metadata": {},
     "output_type": "execute_result"
    }
   ],
   "source": [
    "\"\"\"Sample Input 1 :\n",
    "10 3 20 30 40 2 40 50 0 0 0 0 \n",
    "Sample Output 1 :\n",
    "4\"\"\""
   ]
  }
 ],
 "metadata": {
  "kernelspec": {
   "display_name": "Python 3",
   "language": "python",
   "name": "python3"
  },
  "language_info": {
   "codemirror_mode": {
    "name": "ipython",
    "version": 3
   },
   "file_extension": ".py",
   "mimetype": "text/x-python",
   "name": "python",
   "nbconvert_exporter": "python",
   "pygments_lexer": "ipython3",
   "version": "3.8.2"
  }
 },
 "nbformat": 4,
 "nbformat_minor": 4
}
