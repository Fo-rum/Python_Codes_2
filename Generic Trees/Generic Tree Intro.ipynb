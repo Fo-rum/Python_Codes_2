{
 "cells": [
  {
   "cell_type": "code",
   "execution_count": null,
   "metadata": {},
   "outputs": [],
   "source": [
    "#Generic trees means there is no limitation on how many children a particular node can have\n",
    "# can have 0,1 .. to any no of children\n",
    "# node -> data and children -> list\n",
    "# to access any child, need to iterate through the array"
   ]
  },
  {
   "cell_type": "code",
   "execution_count": 2,
   "metadata": {},
   "outputs": [
    {
     "name": "stdout",
     "output_type": "stream",
     "text": [
      "Printing the preorder\n",
      "5\n",
      "2\n",
      "9\n",
      "15\n",
      "1\n",
      "8\n",
      "7\n",
      "Printing the details of tree\n",
      "5 :2 ,9 ,8 ,7 ,\n",
      "2 :\n",
      "9 :15 ,1 ,\n",
      "15 :\n",
      "1 :\n",
      "8 :\n",
      "7 :\n"
     ]
    }
   ],
   "source": [
    "#creation of a generic tree node\n",
    "\n",
    "class TreeNode:\n",
    "    def __init__(self,data):\n",
    "        self.data = data\n",
    "        self.children = []\n",
    "        \n",
    "def printTree(root):\n",
    "    \n",
    "    #edge case, not a base case:\n",
    "    if root == None:\n",
    "        return\n",
    "    print(root.data)\n",
    "    for child in root.children:\n",
    "        printTree(child)\n",
    "        \n",
    "def printTreeDetailed(root):\n",
    "    \n",
    "    #edge case\n",
    "    if root == None:\n",
    "        return\n",
    "    print(root.data, \":\", end='')\n",
    "    \n",
    "    #for loop for printing all the children of the root\n",
    "    for child in root.children:\n",
    "        print(child.data, \",\" , end=\"\")\n",
    "    print()\n",
    "    \n",
    "    #for loop for making a function call on each and every child of the root\n",
    "    for child in root.children:\n",
    "        printTreeDetailed(child)\n",
    "        \n",
    "n1 = TreeNode(5)\n",
    "n2 = TreeNode(2)\n",
    "n3 = TreeNode(9)\n",
    "n4 = TreeNode(8)\n",
    "n5 = TreeNode(7)\n",
    "n6 = TreeNode(15)\n",
    "n7 = TreeNode(1)\n",
    "\n",
    "n1.children.append(n2)\n",
    "n1.children.append(n3)\n",
    "n1.children.append(n4)\n",
    "n1.children.append(n5)\n",
    "\n",
    "n3.children.append(n6)\n",
    "n3.children.append(n7)\n",
    "\n",
    "print(\"Printing the preorder\")\n",
    "printTree(n1)\n",
    "print(\"Printing the details of tree\")\n",
    "\n",
    "#Notice an extra comma at the end, because we are adding a comma after every child\n",
    "printTreeDetailed(n1)\n"
   ]
  },
  {
   "cell_type": "code",
   "execution_count": null,
   "metadata": {},
   "outputs": [],
   "source": [
    "\"\"\"Note: There is no base case present ie not checking if the root is NONE, because the presence of for loop ensures that \n",
    "    if the list is empty, then the children which are None are not called. In case of binary tree, when we encountered\n",
    "    a leaf node, we called on its left and right child which were None. But, in case of generic tree the for loop will\n",
    "    not run if the node doesnt have any child(ren).\n",
    "    \n",
    "    tHEREFORE, instead of root == None being the root case, the leaf has become the base case. In case of leaf node, \n",
    "    the root.children will be empty hence the for loop wont run. no base case required.\n",
    "    \n",
    "    bUT, for the above function we still need to check root == none <- not as a base case, but as an edge case\n",
    "    if the user inputs -1 as first thing, then the function might crash. (printroot.data) will not be possible.\n",
    "    and will generate an Attribute Error if it is accessed.\"\"\""
   ]
  }
 ],
 "metadata": {
  "kernelspec": {
   "display_name": "Python 3",
   "language": "python",
   "name": "python3"
  },
  "language_info": {
   "codemirror_mode": {
    "name": "ipython",
    "version": 3
   },
   "file_extension": ".py",
   "mimetype": "text/x-python",
   "name": "python",
   "nbconvert_exporter": "python",
   "pygments_lexer": "ipython3",
   "version": "3.8.2"
  }
 },
 "nbformat": 4,
 "nbformat_minor": 4
}
