{
 "cells": [
  {
   "cell_type": "markdown",
   "metadata": {},
   "source": [
    "Given a sorted integer array A of size n, which contains all unique elements.\n",
    "\n",
    "You need to construct a balanced BST from this input array. Return the root of constructed BST.\n",
    "\n",
    "Note: If array size is even, take first mid as root."
   ]
  },
  {
   "cell_type": "markdown",
   "metadata": {},
   "source": [
    "Input format:\n",
    "The first line of input contains an integer, which denotes the value of n. \n",
    "\n",
    "The following line contains n space separated integers, that denote the values of array.\n",
    "\n",
    "\n",
    "Output Format:\n",
    "The first and only line of output contains values of BST nodes, printed in pre order traversal.\n",
    "\n",
    "\n",
    "Constraints:\n",
    "Time Limit: 1 second"
   ]
  },
  {
   "cell_type": "code",
   "execution_count": null,
   "metadata": {},
   "outputs": [],
   "source": [
    "import queue\n",
    "class BinaryTreeNode:\n",
    "    def __init__(self, data):\n",
    "        self.data = data\n",
    "        self.left = None\n",
    "        self.right = None\n",
    "\n",
    "def constructBST(lst):\n",
    "    #not lst means len(lst) == 0. can write it either ways\n",
    "    # if not lst:\n",
    "    #     return None\n",
    "    \n",
    "    #base case:\n",
    "    if len(lst) == 0:\n",
    "        return None\n",
    "    \n",
    "    start = 0\n",
    "    end = len(lst) - 1\n",
    "    mid = (start + end) // 2\n",
    "\n",
    "    #take the middle element and create it as the root node\n",
    "    rootdata = lst[mid]\n",
    "    root = BinaryTreeNode(rootdata)\n",
    "    \n",
    "    #taking the left side of the middle array\n",
    "    #and making a recursive call on the left section\n",
    "    left_side = lst[start:mid]\n",
    "    ls = constructBST(left_side)\n",
    "    \n",
    "    #taking the right side of the middle array\n",
    "    #and making a recursive call on the right section\n",
    "    right_side = lst[mid+1:]\n",
    "    rs = constructBST(right_side)\n",
    "    \n",
    "    #connecting the left and the right subtree to the root\n",
    "    root.left = ls\n",
    "    root.right = rs\n",
    "    \n",
    "    return root\n",
    "    \n",
    "\n",
    "def preOrder(root):\n",
    "    # Given a binary tree, print the preorder traversal of given tree. Pre-order\n",
    "    # traversal is: Root LeftChild RightChild\n",
    "    if root==None:\n",
    "        return\n",
    "    print(root.data, end=' ')\n",
    "    preOrder(root.left)\n",
    "    preOrder(root.right)\n",
    "\n",
    "# Main\n",
    "n=int(input())\n",
    "if(n>0):\n",
    "    lst=[int(i) for i in input().strip().split()]\n",
    "else:\n",
    "    lst=[]\n",
    "root=constructBST(lst)\n",
    "preOrder(root)"
   ]
  },
  {
   "cell_type": "code",
   "execution_count": null,
   "metadata": {},
   "outputs": [],
   "source": [
    "\"\"\"Sample Input 1:\n",
    "7\n",
    "1 2 3 4 5 6 7\n",
    "Sample Output 1:\n",
    "4 2 1 3 6 5 7 \"\"\""
   ]
  }
 ],
 "metadata": {
  "kernelspec": {
   "display_name": "Python 3",
   "language": "python",
   "name": "python3"
  },
  "language_info": {
   "codemirror_mode": {
    "name": "ipython",
    "version": 3
   },
   "file_extension": ".py",
   "mimetype": "text/x-python",
   "name": "python",
   "nbconvert_exporter": "python",
   "pygments_lexer": "ipython3",
   "version": "3.8.2"
  }
 },
 "nbformat": 4,
 "nbformat_minor": 4
}
