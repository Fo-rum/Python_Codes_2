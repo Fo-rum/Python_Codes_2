{
 "cells": [
  {
   "cell_type": "code",
   "execution_count": null,
   "metadata": {},
   "outputs": [],
   "source": [
    "\"\"\"Binary Search tree is designed for efficient and faster search operations.\n",
    "\n",
    "For a binary search tree: for each node with data d its left subtree < d and right subtree >= d\n",
    "It must be true for all the elements\n",
    "Works similar in a Binary Search operation.\"\"\""
   ]
  },
  {
   "cell_type": "markdown",
   "metadata": {},
   "source": [
    "Given a BST and an integer k. \n",
    "\n",
    "Find if the integer k is present in given BST or not. \n",
    "\n",
    "You have to return true, if node with data k is present, return false otherwise.\n",
    "\n",
    "Note: Assume that BST contains all unique elements."
   ]
  },
  {
   "cell_type": "markdown",
   "metadata": {},
   "source": [
    "Input Format:\n",
    "The first line of input contains data of the nodes of the tree in level order form. The data of the nodes of the tree is separated by space. If any node does not have left or right child, take -1 in its place. Since -1 is used as an indication whether the left or right nodes exist, therefore, it will not be a part of the data of any node.   \n",
    "The following line of input contains an integer, that denotes the value of k.\n",
    "\n",
    "Output Format:\n",
    "The first and only line of output contains a boolean value. Print true, if node with data k is present, print false otherwise. \n",
    "\n",
    "Constraints:\n",
    "Time Limit: 1 second"
   ]
  },
  {
   "cell_type": "code",
   "execution_count": null,
   "metadata": {},
   "outputs": [],
   "source": [
    "import queue\n",
    "class BinaryTreeNode:\n",
    "    def __init__(self, data):\n",
    "        self.data = data\n",
    "        self.left = None\n",
    "        self.right = None\n",
    "\n",
    "    #Solution\n",
    "def searchInBST(root, k):\n",
    "    if root == None:\n",
    "        return False\n",
    "    if k == root.data:\n",
    "        return True\n",
    "    elif k < root.data:\n",
    "        return searchInBST(root.left,k)\n",
    "    else:\n",
    "        return searchInBST(root.right,k)\n",
    "\n",
    "def buildLevelTree(levelorder):\n",
    "    index = 0\n",
    "    length = len(levelorder)\n",
    "    if length<=0 or levelorder[0]==-1:\n",
    "        return None\n",
    "    root = BinaryTreeNode(levelorder[index])\n",
    "    index += 1\n",
    "    q = queue.Queue()\n",
    "    q.put(root)\n",
    "    while not q.empty():\n",
    "        currentNode = q.get()\n",
    "        leftChild = levelorder[index]\n",
    "        index += 1\n",
    "        if leftChild != -1:\n",
    "            leftNode = BinaryTreeNode(leftChild)\n",
    "            currentNode.left =leftNode\n",
    "            q.put(leftNode)\n",
    "        rightChild = levelorder[index]\n",
    "        index += 1\n",
    "        if rightChild != -1:\n",
    "            rightNode = BinaryTreeNode(rightChild)\n",
    "            currentNode.right =rightNode\n",
    "            q.put(rightNode)\n",
    "    return root\n",
    "\n",
    "# Main\n",
    "levelOrder = [int(i) for i in input().strip().split()]\n",
    "root = buildLevelTree(levelOrder)\n",
    "k=int(input())\n",
    "ans = searchInBST(root, k)\n",
    "if ans:\n",
    "    print(\"true\")\n",
    "else:\n",
    "    print(\"false\")"
   ]
  },
  {
   "cell_type": "code",
   "execution_count": null,
   "metadata": {},
   "outputs": [],
   "source": [
    "\"\"\"Sample Input 1 :\n",
    "8 5 10 2 6 -1 -1 -1 -1 -1 7 -1 -1\n",
    "2\n",
    "Sample Output 1 :\n",
    "true\n",
    "Sample Input 2 :\n",
    "8 5 10 2 6 -1 -1 -1 -1 -1 7 -1 -1\n",
    "12\n",
    "Sample Output 2 :\n",
    "false\"\"\""
   ]
  }
 ],
 "metadata": {
  "kernelspec": {
   "display_name": "Python 3",
   "language": "python",
   "name": "python3"
  },
  "language_info": {
   "codemirror_mode": {
    "name": "ipython",
    "version": 3
   },
   "file_extension": ".py",
   "mimetype": "text/x-python",
   "name": "python",
   "nbconvert_exporter": "python",
   "pygments_lexer": "ipython3",
   "version": "3.8.2"
  }
 },
 "nbformat": 4,
 "nbformat_minor": 4
}
