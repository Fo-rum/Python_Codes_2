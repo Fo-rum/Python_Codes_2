{
 "cells": [
  {
   "cell_type": "markdown",
   "metadata": {},
   "source": [
    "Given a BST and an integer k. Find and return the path from the node with data k and root (if a node with data k is present in given BST) in a list.\n",
    "\n",
    "Return empty list otherwise.\n",
    "\n",
    "Note: Assume that BST contains all unique elements."
   ]
  },
  {
   "cell_type": "markdown",
   "metadata": {},
   "source": [
    "Input Format :\n",
    "The first line of input contains data of the nodes of the tree in level order form. The data of the nodes of the tree is separated by space. If any node does not have left or right child, take -1 in its place. Since -1 is used as an indication whether the left or right nodes exist, therefore, it will not be a part of the data of any node.   \n",
    "The following line of input contains an integer, that denotes the value of k.\n",
    "\n",
    "Output Format :\n",
    "The first line and only line of output prints the data of the nodes in the path from node k to root. The data of the nodes is separated by single space.\n",
    "\n",
    "Constraints:\n",
    "Time Limit: 1 second"
   ]
  },
  {
   "cell_type": "code",
   "execution_count": null,
   "metadata": {},
   "outputs": [],
   "source": [
    "import queue\n",
    "class BinaryTreeNode:\n",
    "    def __init__(self, data):\n",
    "        self.data = data\n",
    "        self.left = None\n",
    "        self.right = None\n",
    "\n",
    "def findPathBST(root,data):\n",
    "    #empty tree\n",
    "    if root == None:\n",
    "        return None\n",
    "    \n",
    "    #comparing the element with the root data\n",
    "    if root.data == data:\n",
    "        l = list()\n",
    "        l.append(root.data)\n",
    "        return l\n",
    "    \n",
    "    #calling on the left subtree if the element\n",
    "    #dint match with the root data\n",
    "    leftoutput = findPathBST(root.left, data)\n",
    "    \n",
    "    #receiving something from the left subtree and \n",
    "    #appending root data to it\n",
    "    if leftoutput != None:\n",
    "        leftoutput.append(root.data)\n",
    "        return leftoutput\n",
    "    \n",
    "    #element not found in the left subtree so calling\n",
    "    #the function and searching in the right subtree\n",
    "    rightoutput = findPathBST(root.right, data)\n",
    "    \n",
    "    #receiving something from the right subtree and\n",
    "    #appending root data to it\n",
    "    if rightoutput != None:\n",
    "        rightoutput.append(root.data)\n",
    "        return rightoutput\n",
    "    else:\n",
    "        #data not present in either the left or right subtree\n",
    "        #so simply return an empty list\n",
    "        return None\n",
    "\n",
    "\n",
    "def buildLevelTree(levelorder):\n",
    "    index = 0\n",
    "    length = len(levelorder)\n",
    "    if length<=0 or levelorder[0]==-1:\n",
    "        return None\n",
    "    root = BinaryTreeNode(levelorder[index])\n",
    "    index += 1\n",
    "    q = queue.Queue()\n",
    "    q.put(root)\n",
    "    while not q.empty():\n",
    "        currentNode = q.get()\n",
    "        leftChild = levelorder[index]\n",
    "        index += 1\n",
    "        if leftChild != -1:\n",
    "            leftNode = BinaryTreeNode(leftChild)\n",
    "            currentNode.left =leftNode\n",
    "            q.put(leftNode)\n",
    "        rightChild = levelorder[index]\n",
    "        index += 1\n",
    "        if rightChild != -1:\n",
    "            rightNode = BinaryTreeNode(rightChild)\n",
    "            currentNode.right =rightNode\n",
    "            q.put(rightNode)\n",
    "    return root\n",
    "\n",
    "# Main\n",
    "levelOrder = [int(i) for i in input().strip().split()]\n",
    "root = buildLevelTree(levelOrder)\n",
    "data = int(input())\n",
    "path = findPathBST(root,data)\n",
    "if path is not None:\n",
    "    for ele in path:\n",
    "        print(ele,end=' ')"
   ]
  },
  {
   "cell_type": "code",
   "execution_count": null,
   "metadata": {},
   "outputs": [],
   "source": [
    "\"\"\"Sample Input 1:\n",
    "8 5 10 2 6 -1 -1 -1 -1 -1 7 -1 -1\n",
    "2\n",
    "Sample Output 1:\n",
    "2 5 8\"\"\""
   ]
  }
 ],
 "metadata": {
  "kernelspec": {
   "display_name": "Python 3",
   "language": "python",
   "name": "python3"
  },
  "language_info": {
   "codemirror_mode": {
    "name": "ipython",
    "version": 3
   },
   "file_extension": ".py",
   "mimetype": "text/x-python",
   "name": "python",
   "nbconvert_exporter": "python",
   "pygments_lexer": "ipython3",
   "version": "3.8.2"
  }
 },
 "nbformat": 4,
 "nbformat_minor": 4
}
