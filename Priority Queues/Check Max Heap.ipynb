{
 "cells": [
  {
   "cell_type": "markdown",
   "metadata": {},
   "source": [
    "Given an array of integers, check whether it represents max-heap or not.\n",
    "\n",
    "Return true if the given array represents max-heap, else return false."
   ]
  },
  {
   "cell_type": "markdown",
   "metadata": {},
   "source": [
    "Input Format:\n",
    "The first line of input contains an integer, that denotes the value of the size of the array. Let us denote it with the symbol N.\n",
    "\n",
    "The following line contains N space separated integers, that denote the value of the elements of the array.\n",
    "\n",
    "Output Format :\n",
    "The first and only line of output contains true if it represents max-heap and false if it is not a max-heap.\n",
    "\n",
    "Constraints:\n",
    "\n",
    "1 <= N <= 10^5\n",
    "\n",
    "1 <= Ai <= 10^5\n",
    "\n",
    "Time Limit: 1 sec"
   ]
  },
  {
   "cell_type": "code",
   "execution_count": 1,
   "metadata": {},
   "outputs": [
    {
     "name": "stdout",
     "output_type": "stream",
     "text": [
      "8\n",
      "42 20 18 6 14 11 9 4\n",
      "true\n"
     ]
    }
   ],
   "source": [
    "import heapq\n",
    "import copy\n",
    "def checkMaxHeap(lst):\n",
    "    lst2 = copy.copy(lst)\n",
    "    heapq._heapify_max(lst)\n",
    "    if lst == lst2:\n",
    "        return True\n",
    "    else:\n",
    "        return False\n",
    "\n",
    "\n",
    "# Main Code\n",
    "n=int(input())\n",
    "lst=list(int(i) for i in input().strip().split(' '))\n",
    "print('true') if checkMaxHeap(lst) else print('false')"
   ]
  },
  {
   "cell_type": "code",
   "execution_count": null,
   "metadata": {},
   "outputs": [],
   "source": [
    "\"\"\"Sample Input 1:\n",
    "8\n",
    "42 20 18 6 14 11 9 4\n",
    "Sample Output 1:\n",
    "true\n",
    "\n",
    "Sample input2:\n",
    "7\n",
    "1 32 8 92 94 3 9\n",
    "\n",
    "output:\n",
    "false\n",
    "\"\"\""
   ]
  }
 ],
 "metadata": {
  "kernelspec": {
   "display_name": "Python 3",
   "language": "python",
   "name": "python3"
  },
  "language_info": {
   "codemirror_mode": {
    "name": "ipython",
    "version": 3
   },
   "file_extension": ".py",
   "mimetype": "text/x-python",
   "name": "python",
   "nbconvert_exporter": "python",
   "pygments_lexer": "ipython3",
   "version": "3.8.2"
  }
 },
 "nbformat": 4,
 "nbformat_minor": 4
}
