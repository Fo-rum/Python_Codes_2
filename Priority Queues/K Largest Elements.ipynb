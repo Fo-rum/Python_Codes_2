{
 "cells": [
  {
   "cell_type": "markdown",
   "metadata": {},
   "source": [
    "You are given with an integer k and an array of integers that contain numbers in random order. Write a program to find k largest numbers from given array. You need to save them in an array and return it.\n",
    "\n",
    "Time complexity should be O(nlogk) and space complexity should be not more than O(k).\n",
    "\n",
    "Order of elements in the output is not important."
   ]
  },
  {
   "cell_type": "markdown",
   "metadata": {},
   "source": [
    "Input Format :\n",
    "\n",
    "Line 1 : Size of array (n)\n",
    "\n",
    "Line 2 : Array elements (separated by space)\n",
    "\n",
    "Line 3 : Integer k\n",
    "\n",
    "Output Format :\n",
    "\n",
    "k largest elements"
   ]
  },
  {
   "cell_type": "code",
   "execution_count": 1,
   "metadata": {},
   "outputs": [
    {
     "name": "stdout",
     "output_type": "stream",
     "text": [
      "13\n",
      "2 12 9 16 10 5 3 20 25 11 1 8 6 \n",
      "4\n",
      "12\n",
      "16\n",
      "20\n",
      "25\n"
     ]
    }
   ],
   "source": [
    "import heapq\n",
    "def kLargest(lst, k):\n",
    "    heap = lst[:k]\n",
    "    heapq.heapify(heap)\n",
    "    n = len(lst)\n",
    "    for i in range(k,n):\n",
    "        if heap[0] < lst[i]:\n",
    "            heapq.heapreplace(heap,lst[i])\n",
    "    return heap\n",
    "\n",
    "# Main Code\n",
    "n=int(input())\n",
    "lst=list(int(i) for i in input().strip().split(' '))\n",
    "k=int(input())\n",
    "ans=kLargest(lst, k)\n",
    "print(*ans, sep='\\n')\n"
   ]
  },
  {
   "cell_type": "code",
   "execution_count": null,
   "metadata": {},
   "outputs": [],
   "source": [
    "\"\"\"Sample Input :\n",
    "13\n",
    "2 12 9 16 10 5 3 20 25 11 1 8 6 \n",
    "4\n",
    "Sample Output :\n",
    "12\n",
    "16\n",
    "20\n",
    "25\"\"\""
   ]
  }
 ],
 "metadata": {
  "kernelspec": {
   "display_name": "Python 3",
   "language": "python",
   "name": "python3"
  },
  "language_info": {
   "codemirror_mode": {
    "name": "ipython",
    "version": 3
   },
   "file_extension": ".py",
   "mimetype": "text/x-python",
   "name": "python",
   "nbconvert_exporter": "python",
   "pygments_lexer": "ipython3",
   "version": "3.8.2"
  }
 },
 "nbformat": 4,
 "nbformat_minor": 4
}
