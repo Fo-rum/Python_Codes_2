{
 "cells": [
  {
   "cell_type": "code",
   "execution_count": 1,
   "metadata": {},
   "outputs": [
    {
     "name": "stdout",
     "output_type": "stream",
     "text": [
      "[11, 8, 9, 5, 7, 1, 4]\n",
      "11\n",
      "[8, 7, 6, 5, 0, 1, 4]\n"
     ]
    }
   ],
   "source": [
    "import heapq\n",
    "li = [1,5,4,8,7,9,11]\n",
    "heapq._heapify_max(li) #builds a max heap\n",
    "print(li)\n",
    "\n",
    "print(heapq._heappop_max(li)) #pops the maximum element and updates\n",
    "\n",
    "heapq._heapreplace_max(li,0) #replaces the maximum element with 0 and updates the list\n",
    "li.append(6)\n",
    "\n",
    "heapq._siftdown_max(li,0,len(li)-1)\n",
    "print(li)"
   ]
  },
  {
   "cell_type": "code",
   "execution_count": null,
   "metadata": {},
   "outputs": [],
   "source": [
    "\"\"\"def _siftdown_max(heap,startpos, pos) #up heapify functionality\n",
    "\n",
    "def _siftup_max(heap,pos) #down heapify functionality\"\"\""
   ]
  }
 ],
 "metadata": {
  "kernelspec": {
   "display_name": "Python 3",
   "language": "python",
   "name": "python3"
  },
  "language_info": {
   "codemirror_mode": {
    "name": "ipython",
    "version": 3
   },
   "file_extension": ".py",
   "mimetype": "text/x-python",
   "name": "python",
   "nbconvert_exporter": "python",
   "pygments_lexer": "ipython3",
   "version": "3.8.2"
  }
 },
 "nbformat": 4,
 "nbformat_minor": 4
}
