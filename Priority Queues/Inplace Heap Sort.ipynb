{
 "cells": [
  {
   "cell_type": "markdown",
   "metadata": {},
   "source": [
    "Given an integer array of size N. Sort this array (in decreasing order) using heap sort.\n",
    "\n",
    "Note: Space complexity should be O(1)."
   ]
  },
  {
   "cell_type": "markdown",
   "metadata": {},
   "source": [
    "Input Format:\n",
    "The first line of input contains an integer, that denotes the value of the size of the array or N.\n",
    "The following line contains N space separated integers, that denote the value of the elements of the array.\n",
    "\n",
    "Output Format :\n",
    "The first and only line of output contains array elements after sorting. The elements of the array in the output are separated by single space.\n",
    "\n",
    "Constraints :\n",
    "\n",
    "1 <= n <= 10^6\n",
    "\n",
    "Time Limit: 1 sec"
   ]
  },
  {
   "cell_type": "code",
   "execution_count": null,
   "metadata": {},
   "outputs": [],
   "source": [
    "#also known as insort heap code\n",
    "\n",
    "def down_heapify(arr,i,n):\n",
    "    \n",
    "    parentIndex = i\n",
    "    leftChildIndex = 2*parentIndex+1\n",
    "    rightChildIndex = 2*parentIndex+2\n",
    "    \n",
    "    while leftChildIndex < n:\n",
    "        minIndex = parentIndex\n",
    "        if arr[minIndex] > arr[leftChildIndex]:\n",
    "            minIndex = leftChildIndex\n",
    "        if rightChildIndex < n and arr[minIndex] > arr[rightChildIndex]:\n",
    "            minIndex = rightChildIndex\n",
    "        \n",
    "        if minIndex == parentIndex:\n",
    "            return\n",
    "        arr[minIndex], arr[parentIndex] = arr[parentIndex], arr[minIndex]\n",
    "        parentIndex = minIndex\n",
    "        leftChildIndex = 2*parentIndex+1\n",
    "        rightChildIndex = 2*parentIndex+2\n",
    "    return\n",
    "\n",
    "def heapSort(arr):\n",
    "    #Build the heap\n",
    "    n = len(arr)\n",
    "    \n",
    "    #building the heap only using non-leap nodes\n",
    "    for i in range(n//2 -1,-1,-1):\n",
    "        down_heapify(arr,i,n)\n",
    "        \n",
    "    #Removing n elements from the heap and put them at the correct position\n",
    "    for i in range(n-1,0,-1):\n",
    "        arr[0],arr[i] = arr[i], arr[0]\n",
    "        down_heapify(arr,0,i)\n",
    "    return\n",
    "    \n",
    "n = input()\n",
    "arr = [int(ele) for ele in input().split()]\n",
    "heapSort(arr)\n",
    "\n",
    "#to print in reverse order\n",
    "for ele in arr:\n",
    "    print(ele,end=' ')\n",
    "\n",
    "# to print in increasing order\n",
    "# for ele in arr[::-1]:\n",
    "#     print(ele, end='')"
   ]
  },
  {
   "cell_type": "code",
   "execution_count": null,
   "metadata": {},
   "outputs": [],
   "source": [
    "\"\"\"Sample Input 1:\n",
    "6 \n",
    "2 6 8 5 4 3\n",
    "Sample Output 1:\n",
    "8 6 5 4 3 2\"\"\""
   ]
  }
 ],
 "metadata": {
  "kernelspec": {
   "display_name": "Python 3",
   "language": "python",
   "name": "python3"
  },
  "language_info": {
   "codemirror_mode": {
    "name": "ipython",
    "version": 3
   },
   "file_extension": ".py",
   "mimetype": "text/x-python",
   "name": "python",
   "nbconvert_exporter": "python",
   "pygments_lexer": "ipython3",
   "version": "3.8.2"
  }
 },
 "nbformat": 4,
 "nbformat_minor": 4
}
