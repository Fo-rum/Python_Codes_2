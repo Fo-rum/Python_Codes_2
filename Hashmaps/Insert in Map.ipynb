{
 "cells": [
  {
   "cell_type": "code",
   "execution_count": 4,
   "metadata": {},
   "outputs": [
    {
     "name": "stdout",
     "output_type": "stream",
     "text": [
      "2\n"
     ]
    }
   ],
   "source": [
    "class MapNode:\n",
    "    def __init__(self,key,value):\n",
    "        self.key = key\n",
    "        self.value = value\n",
    "        self.next = None\n",
    "\n",
    "class Map:\n",
    "    def __init__(self):\n",
    "        self.bucketSize = 10\n",
    "        \n",
    "        #initialize all the buckets initially with None because no LL present at any index\n",
    "        self.buckets = [None for i in range(self.bucketSize)]\n",
    "        self.count = 0\n",
    "    \n",
    "    def size(self):\n",
    "        return self.count\n",
    "    \n",
    "    #compression function\n",
    "    #1. find the index \n",
    "    #2. hash generates hashcode (it generate +ve and -ve value) but take abs value\n",
    "    #3. %bucketSize\n",
    "    def getBucketIndex(self,hc):\n",
    "        return(abs(hc)%(self.bucketSize))\n",
    "    \n",
    "    #search for the element in the bucket\n",
    "    # if present then update the value for key\n",
    "    def insert(self,key,value):\n",
    "        hc = hash(key)\n",
    "        index = self.getBucketIndex(hc)\n",
    "        head = self.buckets[index]\n",
    "        \n",
    "        #incase the element is present, then just update the value of the key\n",
    "        while head is not None:\n",
    "            if head.key == key:\n",
    "                head.value = value\n",
    "                return\n",
    "            head = head.next\n",
    "        head = self.buckets[index]\n",
    "        \n",
    "        #this step indicates no match found hence we create a new node\n",
    "        newNode = MapNode(key,value)\n",
    "        newNode.next = head\n",
    "        self.buckets[index] = newNode\n",
    "        self.count += 1\n",
    "\n",
    "m = Map()\n",
    "m.insert('Raj',2)\n",
    "m.insert('Rohan',7)\n",
    "m.insert('Raj',3)\n",
    "print(m.size()) "
   ]
  },
  {
   "cell_type": "code",
   "execution_count": null,
   "metadata": {},
   "outputs": [],
   "source": []
  }
 ],
 "metadata": {
  "kernelspec": {
   "display_name": "Python 3",
   "language": "python",
   "name": "python3"
  },
  "language_info": {
   "codemirror_mode": {
    "name": "ipython",
    "version": 3
   },
   "file_extension": ".py",
   "mimetype": "text/x-python",
   "name": "python",
   "nbconvert_exporter": "python",
   "pygments_lexer": "ipython3",
   "version": "3.8.2"
  }
 },
 "nbformat": 4,
 "nbformat_minor": 4
}
