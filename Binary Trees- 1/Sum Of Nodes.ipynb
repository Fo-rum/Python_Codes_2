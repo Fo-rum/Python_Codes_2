{
 "cells": [
  {
   "cell_type": "markdown",
   "metadata": {},
   "source": [
    "For a given Binary Tree of integers, find and return the sum of all the nodes data."
   ]
  },
  {
   "cell_type": "markdown",
   "metadata": {},
   "source": [
    "Input Format:\n",
    "The first and the only line of input will contain the nodes data, all separated by a single space. Since -1 is used as an indication whether the left or right node data exist for root, it will not be a part of the node data.\n",
    "\n",
    "Output Format:\n",
    "The first and the only line of output prints the sum of all the nodes data present in the binary tree.\n",
    "\n",
    "Note:\n",
    "You are not required to print anything explicitly. It has already been taken care of.\n",
    "\n",
    "Constraints:\n",
    "1 <= N <= 10^6\n",
    "\n",
    "Where N is the total number of nodes in the binary tree.\n",
    "\n",
    "Time Limit: 1 sec\n"
   ]
  },
  {
   "cell_type": "code",
   "execution_count": null,
   "metadata": {},
   "outputs": [],
   "source": [
    "from sys import stdin, setrecursionlimit\n",
    "import queue\n",
    "\n",
    "setrecursionlimit(10 ** 6)\n",
    "\n",
    "#Following the structure used for Binary Tree\n",
    "class BinaryTreeNode:\n",
    "    def __init__(self, data):\n",
    "        self.data = data\n",
    "        self.left = None\n",
    "        self.right = None\n",
    "\n",
    "\n",
    "\n",
    "\n",
    "def getSum(root):\n",
    "    if root == None:\n",
    "        return 0\n",
    "    leftsum = getSum(root.left)\n",
    "    rightsum = getSum(root.right)\n",
    "    return leftsum + rightsum + root.data\n",
    "\n",
    "\n",
    "#Taking level-order input using fast I/O method\n",
    "def takeInput():\n",
    "    levelOrder = list(map(int, stdin.readline().strip().split(\" \")))\n",
    "    start = 0\n",
    "\n",
    "    length = len(levelOrder)\n",
    "\n",
    "    root = BinaryTreeNode(levelOrder[start])\n",
    "    start += 1\n",
    "\n",
    "    q = queue.Queue()\n",
    "    q.put(root)\n",
    "\n",
    "    while not q.empty():\n",
    "        currentNode = q.get()\n",
    "\n",
    "        leftChild = levelOrder[start]\n",
    "        start += 1\n",
    "\n",
    "        if leftChild != -1:\n",
    "            leftNode = BinaryTreeNode(leftChild)\n",
    "            currentNode.left =leftNode\n",
    "            q.put(leftNode)\n",
    "\n",
    "        rightChild = levelOrder[start]\n",
    "        start += 1\n",
    "\n",
    "        if rightChild != -1:\n",
    "            rightNode = BinaryTreeNode(rightChild)\n",
    "            currentNode.right =rightNode\n",
    "            q.put(rightNode)\n",
    "\n",
    "    return root\n",
    "\n",
    "# Main\n",
    "root = takeInput()\n",
    "print(getSum(root))"
   ]
  },
  {
   "cell_type": "code",
   "execution_count": null,
   "metadata": {},
   "outputs": [],
   "source": [
    "\"\"\"\n",
    "Sample Input 1:\n",
    "2 3 4 6 -1 -1 -1 -1 -1\n",
    "Sample Output 1:\n",
    " 15\n",
    "Sample Input 2:\n",
    "1 2 3 4 5 6 7 -1 -1 -1 -1 -1 -1 -1 -1\n",
    "Sample Output 2:\n",
    " 28\n",
    "\"\"\""
   ]
  }
 ],
 "metadata": {
  "kernelspec": {
   "display_name": "Python 3",
   "language": "python",
   "name": "python3"
  },
  "language_info": {
   "codemirror_mode": {
    "name": "ipython",
    "version": 3
   },
   "file_extension": ".py",
   "mimetype": "text/x-python",
   "name": "python",
   "nbconvert_exporter": "python",
   "pygments_lexer": "ipython3",
   "version": "3.8.2"
  }
 },
 "nbformat": 4,
 "nbformat_minor": 4
}
