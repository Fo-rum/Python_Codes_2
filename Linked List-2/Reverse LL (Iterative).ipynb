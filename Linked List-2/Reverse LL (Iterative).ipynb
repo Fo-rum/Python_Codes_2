{
 "cells": [
  {
   "cell_type": "markdown",
   "metadata": {},
   "source": [
    "Given a singly linked list of integers, reverse it iteratively and return the head to the modified list.\n",
    "\n",
    "Note :\n",
    "No need to print the list, it has already been taken care. Only return the new head to the list."
   ]
  },
  {
   "cell_type": "markdown",
   "metadata": {},
   "source": [
    "Input format :\n",
    "The first line contains an Integer 't' which denotes the number of test cases or queries to be run. Then the test cases follow.\n",
    "\n",
    "The first and the only line of each test case or query contains the elements of the singly linked list separated by a single space.\n",
    "\n",
    "Remember/Consider :\n",
    "While specifying the list elements for input, -1 indicates the end of the singly linked list and hence, would never be a list element\n",
    "\n",
    "Output format :\n",
    "For each test case/query, print the elements of the updated singly linked list.\n",
    "\n",
    "Output for every test case will be printed in a separate line.\n",
    "\n",
    "Constraints :\n",
    "1 <= t <= 10^2\n",
    "\n",
    "0 <= N <= 10^4\n",
    "\n",
    "Where N is the size of the singly linked list.\n",
    "\n",
    "Time Limit: 1 sec"
   ]
  },
  {
   "cell_type": "code",
   "execution_count": null,
   "metadata": {},
   "outputs": [],
   "source": [
    "class Node:\n",
    "    def __init__(self, data):\n",
    "        self.data = data\n",
    "        self.next = None\n",
    "\n",
    "def reverse(head):\n",
    "    prev = None\n",
    "    curr = head\n",
    "    \n",
    "    while curr is not None:\n",
    "        next = curr.next\n",
    "        curr.next = prev\n",
    "        prev = curr\n",
    "        curr = next\n",
    "    \n",
    "    return prev\n",
    "  \n",
    "\n",
    "def ll(arr):\n",
    "    if len(arr)==0:\n",
    "        return None\n",
    "    head = Node(arr[0])\n",
    "    last = head\n",
    "    for data in arr[1:]:\n",
    "        last.next = Node(data)\n",
    "        last = last.next\n",
    "    return head\n",
    "\n",
    "def printll(head):\n",
    "    while head:\n",
    "        print(head.data, end=' ')\n",
    "        head = head.next\n",
    "    print()\n",
    "\n",
    "# Main\n",
    "# Read the link list elements including -1\n",
    "arr=list(int(i) for i in input().strip().split(' '))\n",
    "# Create a Linked list after removing -1 from list\n",
    "l = ll(arr[:-1])\n",
    "l = reverse(l)\n",
    "printll(l)\n"
   ]
  },
  {
   "cell_type": "code",
   "execution_count": null,
   "metadata": {},
   "outputs": [],
   "source": [
    "\"\"\"\n",
    "Above code not working due to some errors\n",
    "Sample Input 1 :\n",
    "1\n",
    "1 2 3 4 5 6 7 8 -1\n",
    "Sample Output 1 :\n",
    "8 7 6 5 4 3 2 1\n",
    "Sample Input 2 :\n",
    "2\n",
    "10 -1\n",
    "10 20 30 40 50 -1\n",
    "Sample Output 2 :\n",
    "10 \n",
    "50 40 30 20 10 \n",
    "\"\"\""
   ]
  }
 ],
 "metadata": {
  "kernelspec": {
   "display_name": "Python 3",
   "language": "python",
   "name": "python3"
  },
  "language_info": {
   "codemirror_mode": {
    "name": "ipython",
    "version": 3
   },
   "file_extension": ".py",
   "mimetype": "text/x-python",
   "name": "python",
   "nbconvert_exporter": "python",
   "pygments_lexer": "ipython3",
   "version": "3.8.2"
  }
 },
 "nbformat": 4,
 "nbformat_minor": 4
}
