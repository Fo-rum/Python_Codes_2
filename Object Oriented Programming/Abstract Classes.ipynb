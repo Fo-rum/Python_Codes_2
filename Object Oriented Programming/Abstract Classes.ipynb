{
 "cells": [
  {
   "cell_type": "code",
   "execution_count": null,
   "metadata": {},
   "outputs": [],
   "source": [
    "\"\"\"Abstract classes have abstract methods.\n",
    "Abstract methods are declared but have no implementation. They will be implemented by somebody else.\n",
    "\n",
    "Python: Module : abc\n",
    "        class : ABC\n",
    "        function/decorator : abstractmethod\"\"\"\n",
    "\n",
    "\"\"\"Note: 1. iF you have an abstract class which contains abstract methods then you cannot create objects of that class.\n",
    "        ie. Objects cant be instantiated.\n",
    "        \n",
    "      2. IT is mandatory to import ABC class which is the abstract class.\"\"\""
   ]
  },
  {
   "cell_type": "code",
   "execution_count": 1,
   "metadata": {},
   "outputs": [
    {
     "name": "stdout",
     "output_type": "stream",
     "text": [
      "Automobile created\n"
     ]
    }
   ],
   "source": [
    "from abc import ABC, abstractmethod\n",
    "\n",
    "class Automobile(ABC):\n",
    "    def __init__(self):\n",
    "        print(\"Automobile created\")\n",
    "    \n",
    "    def start(self):\n",
    "        pass\n",
    "    \n",
    "    def stop(self):\n",
    "        pass\n",
    "    \n",
    "    def drive(self):\n",
    "        pass\n",
    "\n",
    "c = Automobile()"
   ]
  },
  {
   "cell_type": "code",
   "execution_count": 2,
   "metadata": {},
   "outputs": [
    {
     "ename": "TypeError",
     "evalue": "Can't instantiate abstract class Automobile with abstract methods drive, start, stop",
     "output_type": "error",
     "traceback": [
      "\u001b[0;31m---------------------------------------------------------------------------\u001b[0m",
      "\u001b[0;31mTypeError\u001b[0m                                 Traceback (most recent call last)",
      "\u001b[0;32m<ipython-input-2-6c46cdeef021>\u001b[0m in \u001b[0;36m<module>\u001b[0;34m\u001b[0m\n\u001b[1;32m     17\u001b[0m         \u001b[0;32mpass\u001b[0m\u001b[0;34m\u001b[0m\u001b[0;34m\u001b[0m\u001b[0m\n\u001b[1;32m     18\u001b[0m \u001b[0;34m\u001b[0m\u001b[0m\n\u001b[0;32m---> 19\u001b[0;31m \u001b[0mc\u001b[0m \u001b[0;34m=\u001b[0m \u001b[0mAutomobile\u001b[0m\u001b[0;34m(\u001b[0m\u001b[0;34m)\u001b[0m\u001b[0;34m\u001b[0m\u001b[0;34m\u001b[0m\u001b[0m\n\u001b[0m",
      "\u001b[0;31mTypeError\u001b[0m: Can't instantiate abstract class Automobile with abstract methods drive, start, stop"
     ]
    }
   ],
   "source": [
    "#Errors raised because cant instantiate abstract methods\n",
    "\n",
    "from abc import ABC, abstractmethod\n",
    "\n",
    "class Automobile(ABC):\n",
    "    def __init__(self):\n",
    "        print(\"Automobile created\")\n",
    "    \n",
    "    @abstractmethod\n",
    "    def start(self):\n",
    "        pass\n",
    "    \n",
    "    @abstractmethod\n",
    "    def stop(self):\n",
    "        pass\n",
    "    \n",
    "    @abstractmethod\n",
    "    def drive(self):\n",
    "        pass\n",
    "\n",
    "c = Automobile()"
   ]
  },
  {
   "cell_type": "code",
   "execution_count": null,
   "metadata": {},
   "outputs": [],
   "source": []
  }
 ],
 "metadata": {
  "kernelspec": {
   "display_name": "Python 3",
   "language": "python",
   "name": "python3"
  },
  "language_info": {
   "codemirror_mode": {
    "name": "ipython",
    "version": 3
   },
   "file_extension": ".py",
   "mimetype": "text/x-python",
   "name": "python",
   "nbconvert_exporter": "python",
   "pygments_lexer": "ipython3",
   "version": "3.8.2"
  }
 },
 "nbformat": 4,
 "nbformat_minor": 4
}
