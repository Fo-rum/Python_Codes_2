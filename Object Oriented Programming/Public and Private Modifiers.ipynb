{
 "cells": [
  {
   "cell_type": "code",
   "execution_count": 1,
   "metadata": {},
   "outputs": [
    {
     "name": "stdout",
     "output_type": "stream",
     "text": [
      "Pai\n",
      "rohan\n"
     ]
    }
   ],
   "source": [
    "#PUBLIC MODIFIER\n",
    "class Student:\n",
    "    \n",
    "    #instance method which requires the self object\n",
    "    def __init__(self,name,age=15, percentage=80):\n",
    "        self.name = name\n",
    "        self.age= age\n",
    "        self.percentage = percentage\n",
    "        \n",
    "s = Student(\"Pai\")\n",
    "print(s.name)\n",
    "\n",
    "s = Student(\"rohan\")\n",
    "print(s.name) #here changing and accesing the attributes outside is allowed"
   ]
  },
  {
   "cell_type": "code",
   "execution_count": 11,
   "metadata": {},
   "outputs": [
    {
     "name": "stdout",
     "output_type": "stream",
     "text": [
      "Name =  rohan\n",
      "Age =  15\n",
      "% =  80\n"
     ]
    }
   ],
   "source": [
    "#PRIVATE MODIFIER\n",
    "class Student:\n",
    "    \n",
    "    #instance method which requires the self object\n",
    "    def __init__(self,name,age=15, percentage=80):\n",
    "        self.__name = name\n",
    "        self.age= age\n",
    "        self.percentage = percentage\n",
    "        \n",
    "    def StudentDetails(self):\n",
    "        print(\"Name = \", self.__name)\n",
    "        print(\"Age = \", self.age)\n",
    "        print(\"% = \", self.percentage)\n",
    "\n",
    "s1 = Student(\"rohan\")\n",
    "# print(s1.__name) #throw an attribute error\n",
    "# s1.name = \"pari\" #throw an attribute error\n",
    "\n",
    "s1.StudentDetails() #this wont throw an error and can be accessed using a function\n",
    "\n"
   ]
  },
  {
   "cell_type": "code",
   "execution_count": null,
   "metadata": {},
   "outputs": [],
   "source": [
    "\"\"\"Private modifiers are private access variables. They are used to prevent the change of values of particular attributes.\n",
    "Private variables cant be accessed outside the class functions.\n",
    "Private variables can be accessed within the class.\"\"\""
   ]
  },
  {
   "cell_type": "code",
   "execution_count": 19,
   "metadata": {},
   "outputs": [
    {
     "name": "stdout",
     "output_type": "stream",
     "text": [
      "80\n",
      "80\n"
     ]
    }
   ],
   "source": [
    "# NOTE: Python allows the private variables to be accessed outside the class. but such practice should be refrained from developers.\n",
    "# The concept is known as Name Mangling.\n",
    "\n",
    "class Student:\n",
    "    \n",
    "    #instance method which requires the self object\n",
    "    \n",
    "    __passingPercentage = 80\n",
    "    \n",
    "    def __init__(self,name,age=15, percentage=80):\n",
    "        self.__name = name\n",
    "        self.age= age\n",
    "        self.percentage = percentage\n",
    "        \n",
    "    def StudentDetails(self):\n",
    "        print(\"Name = \", self.__name)\n",
    "        print(\"Age = \", self.age)\n",
    "        print(\"% = \", self.percentage)\n",
    "\n",
    "s1 = Student(\"rohan\")\n",
    "\n",
    "#it can be accessed like:\n",
    "# object._classname__variablename\n",
    "\n",
    "# print(s1.passingPercentage) #Attribute error\n",
    "# print(s1.__passingPercentage) #Attribute error\n",
    "\n",
    "print(s1._Student__passingPercentage) #allowed\n",
    "print(Student._Student__passingPercentage) #allowed"
   ]
  }
 ],
 "metadata": {
  "kernelspec": {
   "display_name": "Python 3",
   "language": "python",
   "name": "python3"
  },
  "language_info": {
   "codemirror_mode": {
    "name": "ipython",
    "version": 3
   },
   "file_extension": ".py",
   "mimetype": "text/x-python",
   "name": "python",
   "nbconvert_exporter": "python",
   "pygments_lexer": "ipython3",
   "version": "3.8.2"
  }
 },
 "nbformat": 4,
 "nbformat_minor": 4
}
