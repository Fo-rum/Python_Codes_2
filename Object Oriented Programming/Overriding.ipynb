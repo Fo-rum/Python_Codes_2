{
 "cells": [
  {
   "cell_type": "code",
   "execution_count": null,
   "metadata": {},
   "outputs": [],
   "source": [
    "\"\"\"Note: By default, every class inherits from a object class\n",
    "Object class has 3 methods:\n",
    "    1. __new__\n",
    "    2. __init__\n",
    "    3. __str__\"\"\""
   ]
  },
  {
   "cell_type": "code",
   "execution_count": 2,
   "metadata": {},
   "outputs": [
    {
     "name": "stdout",
     "output_type": "stream",
     "text": [
      "this is a circle class\n"
     ]
    }
   ],
   "source": [
    "class Circle(object):\n",
    "    \n",
    "    def __init__(self,radius):\n",
    "        self.__radius = radius\n",
    "    \n",
    "    #here we are overriding the default str method\n",
    "    def __str__(self):\n",
    "        return \"this is a circle class\"\n",
    "    \n",
    "c = Circle(3)\n",
    "print(c) #normally without the str method, it would just print the object's location in the memory\n",
    "#but since we have done overridingm it would then print the required string."
   ]
  }
 ],
 "metadata": {
  "kernelspec": {
   "display_name": "Python 3",
   "language": "python",
   "name": "python3"
  },
  "language_info": {
   "codemirror_mode": {
    "name": "ipython",
    "version": 3
   },
   "file_extension": ".py",
   "mimetype": "text/x-python",
   "name": "python",
   "nbconvert_exporter": "python",
   "pygments_lexer": "ipython3",
   "version": "3.8.2"
  }
 },
 "nbformat": 4,
 "nbformat_minor": 4
}
