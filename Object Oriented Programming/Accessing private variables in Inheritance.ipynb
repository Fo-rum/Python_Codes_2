{
 "cells": [
  {
   "cell_type": "code",
   "execution_count": 1,
   "metadata": {},
   "outputs": [
    {
     "ename": "AttributeError",
     "evalue": "'Car' object has no attribute 'maxspeed'",
     "output_type": "error",
     "traceback": [
      "\u001b[0;31m---------------------------------------------------------------------------\u001b[0m",
      "\u001b[0;31mAttributeError\u001b[0m                            Traceback (most recent call last)",
      "\u001b[0;32m<ipython-input-1-ad18edfc9057>\u001b[0m in \u001b[0;36m<module>\u001b[0;34m\u001b[0m\n\u001b[1;32m     16\u001b[0m \u001b[0;34m\u001b[0m\u001b[0m\n\u001b[1;32m     17\u001b[0m \u001b[0mc\u001b[0m \u001b[0;34m=\u001b[0m \u001b[0mCar\u001b[0m\u001b[0;34m(\u001b[0m\u001b[0;34m\"red\"\u001b[0m\u001b[0;34m,\u001b[0m \u001b[0;36m15\u001b[0m\u001b[0;34m,\u001b[0m \u001b[0;36m3\u001b[0m\u001b[0;34m,\u001b[0m \u001b[0;32mTrue\u001b[0m\u001b[0;34m)\u001b[0m\u001b[0;34m\u001b[0m\u001b[0;34m\u001b[0m\u001b[0m\n\u001b[0;32m---> 18\u001b[0;31m \u001b[0mc\u001b[0m\u001b[0;34m.\u001b[0m\u001b[0mprintCar\u001b[0m\u001b[0;34m(\u001b[0m\u001b[0;34m)\u001b[0m\u001b[0;34m\u001b[0m\u001b[0;34m\u001b[0m\u001b[0m\n\u001b[0m",
      "\u001b[0;32m<ipython-input-1-ad18edfc9057>\u001b[0m in \u001b[0;36mprintCar\u001b[0;34m(self)\u001b[0m\n\u001b[1;32m     13\u001b[0m \u001b[0;34m\u001b[0m\u001b[0m\n\u001b[1;32m     14\u001b[0m     \u001b[0;32mdef\u001b[0m \u001b[0mprintCar\u001b[0m\u001b[0;34m(\u001b[0m\u001b[0mself\u001b[0m\u001b[0;34m)\u001b[0m\u001b[0;34m:\u001b[0m\u001b[0;34m\u001b[0m\u001b[0;34m\u001b[0m\u001b[0m\n\u001b[0;32m---> 15\u001b[0;31m         \u001b[0mprint\u001b[0m\u001b[0;34m(\u001b[0m\u001b[0;34m\"Maxspeed: \"\u001b[0m\u001b[0;34m,\u001b[0m \u001b[0mself\u001b[0m\u001b[0;34m.\u001b[0m\u001b[0mmaxspeed\u001b[0m\u001b[0;34m)\u001b[0m\u001b[0;34m\u001b[0m\u001b[0;34m\u001b[0m\u001b[0m\n\u001b[0m\u001b[1;32m     16\u001b[0m \u001b[0;34m\u001b[0m\u001b[0m\n\u001b[1;32m     17\u001b[0m \u001b[0mc\u001b[0m \u001b[0;34m=\u001b[0m \u001b[0mCar\u001b[0m\u001b[0;34m(\u001b[0m\u001b[0;34m\"red\"\u001b[0m\u001b[0;34m,\u001b[0m \u001b[0;36m15\u001b[0m\u001b[0;34m,\u001b[0m \u001b[0;36m3\u001b[0m\u001b[0;34m,\u001b[0m \u001b[0;32mTrue\u001b[0m\u001b[0;34m)\u001b[0m\u001b[0;34m\u001b[0m\u001b[0;34m\u001b[0m\u001b[0m\n",
      "\u001b[0;31mAttributeError\u001b[0m: 'Car' object has no attribute 'maxspeed'"
     ]
    }
   ],
   "source": [
    "class Vehicle:\n",
    "    def __init__(self,color,maxspeed):\n",
    "        self.color = color\n",
    "        self.__maxspeed = maxspeed #this can only be accessed by vehicle class functions\n",
    "    \n",
    "class Car(Vehicle):\n",
    "    def __init__(self,color,maxspeed,numGears,isConvertible):\n",
    "        \n",
    "        #to access the variables and the functions of the parent class\n",
    "        super().__init__(color,maxspeed)\n",
    "        self.numGears = numGears\n",
    "        self.isConvertible = isConvertible\n",
    "        \n",
    "    def printCar(self):\n",
    "        print(\"Maxspeed: \", self.maxspeed)\n",
    "\n",
    "c = Car(\"red\", 15, 3, True)\n",
    "c.printCar()\n",
    "\n",
    "#Here an error is thrown because the Car class is trying to access a private variable of Vehicle class"
   ]
  },
  {
   "cell_type": "code",
   "execution_count": 4,
   "metadata": {},
   "outputs": [
    {
     "name": "stdout",
     "output_type": "stream",
     "text": [
      "Maxspeed:  15\n",
      "color:  red\n",
      "num gears: 3\n"
     ]
    }
   ],
   "source": [
    "#the above Error can be resolved by using functions (getters & setters)\n",
    "class Vehicle:\n",
    "    def __init__(self,color,maxspeed):\n",
    "        self.color = color\n",
    "        self.__maxspeed = maxspeed #this can only be accessed by vehicle class functions\n",
    "    \n",
    "    #getter\n",
    "    def getMaxSpeed(self):\n",
    "        return self.__maxspeed\n",
    "    \n",
    "    #setter\n",
    "    def setMaxSpeed(self, maxspeed):\n",
    "        self.__maxspeed = maxspeed\n",
    "        \n",
    "class Car(Vehicle):\n",
    "    def __init__(self,color,maxspeed,numGears,isConvertible):\n",
    "        \n",
    "        #to access the variables and the functions of the parent class\n",
    "        super().__init__(color,maxspeed)\n",
    "        self.numGears = numGears\n",
    "        self.isConvertible = isConvertible\n",
    "        \n",
    "    def printCar(self):\n",
    "        print(\"Maxspeed: \", self.getMaxSpeed()) #the change is that the task should be done by the parent class itself.\n",
    "        # So, there must be a print function in the parent class that will be called by the child class.\n",
    "        \n",
    "        print(\"color: \", self.color)\n",
    "        print(\"num gears:\" , self.numGears)\n",
    "\n",
    "c = Car(\"red\", 15, 3, True)\n",
    "c.printCar()"
   ]
  },
  {
   "cell_type": "code",
   "execution_count": 8,
   "metadata": {},
   "outputs": [
    {
     "name": "stdout",
     "output_type": "stream",
     "text": [
      "color:  red\n",
      "maxspeed:  15\n",
      "num gears: 3\n"
     ]
    }
   ],
   "source": [
    "class Vehicle:\n",
    "    def __init__(self,color,maxspeed):\n",
    "        self.color = color\n",
    "        self.__maxspeed = maxspeed #this can only be accessed by vehicle class functions\n",
    "    \n",
    "    #getter\n",
    "    def getMaxSpeed(self):\n",
    "        return self.__maxspeed\n",
    "    \n",
    "    #setter\n",
    "    def setMaxSpeed(self, maxspeed):\n",
    "        self.__maxspeed = maxspeed\n",
    "    \n",
    "    def print(self):\n",
    "        print(\"color: \", self.color)\n",
    "        print(\"maxspeed: \", self.__maxspeed)\n",
    "        \n",
    "class Car(Vehicle):\n",
    "    def __init__(self,color,maxspeed,numGears,isConvertible):\n",
    "        \n",
    "        #to access the variables and the functions of the parent class\n",
    "        super().__init__(color,maxspeed)\n",
    "        self.numGears = numGears\n",
    "        self.isConvertible = isConvertible\n",
    "        \n",
    "    def printCar(self):\n",
    "        super().print()  #this line can also be written like self.print()\n",
    "        #self.print()   #this is because the child class inherits the functions of the parent class too\n",
    "        print(\"num gears:\" , self.numGears)\n",
    "\n",
    "c = Car(\"red\", 15, 3, True)\n",
    "c.printCar()"
   ]
  }
 ],
 "metadata": {
  "kernelspec": {
   "display_name": "Python 3",
   "language": "python",
   "name": "python3"
  },
  "language_info": {
   "codemirror_mode": {
    "name": "ipython",
    "version": 3
   },
   "file_extension": ".py",
   "mimetype": "text/x-python",
   "name": "python",
   "nbconvert_exporter": "python",
   "pygments_lexer": "ipython3",
   "version": "3.8.2"
  }
 },
 "nbformat": 4,
 "nbformat_minor": 4
}
