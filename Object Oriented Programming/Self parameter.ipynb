{
 "cells": [
  {
   "cell_type": "code",
   "execution_count": null,
   "metadata": {},
   "outputs": [],
   "source": [
    "class Student:\n",
    "    def StudentDetails(self):\n",
    "        self.name = 'Orisa' #this is an instance variable attribute\n",
    "        self.percentage = 80\n",
    "        \n",
    "#Note: the instance variable attribute is accessible till the lifespan of the instance (object)"
   ]
  },
  {
   "cell_type": "code",
   "execution_count": 13,
   "metadata": {},
   "outputs": [
    {
     "name": "stdout",
     "output_type": "stream",
     "text": [
      "rohan\n",
      "pass\n",
      "rohan\n"
     ]
    }
   ],
   "source": [
    "#THE SELF PARAMETER\n",
    "# It is used for instance method\n",
    "# Used for the creation of instance variables and methods\n",
    "\n",
    "class Student:\n",
    "    passing_percentage = 40 #class variable\n",
    "    \n",
    "    def StudentDetails(self):\n",
    "        self.name = \"rohan\"\n",
    "        self.percentage = 80\n",
    "    \n",
    "    def isPassed(self):\n",
    "        if self.percentage > Student.passing_percentage:\n",
    "            print(\"pass\")\n",
    "        else:\n",
    "            print(\"not pass\")\n",
    "        \n",
    "s1 = Student() #creating an instance of the class\n",
    "s1.StudentDetails()\n",
    "\n",
    "#classname.function(object_name)\n",
    "Student.StudentDetails(s1)\n",
    "\n",
    "print(s1.name)\n",
    "\n",
    "s1.isPassed()\n",
    "\n",
    "#creating multiple instances of the class\n",
    "s2 = Student()\n",
    "s2.StudentDetails()\n",
    "print(s2.name)"
   ]
  },
  {
   "cell_type": "code",
   "execution_count": null,
   "metadata": {},
   "outputs": [],
   "source": []
  }
 ],
 "metadata": {
  "kernelspec": {
   "display_name": "Python 3",
   "language": "python",
   "name": "python3"
  },
  "language_info": {
   "codemirror_mode": {
    "name": "ipython",
    "version": 3
   },
   "file_extension": ".py",
   "mimetype": "text/x-python",
   "name": "python",
   "nbconvert_exporter": "python",
   "pygments_lexer": "ipython3",
   "version": "3.8.2"
  }
 },
 "nbformat": 4,
 "nbformat_minor": 4
}
