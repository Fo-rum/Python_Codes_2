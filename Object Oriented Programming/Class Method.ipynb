{
 "cells": [
  {
   "cell_type": "code",
   "execution_count": 7,
   "metadata": {},
   "outputs": [
    {
     "name": "stdout",
     "output_type": "stream",
     "text": [
      "Name =  rohan\n",
      "Age =  25\n",
      "% =  70\n",
      "\n",
      "True\n"
     ]
    }
   ],
   "source": [
    "#The class method is known as a factory method and they return the object of the class\n",
    "\n",
    "from datetime import date\n",
    "class Student:\n",
    "    \n",
    "    #instance method which requires the self object\n",
    "    def __init__(self,name,age=15, percentage=80):\n",
    "        self.name = name\n",
    "        self.age= age\n",
    "        self.percentage = percentage\n",
    "    \n",
    "    @classmethod\n",
    "    def fromBirthYear(cls,name,year,percentage):\n",
    "        return cls(name, date.today().year-year, percentage)\n",
    "    \n",
    "    def StudentDetails(self):\n",
    "        print(\"Name = \", self.name)\n",
    "        print(\"Age = \", self.age)\n",
    "        print(\"% = \", self.percentage)\n",
    "    \n",
    "    @staticmethod\n",
    "    def isTeen(age):\n",
    "        return age>16\n",
    "\n",
    "#here the class method is called and not the init function\n",
    "s1 = Student.fromBirthYear(\"rohan\", 1996,70)\n",
    "s1.StudentDetails()\n",
    "\n",
    "print()\n",
    "\n",
    "#calling the static method\n",
    "a = Student.isTeen(18)\n",
    "print(a)"
   ]
  },
  {
   "cell_type": "code",
   "execution_count": null,
   "metadata": {},
   "outputs": [],
   "source": []
  }
 ],
 "metadata": {
  "kernelspec": {
   "display_name": "Python 3",
   "language": "python",
   "name": "python3"
  },
  "language_info": {
   "codemirror_mode": {
    "name": "ipython",
    "version": 3
   },
   "file_extension": ".py",
   "mimetype": "text/x-python",
   "name": "python",
   "nbconvert_exporter": "python",
   "pygments_lexer": "ipython3",
   "version": "3.8.2"
  }
 },
 "nbformat": 4,
 "nbformat_minor": 4
}
