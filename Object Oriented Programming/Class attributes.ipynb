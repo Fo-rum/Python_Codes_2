{
 "cells": [
  {
   "cell_type": "code",
   "execution_count": 1,
   "metadata": {},
   "outputs": [
    {
     "name": "stdout",
     "output_type": "stream",
     "text": [
      "70\n",
      "80\n"
     ]
    }
   ],
   "source": [
    "class Student:\n",
    "    PP = 80 #this is a class attribute\n",
    "\n",
    "\n",
    "s1 = Student() #creating instances of a class\n",
    "s2 = Student()\n",
    "\n",
    "s1.name = \"Roty\"\n",
    "s2.age = 25\n",
    "\n",
    "s1.PP = 70\n",
    "\n",
    "#in this condition, first it looks for instance attribute, if not present then it will look for class attribute\n",
    "print(s1.PP) \n",
    "print(s2.PP)"
   ]
  }
 ],
 "metadata": {
  "kernelspec": {
   "display_name": "Python 3",
   "language": "python",
   "name": "python3"
  },
  "language_info": {
   "codemirror_mode": {
    "name": "ipython",
    "version": 3
   },
   "file_extension": ".py",
   "mimetype": "text/x-python",
   "name": "python",
   "nbconvert_exporter": "python",
   "pygments_lexer": "ipython3",
   "version": "3.8.2"
  }
 },
 "nbformat": 4,
 "nbformat_minor": 4
}
