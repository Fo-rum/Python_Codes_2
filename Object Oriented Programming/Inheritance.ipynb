{
 "cells": [
  {
   "cell_type": "code",
   "execution_count": 3,
   "metadata": {},
   "outputs": [
    {
     "name": "stdout",
     "output_type": "stream",
     "text": [
      "Color:  red\n",
      "Maxspeed:  15\n",
      "Num of Gears:  3\n",
      "IsConvertible:  True\n"
     ]
    }
   ],
   "source": [
    "#Inheritance is used to avoid code repetition\n",
    "\n",
    "#Parent Class\n",
    "class Vehicle:\n",
    "    def __init__(self,color,maxspeed):\n",
    "        self.color = color\n",
    "        self.maxspeed = maxspeed\n",
    "        \n",
    "#Child class\n",
    "class Car(Vehicle):\n",
    "    def __init__(self,color,maxspeed,numGears,isConvertible):\n",
    "        \n",
    "        #to access the variables and the functions of the parent class\n",
    "        super().__init__(color,maxspeed)\n",
    "        self.numGears = numGears\n",
    "        self.isConvertible = isConvertible\n",
    "        \n",
    "    def printCar(self):\n",
    "        print(\"Color: \", self.color)\n",
    "        print(\"Maxspeed: \", self.maxspeed)\n",
    "        print(\"Num of Gears: \", self.numGears)\n",
    "        print(\"IsConvertible: \", self.isConvertible)\n",
    "    \n",
    "c = Car(\"red\", 15, 3, True)\n",
    "c.printCar()"
   ]
  }
 ],
 "metadata": {
  "kernelspec": {
   "display_name": "Python 3",
   "language": "python",
   "name": "python3"
  },
  "language_info": {
   "codemirror_mode": {
    "name": "ipython",
    "version": 3
   },
   "file_extension": ".py",
   "mimetype": "text/x-python",
   "name": "python",
   "nbconvert_exporter": "python",
   "pygments_lexer": "ipython3",
   "version": "3.8.2"
  }
 },
 "nbformat": 4,
 "nbformat_minor": 4
}
