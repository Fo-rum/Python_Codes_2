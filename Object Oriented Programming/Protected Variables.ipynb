{
 "cells": [
  {
   "cell_type": "code",
   "execution_count": 2,
   "metadata": {},
   "outputs": [
    {
     "name": "stdout",
     "output_type": "stream",
     "text": [
      "Red\n",
      "18\n",
      "Red\n",
      "19\n"
     ]
    }
   ],
   "source": [
    "#Protected variable - single underscore -> _variablename\n",
    "#Private variable - double underscore -> __variablename\n",
    "\n",
    "class Vehicle:\n",
    "    def __init__(self,color,maxspeed):\n",
    "        self.color = color\n",
    "        self._maxspeed = maxspeed #this can only be accessed by vehicle class functions\n",
    "    \n",
    "    #getter\n",
    "    def getMaxSpeed(self):\n",
    "        return self._maxspeed\n",
    "    \n",
    "    #setter\n",
    "    def setMaxSpeed(self, maxspeed):\n",
    "        self._maxspeed = maxspeed\n",
    "    \n",
    "    def print(self):\n",
    "        print(self.color)\n",
    "        print(self._maxspeed)\n",
    "    \n",
    "class Car(Vehicle):\n",
    "    def __init__(self,color,maxspeed,numGears,isConvertible):\n",
    "        \n",
    "        #to access the variables and the functions of the parent class\n",
    "        super().__init__(color,maxspeed)\n",
    "        self.numGears = numGears\n",
    "        self.isConvertible = isConvertible\n",
    "        \n",
    "        def print(self):\n",
    "            print(self._maxspeed)\n",
    "\n",
    "v = Vehicle(\"Red\", 18)\n",
    "v.print()\n",
    "\n",
    "v._maxspeed = 19 #here the access allowed because of a protected variable\n",
    "v.print()\n",
    "\n",
    "#Incase of private variable, cant access/modify, we can only call via function"
   ]
  }
 ],
 "metadata": {
  "kernelspec": {
   "display_name": "Python 3",
   "language": "python",
   "name": "python3"
  },
  "language_info": {
   "codemirror_mode": {
    "name": "ipython",
    "version": 3
   },
   "file_extension": ".py",
   "mimetype": "text/x-python",
   "name": "python",
   "nbconvert_exporter": "python",
   "pygments_lexer": "ipython3",
   "version": "3.8.2"
  }
 },
 "nbformat": 4,
 "nbformat_minor": 4
}
