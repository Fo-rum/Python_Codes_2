{
 "cells": [
  {
   "cell_type": "code",
   "execution_count": 3,
   "metadata": {},
   "outputs": [
    {
     "name": "stdout",
     "output_type": "stream",
     "text": [
      "ajay\n",
      "\n",
      "[<class '__main__.Child'>, <class '__main__.Mother'>, <class '__main__.Father'>, <class 'object'>]\n"
     ]
    }
   ],
   "source": [
    "class Mother:\n",
    "    \n",
    "    def __init__(self):\n",
    "        self.name = \"manju\"\n",
    "        super().__init__()\n",
    "        \n",
    "    def print(self):\n",
    "        print(\"Print of mother called\")\n",
    "\n",
    "class Father:\n",
    "    \n",
    "    def __init__(self):\n",
    "        self.name = \"ajay\"\n",
    "        \n",
    "    def print(self):\n",
    "        print(\"Print of father called\")\n",
    "        \n",
    "class Child(Mother,Father):\n",
    "    \n",
    "    def __init__(self):\n",
    "        super().__init__()\n",
    "        \n",
    "    def print(self):\n",
    "        print(self.name)\n",
    "\n",
    "c = Child()\n",
    "c.print()\n",
    "\n",
    "print()\n",
    "\n",
    "print(Child.mro()) #Prints the order in which it will be accessed. object is the superclass."
   ]
  },
  {
   "cell_type": "code",
   "execution_count": null,
   "metadata": {},
   "outputs": [],
   "source": [
    "\"\"\"Explanation of the above output\n",
    "c.print() will access the init method of Child class. Then it will call the super class init method which is Mother.\n",
    "Child.name = manju\n",
    "Again, that calls super method which is Father. So now child name = Ajay. \n",
    "hence output will be ajay and not manju.\n",
    "\n",
    "Note: If the father class also would have super() in its init method. then call would be made to the Object class.\n",
    "    Object class is the superclass. So there will be no change. and output will remain AJay.\"\"\""
   ]
  }
 ],
 "metadata": {
  "kernelspec": {
   "display_name": "Python 3",
   "language": "python",
   "name": "python3"
  },
  "language_info": {
   "codemirror_mode": {
    "name": "ipython",
    "version": 3
   },
   "file_extension": ".py",
   "mimetype": "text/x-python",
   "name": "python",
   "nbconvert_exporter": "python",
   "pygments_lexer": "ipython3",
   "version": "3.8.2"
  }
 },
 "nbformat": 4,
 "nbformat_minor": 4
}
