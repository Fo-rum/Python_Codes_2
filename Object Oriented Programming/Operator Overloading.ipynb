{
 "cells": [
  {
   "cell_type": "code",
   "execution_count": null,
   "metadata": {},
   "outputs": [],
   "source": [
    "\"\"\"Operator Overloading the default functions to make sure that the new class and its attributes show the output that you want.\n",
    "\n",
    "Python provides the functionalities to override some functions such as __str__, __add__, __sub(self,object)__ etc\n",
    "\"\"\""
   ]
  },
  {
   "cell_type": "code",
   "execution_count": 1,
   "metadata": {},
   "outputs": [
    {
     "name": "stdout",
     "output_type": "stream",
     "text": [
      "this point is at ( 4, 6)\n",
      "True\n"
     ]
    }
   ],
   "source": [
    "\n",
    "import math\n",
    "class Point:\n",
    "    def __init__ (self,x,y):\n",
    "        self.__x = x\n",
    "        self.__y = y\n",
    "    \n",
    "    def __str__(self):\n",
    "        return \"this point is at ( \" + str(self.__x) + \", \" + str(self.__y) + \")\"\n",
    "    \n",
    "    #Overriding the existing add function and making a new Point object\n",
    "    def __add__(self,point_object):\n",
    "        return Point(self.__x+point_object.__x ,self.__y+point_object.__y)\n",
    "    \n",
    "    #this will compare the two points and will return a Boolean object\n",
    "    #Calculating the distance from 0,0 and root of x square + y square\n",
    "    def __lt__(self,point_object):\n",
    "        return math.sqrt(self.__x**2 + self.__y**2) < math.sqrt(point_object.__x**2 + point_object.__y**2)\n",
    "    \n",
    "p1 = Point(1,2)\n",
    "p2 = Point(3,4)\n",
    "p3 = p1 + p2\n",
    "print(p3)\n",
    "print(p1<p2)"
   ]
  }
 ],
 "metadata": {
  "kernelspec": {
   "display_name": "Python 3",
   "language": "python",
   "name": "python3"
  },
  "language_info": {
   "codemirror_mode": {
    "name": "ipython",
    "version": 3
   },
   "file_extension": ".py",
   "mimetype": "text/x-python",
   "name": "python",
   "nbconvert_exporter": "python",
   "pygments_lexer": "ipython3",
   "version": "3.8.2"
  }
 },
 "nbformat": 4,
 "nbformat_minor": 4
}
