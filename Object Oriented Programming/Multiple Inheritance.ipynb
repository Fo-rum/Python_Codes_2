{
 "cells": [
  {
   "cell_type": "code",
   "execution_count": 4,
   "metadata": {},
   "outputs": [
    {
     "name": "stdout",
     "output_type": "stream",
     "text": [
      "name of child is:  rohan\n",
      "Print of mother called\n"
     ]
    }
   ],
   "source": [
    "#Multiple Inheritance means that the child class inherits all the properties of base class 1 & base class 2\n",
    "class Mother:\n",
    "    def print(self):\n",
    "        print(\"Print of mother called\")\n",
    "\n",
    "class Father:\n",
    "    def print(self):\n",
    "        print(\"Print of father called\")\n",
    "        \n",
    "class Child(Mother,Father):\n",
    "    \n",
    "    def __init__(self,name):\n",
    "        self.name = name\n",
    "        \n",
    "    def printChild(self):\n",
    "        print(\"name of child is: \", self.name)\n",
    "\n",
    "c = Child(\"rohan\")\n",
    "c.printChild()\n",
    "\n",
    "#print of mother called because in the class Child(M,F) mother was called first\n",
    "# So, since the print function was defined in both the classes, the output will be of M class\n",
    "# if it would be Child(F,M) then output will be of F class.\n",
    "c.print()"
   ]
  },
  {
   "cell_type": "code",
   "execution_count": 7,
   "metadata": {},
   "outputs": [
    {
     "name": "stdout",
     "output_type": "stream",
     "text": [
      "name of child is:  manju\n"
     ]
    }
   ],
   "source": [
    "class Mother:\n",
    "    \n",
    "    def __init__(self):\n",
    "        self.name = \"manju\"\n",
    "        \n",
    "    def print(self):\n",
    "        print(\"Print of mother called\")\n",
    "\n",
    "class Father:\n",
    "    \n",
    "    def __init__(self):\n",
    "        self.name = \"ajay\"\n",
    "        \n",
    "    def print(self):\n",
    "        print(\"Print of father called\")\n",
    "        \n",
    "class Child(Mother,Father):\n",
    "    \n",
    "    def __init__(self):\n",
    "        super().__init__()\n",
    "        \n",
    "    def printChild(self):\n",
    "        print(\"name of child is: \", self.name)\n",
    "\n",
    "c = Child()\n",
    "c.printChild() #Name of the child is manju because of class Child (M,F)\n",
    "\n",
    "\n",
    "\n",
    "\n",
    "# NOTE: if the child class, mother class and the father class all contains the print function, then first it will search\n",
    "#     in the child class, then the mother class and the father class."
   ]
  }
 ],
 "metadata": {
  "kernelspec": {
   "display_name": "Python 3",
   "language": "python",
   "name": "python3"
  },
  "language_info": {
   "codemirror_mode": {
    "name": "ipython",
    "version": 3
   },
   "file_extension": ".py",
   "mimetype": "text/x-python",
   "name": "python",
   "nbconvert_exporter": "python",
   "pygments_lexer": "ipython3",
   "version": "3.8.2"
  }
 },
 "nbformat": 4,
 "nbformat_minor": 4
}
