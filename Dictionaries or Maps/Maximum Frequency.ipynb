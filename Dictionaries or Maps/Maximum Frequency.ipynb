{
 "cells": [
  {
   "cell_type": "markdown",
   "metadata": {},
   "source": [
    "You are given an array of integers that contain numbers in random order.\n",
    "\n",
    "Write a program to find and return the number which occurs the maximum times in the given input.\n",
    "\n",
    "If two or more elements contend for the maximum frequency, return the element which occurs in the array first."
   ]
  },
  {
   "cell_type": "markdown",
   "metadata": {},
   "source": [
    "Input Format:\n",
    "\n",
    "The first line of input contains an integer, that denotes the value of the size of the array. Let us denote it with the symbol N.\n",
    "\n",
    "The following line contains N space separated integers, that denote the value of the elements of the array.\n",
    "\n",
    "Output Format :\n",
    "The first and only line of output contains most frequent element in the given array.\n",
    "\n",
    "Constraints:\n",
    "\n",
    "0 <= N <= 10^8\n",
    "\n",
    "Time Limit: 1 sec"
   ]
  },
  {
   "cell_type": "code",
   "execution_count": null,
   "metadata": {},
   "outputs": [],
   "source": [
    "from sys import stdin\n",
    "from collections import OrderedDict########\n",
    "def maxfreq(arr):\n",
    "    \n",
    "    #in python 3.5 or below, dict gets sorted according to the keys\n",
    "    #hence we used ordered \n",
    "    d = OrderedDict()########\n",
    "    for a in arr:\n",
    "        if a in d:\n",
    "            d[a] = d[a] + 1\n",
    "        else:\n",
    "            d[a] = 1\n",
    "    \n",
    "    max = 0\n",
    "    final_key = 0\n",
    "    for key, value in d.items():\n",
    "        if value > max:\n",
    "            max = value\n",
    "            final_key = key\n",
    "    return final_key\n",
    "\n",
    "def takeInput():\n",
    "    #To take fast I/O\n",
    "    n=int(stdin.readline().strip())\n",
    "    if n==0:\n",
    "        return list(),0\n",
    "    arr=list(map(int,stdin.readline().strip().split( )))\n",
    "    return arr,n\n",
    "\n",
    "arr,n=takeInput()\n",
    "print(maxfreq(arr))"
   ]
  },
  {
   "cell_type": "code",
   "execution_count": null,
   "metadata": {},
   "outputs": [],
   "source": [
    "\"\"\"Sample Input 1 :\n",
    "13\n",
    "2 12 2 11 12 2 1 2 2 11 12 2 6 \n",
    "Sample Output 1 :\n",
    "2\n",
    "Sample Input 2 :\n",
    "3\n",
    "1 4 5\n",
    "Sample Output 2 :\n",
    "1\"\"\""
   ]
  }
 ],
 "metadata": {
  "kernelspec": {
   "display_name": "Python 3",
   "language": "python",
   "name": "python3"
  },
  "language_info": {
   "codemirror_mode": {
    "name": "ipython",
    "version": 3
   },
   "file_extension": ".py",
   "mimetype": "text/x-python",
   "name": "python",
   "nbconvert_exporter": "python",
   "pygments_lexer": "ipython3",
   "version": "3.8.2"
  }
 },
 "nbformat": 4,
 "nbformat_minor": 4
}
