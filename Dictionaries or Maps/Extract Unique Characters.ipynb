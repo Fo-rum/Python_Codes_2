{
 "cells": [
  {
   "cell_type": "markdown",
   "metadata": {},
   "source": [
    "Given a string S, you need to remove all the duplicates.\n",
    "\n",
    "That means, the output string should contain each character only once.\n",
    "\n",
    "The respective order of characters should remain same, as in the input string."
   ]
  },
  {
   "cell_type": "markdown",
   "metadata": {},
   "source": [
    "Input format:\n",
    "The first and only line of input contains a string, that denotes the value of S.\n",
    "\n",
    "Output format :\n",
    "The first and only line of output contains the updated string, as described in the task.\n",
    "\n",
    "Constraints :\n",
    "\n",
    "0 <= Length of S <= 10^8\n",
    "\n",
    "Time Limit: 1 sec"
   ]
  },
  {
   "cell_type": "code",
   "execution_count": null,
   "metadata": {},
   "outputs": [],
   "source": [
    "from collections import OrderedDict\n",
    "\n",
    "def uniqueChar(string):\n",
    "    \n",
    "#can be solved \n",
    "#     list=[]\n",
    "    \n",
    "#     for char in string:\n",
    "#         if char not in list:\n",
    "#             list.append(char)\n",
    "            \n",
    "#     string = ''.join(list)\n",
    "#     return string\n",
    "    dict= OrderedDict()\n",
    "    \n",
    "    for char in string:\n",
    "        if char not in dict:\n",
    "            dict[char]=1\n",
    "            \n",
    "    string = ''.join(dict)\n",
    "    return string\n",
    "\n",
    " \n",
    "# Main \n",
    "s=input() \n",
    "print(uniqueChar(s))"
   ]
  },
  {
   "cell_type": "code",
   "execution_count": null,
   "metadata": {},
   "outputs": [],
   "source": [
    "\"\"\"Sample Input 1 :\n",
    "ababacd\n",
    "Sample Output 1 :\n",
    "abcd\n",
    "Sample Input 2 :\n",
    "abcde\n",
    "Sample Output 2 :\n",
    "abcde\"\"\""
   ]
  }
 ],
 "metadata": {
  "kernelspec": {
   "display_name": "Python 3",
   "language": "python",
   "name": "python3"
  },
  "language_info": {
   "codemirror_mode": {
    "name": "ipython",
    "version": 3
   },
   "file_extension": ".py",
   "mimetype": "text/x-python",
   "name": "python",
   "nbconvert_exporter": "python",
   "pygments_lexer": "ipython3",
   "version": "3.8.2"
  }
 },
 "nbformat": 4,
 "nbformat_minor": 4
}
