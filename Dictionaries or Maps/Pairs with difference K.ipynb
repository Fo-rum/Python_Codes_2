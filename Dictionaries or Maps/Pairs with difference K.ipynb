{
 "cells": [
  {
   "cell_type": "markdown",
   "metadata": {},
   "source": [
    "You are given with an array of integers and an integer K. \n",
    "\n",
    "You have to find and print the count of all such pairs which have difference K.\n",
    "\n",
    "Note: Take absolute difference between the elements of the array."
   ]
  },
  {
   "cell_type": "markdown",
   "metadata": {},
   "source": [
    "Input Format:\n",
    "The first line of input contains an integer, that denotes the value of the size of the array. Let us denote it with the symbol n.\n",
    "\n",
    "The following line contains n space separated integers, that denote the value of the elements of the array.\n",
    "The following line contains an integer, that denotes the value of K.\n",
    "\n",
    "Output format :\n",
    "The first and only line of output contains count of all such pairs which have an absolute difference of K. \n",
    "\n",
    "Constraints :\n",
    "\n",
    "0 <= n <= 10^4\n",
    "\n",
    "Time Limit: 1 sec"
   ]
  },
  {
   "cell_type": "code",
   "execution_count": null,
   "metadata": {},
   "outputs": [],
   "source": [
    "def printPairDiffK(l, k):\n",
    "    \n",
    "    d = {}\n",
    "    \n",
    "    #storing the frequencies in the dictionary\n",
    "    for i in l:\n",
    "        d[i]=d.get(i,0)+1\n",
    "        \n",
    "    count=0\n",
    "    \n",
    "    for num in d:\n",
    "        \n",
    "        if k!=0:\n",
    "\t\t\t\n",
    "            #search for the respective temp1 and temp2\n",
    "            temp1 = num-k\n",
    "            temp2 = num+k\n",
    "\n",
    "            #if present, then increment the count by multiplying the respective frequencies\n",
    "            if temp1 in d:\n",
    "                count+=(d[num]*d[temp1])\n",
    "\n",
    "            if temp2 in d:\n",
    "                count+=(d[num]*d[temp2])\n",
    "        else:\n",
    "            r=d[num]\n",
    "            count+=(r*(r-1))//2\n",
    "\t\t\n",
    "        #to prevent counting again, can make the frequency as zero\n",
    "        #or remove the particular key from dictionary. acceptable both ways\n",
    "        d[num] = 0\n",
    "        \n",
    "    return count\n",
    "\n",
    "# Main\n",
    "n=int(input())\n",
    "l=list(int(i) for i in input().strip().split(' '))\n",
    "k=int(input())\n",
    "print(printPairDiffK(l, k))"
   ]
  },
  {
   "cell_type": "code",
   "execution_count": null,
   "metadata": {},
   "outputs": [],
   "source": [
    "\"\"\"Sample Input 1 :\n",
    "4 \n",
    "5 1 2 4\n",
    "3\n",
    "Sample Output 1 :\n",
    "2\n",
    "Sample Input 2 :\n",
    "4\n",
    "4 4 4 4 \n",
    "0\n",
    "Sample Output 2 :\n",
    "6\"\"\""
   ]
  }
 ],
 "metadata": {
  "kernelspec": {
   "display_name": "Python 3",
   "language": "python",
   "name": "python3"
  },
  "language_info": {
   "codemirror_mode": {
    "name": "ipython",
    "version": 3
   },
   "file_extension": ".py",
   "mimetype": "text/x-python",
   "name": "python",
   "nbconvert_exporter": "python",
   "pygments_lexer": "ipython3",
   "version": "3.8.2"
  }
 },
 "nbformat": 4,
 "nbformat_minor": 4
}
