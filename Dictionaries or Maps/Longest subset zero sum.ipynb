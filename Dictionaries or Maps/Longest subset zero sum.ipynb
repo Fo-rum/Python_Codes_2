{
 "cells": [
  {
   "cell_type": "markdown",
   "metadata": {},
   "source": [
    "Given an array consisting of positive and negative integers, find the length of the longest subarray whose sum is zero."
   ]
  },
  {
   "cell_type": "markdown",
   "metadata": {},
   "source": [
    "Input Format:\n",
    "The first line of input contains an integer, that denotes the value of the size of the array. Let us denote it with the symbol N.\n",
    "The following line contains N space separated integers, that denote the value of the elements of the array.\n",
    "\n",
    "Output Format\n",
    "The first and only line of output contains length of the longest subarray whose sum is zero.\n",
    "\n",
    "Constraints:\n",
    "\n",
    "0 <= N <= 10^8\n",
    "\n",
    "Time Limit: 1 sec"
   ]
  },
  {
   "cell_type": "code",
   "execution_count": null,
   "metadata": {},
   "outputs": [],
   "source": [
    "# To find the length of longest subset that sums upto be 0\n",
    "\n",
    "#my working code\n",
    "# def subsetSum(l):\n",
    "#     d = {} \n",
    "#     max_length = 0\n",
    "#     sum = 0\n",
    "  \n",
    "#     for i in range(len(l)):  \n",
    "#         sum += l[i] \n",
    "  \n",
    "#         if l[i] == 0 and max_length == 0: \n",
    "#             max_length = 1\n",
    "  \n",
    "#         if sum == 0: \n",
    "#             max_length = i + 1\n",
    "#         if sum in d: \n",
    "#             max_length = max(max_length, i - d[sum] ) \n",
    "#         else:  \n",
    "#             d[sum] = i \n",
    "  \n",
    "#     return max_length\n",
    "\n",
    "\n",
    "# n=int(input())\n",
    "# l=list(int(i) for i in input().strip().split(' '))\n",
    "# finalLen= subsetSum(l)\n",
    "# print(finalLen)\n",
    "\n",
    "#my code explanation\n",
    "#line 11- it is to check if the first element or the particular element is 0, then it can be included in the max length\n",
    "#i-d[sum] is the new length, i is the index that it is on and d[sum] is the continued length stored in the dictionary\n",
    "\n",
    "#for eg the subset's length was 5, and now if we encounter a subset that sums upto be 0 and has a length of 7 then it will be considered as the new max_length\n",
    "#line 17 is checking the new length...if the new max length is greater than the previous max length...it will change itself \n",
    "\n",
    "#alternative solution\n",
    "#coding ninjas solution:\n",
    "def subsetSum(l):\n",
    "    n = len(l)\n",
    "    list = []\n",
    "    sum1 = [0] * n\n",
    "    sum1[0] = l[0]\n",
    "    list.append(l[0])\n",
    "    m = { l[0]:0}\n",
    "    start, end = -1, -2\n",
    "    if sum1[0]==0:\n",
    "        start, end = 0, 0\n",
    "    for i in range(1, n):\n",
    "        sum1[i] = sum1[i-1] + l[i]\n",
    "        if sum1[i]==0:\n",
    "            start, end = 0, i\n",
    "        elif sum1[i] in m:\n",
    "            #Found a subset with zero Sum\n",
    "            #if the \"if\" condiition fails, that means it is not the longest sequence\n",
    "            #\"if\" condiiton true means that it\n",
    "            if i-m[sum1[i]] > end-start+1:\n",
    "                start, end = m[sum1[i]]+1, i\n",
    "        else:\n",
    "            m[sum1[i]] = i\n",
    "    return end-start+1, sum1, m\n",
    "\n",
    "\n",
    "# Main\n",
    "n=int(input())\n",
    "l=list(int(i) for i in input().strip().split(' '))\n",
    "ans, sum1,m = subsetSum(l)\n",
    "print(ans)\n",
    "#print(sum1)\n",
    "#print(m)\n",
    "\n",
    "#Because the Coding ninjas solution that is written here is using memoization, \"m\" which is declared here is called the memoizing data struct, it's function is to store the previous data from the sum array\n",
    "\n",
    "\n",
    "\n",
    "#what it is doing here in the 45th line is checking each time if the length of new formed numbers in the array that sums upto be 0 then, it will replace(swap) the previous length of the numbers (which is initially 0 or 1)"
   ]
  },
  {
   "cell_type": "code",
   "execution_count": null,
   "metadata": {},
   "outputs": [],
   "source": [
    "\"\"\"Sample Input 1:\n",
    "10 \n",
    " 95 -97 -387 -435 -5 -70 897 127 23 284\n",
    "Sample Output 1:\n",
    "5\n",
    "Explanation:\n",
    "The five elements that form the longest subarray that sum up to zero are: -387, -435, -5, -70, 897 \"\"\""
   ]
  }
 ],
 "metadata": {
  "kernelspec": {
   "display_name": "Python 3",
   "language": "python",
   "name": "python3"
  },
  "language_info": {
   "codemirror_mode": {
    "name": "ipython",
    "version": 3
   },
   "file_extension": ".py",
   "mimetype": "text/x-python",
   "name": "python",
   "nbconvert_exporter": "python",
   "pygments_lexer": "ipython3",
   "version": "3.8.2"
  }
 },
 "nbformat": 4,
 "nbformat_minor": 4
}
