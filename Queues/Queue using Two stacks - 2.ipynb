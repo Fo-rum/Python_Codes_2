{
 "cells": [
  {
   "cell_type": "code",
   "execution_count": null,
   "metadata": {},
   "outputs": [],
   "source": [
    "#This is the second approach where the enqueue operation takes O(1) time\n",
    "# and the dequeue operation takes O(n) time."
   ]
  },
  {
   "cell_type": "code",
   "execution_count": 1,
   "metadata": {},
   "outputs": [
    {
     "name": "stdout",
     "output_type": "stream",
     "text": [
      "Empty queue\n",
      "1\n",
      "2\n",
      "3\n",
      "Empty queue\n"
     ]
    },
    {
     "data": {
      "text/plain": [
       "-1"
      ]
     },
     "execution_count": 1,
     "metadata": {},
     "output_type": "execute_result"
    }
   ],
   "source": [
    "class QueueingusingTwoStacks:\n",
    "    \n",
    "    def __init__(self):\n",
    "        self.__s1 = []\n",
    "        self.__s2 = []\n",
    "        \n",
    "    def enqueue(self,data):\n",
    "        #O(1)\n",
    "        self.__s1.append(data)\n",
    "        return\n",
    "    \n",
    "    def dequeue(self):\n",
    "        #O(N)\n",
    "        if len(self.__s1) == 0:\n",
    "            print(\"Empty queue\")\n",
    "            return -1\n",
    "        \n",
    "        while(len(self.__s1)!=1):\n",
    "            self.__s2.append(self.__s1.pop())\n",
    "        \n",
    "        self.__s1.pop()\n",
    "        \n",
    "        while(len(self.__s2)!= 0 ):\n",
    "            self.__s1.append(self.__s2.pop())\n",
    "            \n",
    "    def front(self):\n",
    "        if len(self.__s1) == 0:\n",
    "            print(\"Empty queue\")\n",
    "            return -1\n",
    "        \n",
    "        data = self.__s1[0]\n",
    "        return data\n",
    "    \n",
    "    \n",
    "    def size(self):\n",
    "        return len(self.__s1)\n",
    "    \n",
    "    def isEmpty(self):\n",
    "        return self.size() == 0\n",
    "    \n",
    "\n",
    "q = QueueingusingTwoStacks()\n",
    "q.dequeue()\n",
    "q.enqueue(1)\n",
    "q.enqueue(2)\n",
    "q.enqueue(3)\n",
    "\n",
    "while(q.isEmpty() is False):\n",
    "    print(q.front())\n",
    "    q.dequeue()\n",
    "\n",
    "q.dequeue()\n",
    "    "
   ]
  },
  {
   "cell_type": "code",
   "execution_count": null,
   "metadata": {},
   "outputs": [],
   "source": []
  }
 ],
 "metadata": {
  "kernelspec": {
   "display_name": "Python 3",
   "language": "python",
   "name": "python3"
  },
  "language_info": {
   "codemirror_mode": {
    "name": "ipython",
    "version": 3
   },
   "file_extension": ".py",
   "mimetype": "text/x-python",
   "name": "python",
   "nbconvert_exporter": "python",
   "pygments_lexer": "ipython3",
   "version": "3.8.2"
  }
 },
 "nbformat": 4,
 "nbformat_minor": 4
}
