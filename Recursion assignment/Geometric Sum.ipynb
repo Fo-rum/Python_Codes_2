{
 "cells": [
  {
   "cell_type": "markdown",
   "metadata": {},
   "source": [
    "Given k, find the geometric sum i.e.\n",
    "\n",
    "1 + 1/2 + 1/4 + 1/8 + ... + 1/(2^k) \n",
    "\n",
    "using recursion."
   ]
  },
  {
   "cell_type": "markdown",
   "metadata": {},
   "source": [
    "Input format :\n",
    "Integer k\n",
    "\n",
    "Output format :\n",
    "Geometric sum (upto 5 decimal places)\n",
    "\n",
    "Constraints :\n",
    "0 <= k <= 1000"
   ]
  },
  {
   "cell_type": "code",
   "execution_count": 2,
   "metadata": {},
   "outputs": [
    {
     "name": "stdout",
     "output_type": "stream",
     "text": [
      "4\n",
      "1.93750\n"
     ]
    }
   ],
   "source": [
    "\n",
    "def geometric_sum(k):\n",
    "    if k == 0:\n",
    "        return 1\n",
    "\n",
    "    return 1 / (pow(2, k)) + geometric_sum(k-1) \n",
    "\n",
    "k = int(input())\n",
    "print('%0.5f'%geometric_sum(k))"
   ]
  },
  {
   "cell_type": "code",
   "execution_count": null,
   "metadata": {},
   "outputs": [],
   "source": [
    "\"\"\"\n",
    "Sample Input 1 :\n",
    "3\n",
    "Sample Output 1 :\n",
    "1.87500\n",
    "Sample Input 2 :\n",
    "4\n",
    "Sample Output 2 :\n",
    "1.93750\n",
    "\"\"\""
   ]
  }
 ],
 "metadata": {
  "kernelspec": {
   "display_name": "Python 3",
   "language": "python",
   "name": "python3"
  },
  "language_info": {
   "codemirror_mode": {
    "name": "ipython",
    "version": 3
   },
   "file_extension": ".py",
   "mimetype": "text/x-python",
   "name": "python",
   "nbconvert_exporter": "python",
   "pygments_lexer": "ipython3",
   "version": "3.8.2"
  }
 },
 "nbformat": 4,
 "nbformat_minor": 4
}
