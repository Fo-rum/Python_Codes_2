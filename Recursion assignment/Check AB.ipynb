{
 "cells": [
  {
   "cell_type": "markdown",
   "metadata": {},
   "source": [
    "Suppose you have a string, S, made up of only 'a's and 'b's. \n",
    "\n",
    "Write a recursive function that checks if the string was generated using the following rules:\n",
    "\n",
    "a. The string begins with an 'a'\n",
    "\n",
    "b. Each 'a' is followed by nothing or an 'a' or \"bb\"\n",
    "\n",
    "c. Each \"bb\" is followed by nothing or an 'a'\n",
    "\n",
    "If all the rules are followed by the given string, return true otherwise return false."
   ]
  },
  {
   "cell_type": "markdown",
   "metadata": {},
   "source": [
    "Input format :\n",
    "String S\n",
    "\n",
    "Output format :\n",
    "'true' or 'false'\n",
    "\n",
    "Constraints :\n",
    "0 <= |S| <= 1000\n",
    "\n",
    "where |S| represents length of string S."
   ]
  },
  {
   "cell_type": "code",
   "execution_count": 2,
   "metadata": {},
   "outputs": [
    {
     "name": "stdout",
     "output_type": "stream",
     "text": [
      "abababa\n",
      "false\n"
     ]
    }
   ],
   "source": [
    "## Read input as specified in the question.\n",
    "## Print output as specified in the question.\n",
    "def checkAB(str):\n",
    "    if len(str)==0:\n",
    "        return True\n",
    "    if str[0] == 'a':\n",
    "        if len(str[1:]) > 1 and str[1:3]=='bb':\n",
    "            return checkAB(str[3:])\n",
    "        else:\n",
    "            return checkAB(str[1:])\n",
    "    else:\n",
    "        return False\n",
    "str = input()\n",
    "if(checkAB(str)):\n",
    "    print(\"true\")\n",
    "else:\n",
    "    print(\"false\")"
   ]
  },
  {
   "cell_type": "code",
   "execution_count": null,
   "metadata": {},
   "outputs": [],
   "source": [
    "\"\"\"\n",
    "Sample Input 1 :\n",
    "abb\n",
    "Sample Output 1 :\n",
    "true\n",
    "Sample Input 2 :\n",
    "abababa\n",
    "Sample Output 2 :\n",
    "false\n",
    "\"\"\""
   ]
  }
 ],
 "metadata": {
  "kernelspec": {
   "display_name": "Python 3",
   "language": "python",
   "name": "python3"
  },
  "language_info": {
   "codemirror_mode": {
    "name": "ipython",
    "version": 3
   },
   "file_extension": ".py",
   "mimetype": "text/x-python",
   "name": "python",
   "nbconvert_exporter": "python",
   "pygments_lexer": "ipython3",
   "version": "3.8.2"
  }
 },
 "nbformat": 4,
 "nbformat_minor": 4
}
