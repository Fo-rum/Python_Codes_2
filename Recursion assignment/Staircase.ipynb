{
 "cells": [
  {
   "cell_type": "markdown",
   "metadata": {},
   "source": [
    "A child is running up a staircase with N steps, and can hop either 1 step, 2 steps or 3 steps at a time.\n",
    "\n",
    "Implement a method to count how many possible ways the child can run up to the stairs.\n",
    "\n",
    "You need to return number of possible ways W."
   ]
  },
  {
   "cell_type": "markdown",
   "metadata": {},
   "source": [
    "Input format :\n",
    "Integer N\n",
    "\n",
    "Output Format :\n",
    "Integer W\n",
    "\n",
    "Constraints :\n",
    "1 <= N <= 30"
   ]
  },
  {
   "cell_type": "code",
   "execution_count": 2,
   "metadata": {},
   "outputs": [
    {
     "name": "stdout",
     "output_type": "stream",
     "text": [
      "5\n",
      "13\n"
     ]
    }
   ],
   "source": [
    "## Read input as specified in the question.\n",
    "## Print output as specified in the question.\n",
    "def staircase(n):\n",
    "    if n<3:\n",
    "        return n\n",
    "    if n==3:\n",
    "        return 4\n",
    "    \n",
    "    x = staircase(n-1)\n",
    "    y = staircase(n-2)\n",
    "    z = staircase(n-3)\n",
    "    w = x+y+z\n",
    "    return w\n",
    "        \n",
    "\n",
    "\n",
    "\n",
    "\n",
    "n = int(input())\n",
    "print(staircase(n))"
   ]
  },
  {
   "cell_type": "code",
   "execution_count": null,
   "metadata": {},
   "outputs": [],
   "source": [
    "\"\"\"\n",
    "Sample Input 1 :\n",
    "4\n",
    "Sample Output 1 :\n",
    "7\n",
    "Sample Input 2 :\n",
    "5\n",
    "Sample Output 2 :\n",
    "13\n",
    "\"\"\"\n"
   ]
  }
 ],
 "metadata": {
  "kernelspec": {
   "display_name": "Python 3",
   "language": "python",
   "name": "python3"
  },
  "language_info": {
   "codemirror_mode": {
    "name": "ipython",
    "version": 3
   },
   "file_extension": ".py",
   "mimetype": "text/x-python",
   "name": "python",
   "nbconvert_exporter": "python",
   "pygments_lexer": "ipython3",
   "version": "3.8.2"
  }
 },
 "nbformat": 4,
 "nbformat_minor": 4
}
