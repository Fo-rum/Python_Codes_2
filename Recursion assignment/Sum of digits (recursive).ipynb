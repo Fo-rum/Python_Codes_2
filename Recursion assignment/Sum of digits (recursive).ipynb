{
 "cells": [
  {
   "cell_type": "markdown",
   "metadata": {},
   "source": [
    "Write a recursive function that returns the sum of the digits of a given integer."
   ]
  },
  {
   "cell_type": "markdown",
   "metadata": {},
   "source": [
    "\n",
    "Input format :\n",
    "Integer N\n",
    "\n",
    "Output format :\n",
    "Sum of digits of N\n",
    "\n",
    "Constraints :\n",
    "0 <= N <= 10^9"
   ]
  },
  {
   "cell_type": "code",
   "execution_count": 3,
   "metadata": {},
   "outputs": [
    {
     "name": "stdout",
     "output_type": "stream",
     "text": [
      "9\n",
      "9\n"
     ]
    }
   ],
   "source": [
    "## Read input as specified in the question.\n",
    "## Print output as specified in the question.\n",
    "# def sumofdig(s):\n",
    "#     n = len(s)\n",
    "#     if n == 0 or n == 1:\n",
    "#         return s\n",
    "#     smalloutput = s[1:]\n",
    "#     output = sumofdig(smalloutput)\n",
    "#     return smalloutput\n",
    "\n",
    "\n",
    "def sum_of_digit( n ): \n",
    "    if n == 0: \n",
    "        return 0\n",
    "    return (n % 10 + sum_of_digit(int(n / 10)))\n",
    "\n",
    "s = int(input())\n",
    "print(sum_of_digit(s))\n"
   ]
  },
  {
   "cell_type": "code",
   "execution_count": null,
   "metadata": {},
   "outputs": [],
   "source": [
    "\"\"\"Sample Input 1 :\n",
    "12345\n",
    "Sample Output 1 :\n",
    "15\n",
    "Sample Input 2 :\n",
    "9\n",
    "Sample Output 2 :\n",
    "9\"\"\""
   ]
  }
 ],
 "metadata": {
  "kernelspec": {
   "display_name": "Python 3",
   "language": "python",
   "name": "python3"
  },
  "language_info": {
   "codemirror_mode": {
    "name": "ipython",
    "version": 3
   },
   "file_extension": ".py",
   "mimetype": "text/x-python",
   "name": "python",
   "nbconvert_exporter": "python",
   "pygments_lexer": "ipython3",
   "version": "3.8.2"
  }
 },
 "nbformat": 4,
 "nbformat_minor": 4
}
