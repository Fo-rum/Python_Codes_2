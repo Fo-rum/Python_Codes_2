{
 "cells": [
  {
   "cell_type": "markdown",
   "metadata": {},
   "source": [
    "Check whether a given String S is a palindrome using recursion.\n",
    "Return true or false."
   ]
  },
  {
   "cell_type": "markdown",
   "metadata": {},
   "source": [
    "\n",
    "Input Format :\n",
    "String S\n",
    "\n",
    "Output Format :\n",
    "'true' or 'false'\n",
    "\n",
    "Constraints :\n",
    "0 <= |S| <= 1000\n",
    "\n",
    "where |S| represents length of string S."
   ]
  },
  {
   "cell_type": "code",
   "execution_count": 2,
   "metadata": {},
   "outputs": [
    {
     "name": "stdout",
     "output_type": "stream",
     "text": [
      "ninja\n",
      "false\n"
     ]
    }
   ],
   "source": [
    "## Read input as specified in the question.\n",
    "## Print output as specified in the question.\n",
    "\n",
    "# def Palindrome(s, start, end):\n",
    "#     if start == end:\n",
    "#         return True\n",
    "    \n",
    "#     if (start < end + 1) : \n",
    "#     \treturn Palindrome(s, start + 1, end - 1)\n",
    "   \n",
    "# def isPalindrome(s):\n",
    "#     n = len(s)\n",
    "#     if n==0 or n==1:\n",
    "#         return True\n",
    "    \n",
    "#     if s[0] != s[-1]:\n",
    "#         return False\n",
    "    \n",
    "#     else:\n",
    "#     \treturn Palindrome(s,0,n-1)\n",
    "\n",
    "\n",
    "def isPalindrome(s):\n",
    "    \n",
    "    if len(s) <= 1:\n",
    "        return True\n",
    "    \n",
    "    if s[0] == s[-1]:\n",
    "        return isPalindrome(s[1:-1])\n",
    "    else:\n",
    "        return False\n",
    "\n",
    "\n",
    "\n",
    "\n",
    "s = input()\n",
    "ans = isPalindrome(s)\n",
    "\n",
    "if ans:\n",
    "    print('true')   \n",
    "else:\n",
    "    print('false')\n",
    "    \n",
    "\n"
   ]
  },
  {
   "cell_type": "code",
   "execution_count": null,
   "metadata": {},
   "outputs": [],
   "source": [
    "\"\"\"\n",
    "Sample Input 1 :\n",
    "racecar\n",
    "Sample Output 1:\n",
    "true\n",
    "Sample Input 2 :\n",
    "ninja\n",
    "Sample Output 2:\n",
    "false\n",
    "\"\"\""
   ]
  }
 ],
 "metadata": {
  "kernelspec": {
   "display_name": "Python 3",
   "language": "python",
   "name": "python3"
  },
  "language_info": {
   "codemirror_mode": {
    "name": "ipython",
    "version": 3
   },
   "file_extension": ".py",
   "mimetype": "text/x-python",
   "name": "python",
   "nbconvert_exporter": "python",
   "pygments_lexer": "ipython3",
   "version": "3.8.2"
  }
 },
 "nbformat": 4,
 "nbformat_minor": 4
}
