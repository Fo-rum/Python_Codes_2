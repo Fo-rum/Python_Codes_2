{
 "cells": [
  {
   "cell_type": "markdown",
   "metadata": {},
   "source": [
    "Write a recursive function to convert a given string into the number it represents. \n",
    "\n",
    "That is input will be a numeric string that contains only numbers, you need to convert the string into corresponding integer and return the answer."
   ]
  },
  {
   "cell_type": "markdown",
   "metadata": {},
   "source": [
    "\n",
    "Input format :\n",
    "Numeric string S (string, Eg. \"1234\")\n",
    "\n",
    "Output format :\n",
    "Corresponding integer N (int, Eg. 1234)\n",
    "\n",
    "Constraints :\n",
    "0 <= |S| <= 9\n",
    "\n",
    "where |S| represents length of string S."
   ]
  },
  {
   "cell_type": "code",
   "execution_count": 3,
   "metadata": {},
   "outputs": [
    {
     "name": "stdout",
     "output_type": "stream",
     "text": [
      "0\n",
      "0\n"
     ]
    }
   ],
   "source": [
    "## Read input as specified in the question.\n",
    "## Print output as specified in the question.\n",
    "def string2integer(s):\n",
    "    n = len(s)\n",
    "    if n==1:\n",
    "        return int(s[0])\n",
    "\n",
    "    a = string2integer(s[1:])\n",
    "    b = int(s[0])\n",
    "    global ans \n",
    "    ans = b * (10 ** (n-1)) + a\n",
    "    return ans\n",
    "\n",
    "\n",
    "\n",
    "\n",
    "s = input()\n",
    "print(string2integer(s))\n",
    "#print(type(ans))\n"
   ]
  },
  {
   "cell_type": "code",
   "execution_count": null,
   "metadata": {},
   "outputs": [],
   "source": [
    "\"\"\"\n",
    "Sample Input 1 :\n",
    "00001231\n",
    "Sample Output 1 :\n",
    "1231\n",
    "Sample Input 2 :\n",
    "12567\n",
    "Sample Output 2 :\n",
    "12567\n",
    "\"\"\""
   ]
  }
 ],
 "metadata": {
  "kernelspec": {
   "display_name": "Python 3",
   "language": "python",
   "name": "python3"
  },
  "language_info": {
   "codemirror_mode": {
    "name": "ipython",
    "version": 3
   },
   "file_extension": ".py",
   "mimetype": "text/x-python",
   "name": "python",
   "nbconvert_exporter": "python",
   "pygments_lexer": "ipython3",
   "version": "3.8.2"
  }
 },
 "nbformat": 4,
 "nbformat_minor": 4
}
