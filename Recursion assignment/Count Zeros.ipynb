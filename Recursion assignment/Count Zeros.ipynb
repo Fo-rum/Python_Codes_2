{
 "cells": [
  {
   "cell_type": "markdown",
   "metadata": {},
   "source": [
    "Given an integer N, count and return the number of zeros that are present in the given integer using recursion."
   ]
  },
  {
   "cell_type": "markdown",
   "metadata": {},
   "source": [
    "\n",
    "Input Format :\n",
    "    \n",
    "Integer N\n",
    "\n",
    "Output Format :\n",
    "    \n",
    "Number of zeros in N\n",
    "\n",
    "Constraints :\n",
    "0 <= N <= 10^9"
   ]
  },
  {
   "cell_type": "code",
   "execution_count": 3,
   "metadata": {},
   "outputs": [
    {
     "name": "stdout",
     "output_type": "stream",
     "text": [
      "708000\n",
      "4\n"
     ]
    }
   ],
   "source": [
    "## Read input as specified in the question.\n",
    "## Print output as specified in the question.\n",
    "\"\"\"def count_zeros(num):\n",
    "    if(num == 0):\n",
    "       return 1\n",
    "\n",
    "    if(num %10 ==0):\n",
    "        return 1 + count_zeros(num / 10)\n",
    "    else:\n",
    "        return count_zeros(num/10)\n",
    "   \n",
    "\n",
    "\n",
    "num = int(input())\n",
    "print(count_zeros(num))\"\"\"\n",
    "\n",
    "\n",
    "def countzero(n):\n",
    "    \n",
    "    if n<10:\n",
    "        if n==0:\n",
    "            return 1\n",
    "        return 0\n",
    "    count=countzero(n//10)\n",
    "    if n%10==0:\n",
    "        count=count+1\n",
    "    return count\n",
    "import sys\n",
    "sys.setrecursionlimit(11000)\n",
    "n=int(input())\n",
    "print(countzero(n))\n",
    "    "
   ]
  },
  {
   "cell_type": "code",
   "execution_count": null,
   "metadata": {},
   "outputs": [],
   "source": [
    "\"\"\"\n",
    "Sample Input 1 :\n",
    "0\n",
    "Sample Output 1 :\n",
    "1\n",
    "Sample Input 2 :\n",
    "00010204\n",
    "Sample Output 2 :\n",
    "2\n",
    "Explanation for Sample Output 2 :\n",
    "Even though \"00010204\" has 5 zeros, the output would still be 2 because when you convert it to an integer, it becomes 10204.\n",
    "Sample Input 3 :\n",
    "708000\n",
    "Sample Output 3 :\n",
    "4\n",
    "\"\"\""
   ]
  }
 ],
 "metadata": {
  "kernelspec": {
   "display_name": "Python 3",
   "language": "python",
   "name": "python3"
  },
  "language_info": {
   "codemirror_mode": {
    "name": "ipython",
    "version": 3
   },
   "file_extension": ".py",
   "mimetype": "text/x-python",
   "name": "python",
   "nbconvert_exporter": "python",
   "pygments_lexer": "ipython3",
   "version": "3.8.2"
  }
 },
 "nbformat": 4,
 "nbformat_minor": 4
}
