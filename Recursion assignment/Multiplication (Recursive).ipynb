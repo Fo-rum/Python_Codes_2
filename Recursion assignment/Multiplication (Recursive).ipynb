{
 "cells": [
  {
   "cell_type": "markdown",
   "metadata": {},
   "source": [
    "Given two integers M & N, calculate and return their multiplication using recursion. \n",
    "\n",
    "You can only use subtraction and addition for your calculation. \n",
    "\n",
    "No other operators are allowed."
   ]
  },
  {
   "cell_type": "markdown",
   "metadata": {},
   "source": [
    "Input format :\n",
    "\n",
    "Line 1 : Integer M\n",
    "\n",
    "Line 2 : Integer N\n",
    "\n",
    "    \n",
    "Output format :\n",
    "M x N\n",
    "\n",
    "Constraints :\n",
    "\n",
    "0 <= M <= 1000\n",
    "\n",
    "0 <= N <= 1000"
   ]
  },
  {
   "cell_type": "code",
   "execution_count": 3,
   "metadata": {},
   "outputs": [
    {
     "name": "stdout",
     "output_type": "stream",
     "text": [
      "0\n",
      "0\n",
      "0\n"
     ]
    }
   ],
   "source": [
    "def mult(m,n):\n",
    "    if n==0:\n",
    "        return 0\n",
    "    \n",
    "\n",
    "    smalloutput = mult(m,n-1)\n",
    "    output = m + smalloutput\n",
    "    return output\n",
    "\n",
    "from sys import setrecursionlimit\n",
    "setrecursionlimit(11000)\n",
    "\n",
    "\n",
    "\n",
    "m = int(input())\n",
    "n = int(input())\n",
    "print(mult(m,n))"
   ]
  },
  {
   "cell_type": "code",
   "execution_count": null,
   "metadata": {},
   "outputs": [],
   "source": [
    "\"\"\"\n",
    "Sample Input 1 :\n",
    "3 \n",
    "5\n",
    "Sample Output 1 :\n",
    "15\n",
    "Sample Input 2 :\n",
    "4 \n",
    "0\n",
    "Sample Output 2 :\n",
    "0\n",
    "\"\"\""
   ]
  }
 ],
 "metadata": {
  "kernelspec": {
   "display_name": "Python 3",
   "language": "python",
   "name": "python3"
  },
  "language_info": {
   "codemirror_mode": {
    "name": "ipython",
    "version": 3
   },
   "file_extension": ".py",
   "mimetype": "text/x-python",
   "name": "python",
   "nbconvert_exporter": "python",
   "pygments_lexer": "ipython3",
   "version": "3.8.2"
  }
 },
 "nbformat": 4,
 "nbformat_minor": 4
}
