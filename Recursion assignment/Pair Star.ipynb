{
 "cells": [
  {
   "cell_type": "markdown",
   "metadata": {},
   "source": [
    "Given a string S, compute recursively a new string where identical chars that are adjacent in the original string are separated from each other by a \"*\"."
   ]
  },
  {
   "cell_type": "markdown",
   "metadata": {},
   "source": [
    "\n",
    "Input format :\n",
    "String S\n",
    "\n",
    "Output format :\n",
    "Modified string\n",
    "\n",
    "Constraints :\n",
    "0 <= |S| <= 1000\n",
    "\n",
    "where |S| represents length of string S."
   ]
  },
  {
   "cell_type": "code",
   "execution_count": 2,
   "metadata": {},
   "outputs": [
    {
     "name": "stdout",
     "output_type": "stream",
     "text": [
      "aaaaaa\n",
      "a*a*a*a*a*a\n"
     ]
    }
   ],
   "source": [
    "## Read input as specified in the question.\n",
    "## Print output as specified in the question.\n",
    "\n",
    "def pair_star(string):\n",
    "    if len(string) == 0 or len(string) == 1:\n",
    "        return string\n",
    "    \n",
    "    smalloutput = pair_star(string[1:])\n",
    "    if string[0] != string[1]:\n",
    "        return string[0] + smalloutput\n",
    "    \n",
    "    else:\n",
    "        return string[0] + \"*\" + smalloutput\n",
    "\n",
    "\n",
    "string = input()\n",
    "print(pair_star(string))\n"
   ]
  },
  {
   "cell_type": "code",
   "execution_count": null,
   "metadata": {},
   "outputs": [],
   "source": [
    "\"\"\"\n",
    "Sample Input 1 :\n",
    "hello\n",
    "Sample Output 1:\n",
    "hel*lo\n",
    "Sample Input 2 :\n",
    "aaaa\n",
    "Sample Output 2 :\n",
    "a*a*a*a\n",
    "\"\"\""
   ]
  }
 ],
 "metadata": {
  "kernelspec": {
   "display_name": "Python 3",
   "language": "python",
   "name": "python3"
  },
  "language_info": {
   "codemirror_mode": {
    "name": "ipython",
    "version": 3
   },
   "file_extension": ".py",
   "mimetype": "text/x-python",
   "name": "python",
   "nbconvert_exporter": "python",
   "pygments_lexer": "ipython3",
   "version": "3.8.2"
  }
 },
 "nbformat": 4,
 "nbformat_minor": 4
}
