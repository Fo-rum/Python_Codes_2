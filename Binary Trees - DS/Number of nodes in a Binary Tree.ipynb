{
 "cells": [
  {
   "cell_type": "code",
   "execution_count": 3,
   "metadata": {},
   "outputs": [
    {
     "name": "stdout",
     "output_type": "stream",
     "text": [
      "1\n",
      "2\n",
      "-1\n",
      "-1\n",
      "3\n",
      "4\n",
      "6\n",
      "-1\n",
      "-1\n",
      "-1\n",
      "5\n",
      "-1\n",
      "-1\n",
      "1: L 2,R 3\n",
      "2: \n",
      "3: L 4,R 5\n",
      "4: L 6,\n",
      "6: \n",
      "5: \n",
      "\n",
      "total nodes:  6\n"
     ]
    }
   ],
   "source": [
    "class BinaryTreeNode:\n",
    "    def __init__(self,data):\n",
    "        self.data = data\n",
    "        self.left = None\n",
    "        self.right = None\n",
    "    \n",
    "def printTree(root):\n",
    "    if root == None:\n",
    "        return\n",
    "    print(root.data)\n",
    "    printTree(root.left)\n",
    "    printTree(root.right)\n",
    "    \n",
    "def printTreeDetailed(root):\n",
    "    if root == None:\n",
    "        return\n",
    "    print(root.data, end=\": \")\n",
    "    if root.left != None:\n",
    "        print(\"L\", root.left.data, end=',')\n",
    "    if root.right != None:\n",
    "        print(\"R\", root.right.data, end='')\n",
    "    print()\n",
    "    printTreeDetailed(root.left)\n",
    "    printTreeDetailed(root.right)\n",
    "\n",
    "def treeInput():\n",
    "    rootData = int(input())\n",
    "    if rootData == -1:\n",
    "        return None\n",
    "    root = BinaryTreeNode(rootData)\n",
    "    leftTree = treeInput()\n",
    "    rightTree = treeInput()\n",
    "    root.left = leftTree\n",
    "    root.right = rightTree\n",
    "    return root\n",
    "\n",
    "def numNodes(root):\n",
    "    \n",
    "    #this means that there are no nodes present in the tree\n",
    "    if root == None:\n",
    "        return 0\n",
    "    leftcount = numNodes(root.left)\n",
    "    rightcount = numNodes(root.right)\n",
    "    \n",
    "    #here 1 means the confirmation of a node\n",
    "    #if you do not add 1, then the final answer will be 0\n",
    "    return 1 + leftcount + rightcount\n",
    "\n",
    "root = treeInput()\n",
    "printTreeDetailed(root)\n",
    "print()\n",
    "print(\"total nodes: \", numNodes(root))"
   ]
  },
  {
   "cell_type": "code",
   "execution_count": null,
   "metadata": {},
   "outputs": [],
   "source": []
  }
 ],
 "metadata": {
  "kernelspec": {
   "display_name": "Python 3",
   "language": "python",
   "name": "python3"
  },
  "language_info": {
   "codemirror_mode": {
    "name": "ipython",
    "version": 3
   },
   "file_extension": ".py",
   "mimetype": "text/x-python",
   "name": "python",
   "nbconvert_exporter": "python",
   "pygments_lexer": "ipython3",
   "version": "3.8.2"
  }
 },
 "nbformat": 4,
 "nbformat_minor": 4
}
