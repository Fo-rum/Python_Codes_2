{
 "cells": [
  {
   "cell_type": "code",
   "execution_count": 3,
   "metadata": {},
   "outputs": [
    {
     "name": "stdout",
     "output_type": "stream",
     "text": [
      "1: L 2,R 3\n",
      "2: L 4,R 5\n",
      "4: \n",
      "5: \n",
      "3: \n",
      "\n",
      "1\n",
      "2\n",
      "4\n",
      "5\n",
      "3\n"
     ]
    }
   ],
   "source": [
    "class BinaryTreeNode:\n",
    "    def __init__(self,data):\n",
    "        self.data = data\n",
    "        self.left = None\n",
    "        self.right = None\n",
    "    \n",
    "def printTree(root):\n",
    "    if root == None:\n",
    "        return\n",
    "    print(root.data)\n",
    "    printTree(root.left)\n",
    "    printTree(root.right)\n",
    "    \n",
    "def printTreeDetailed(root):\n",
    "    if root == None:\n",
    "        return\n",
    "    print(root.data, end=\": \")\n",
    "    if root.left != None:\n",
    "        print(\"L\", root.left.data, end=',')\n",
    "    if root.right != None:\n",
    "        print(\"R\", root.right.data, end='')\n",
    "    print()\n",
    "    printTreeDetailed(root.left)\n",
    "    printTreeDetailed(root.right)\n",
    "\n",
    "btn1 = BinaryTreeNode(1)\n",
    "btn2 = BinaryTreeNode(2)\n",
    "btn3 = BinaryTreeNode(3)\n",
    "btn4 = BinaryTreeNode(4)\n",
    "btn5 = BinaryTreeNode(5)\n",
    "\n",
    "btn1.left = btn2\n",
    "btn1.right = btn3\n",
    "btn2.left = btn4\n",
    "btn2.right = btn5\n",
    "\n",
    "printTreeDetailed(btn1)\n",
    "print()\n",
    "printTree(btn1)"
   ]
  }
 ],
 "metadata": {
  "kernelspec": {
   "display_name": "Python 3",
   "language": "python",
   "name": "python3"
  },
  "language_info": {
   "codemirror_mode": {
    "name": "ipython",
    "version": 3
   },
   "file_extension": ".py",
   "mimetype": "text/x-python",
   "name": "python",
   "nbconvert_exporter": "python",
   "pygments_lexer": "ipython3",
   "version": "3.8.2"
  }
 },
 "nbformat": 4,
 "nbformat_minor": 4
}
