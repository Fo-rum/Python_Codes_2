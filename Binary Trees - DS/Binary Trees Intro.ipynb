{
 "cells": [
  {
   "cell_type": "code",
   "execution_count": null,
   "metadata": {},
   "outputs": [],
   "source": [
    "\"\"\"Every node in a Binary Tree can have either 0,1 or 2 nodes at a maximum.\n",
    "\n",
    "Notations:\n",
    "root: top most data\n",
    "node: one individual datapoint in the tree\n",
    "child-parent relation: link which is present between a child and a parent\n",
    "siblings: two nodes having the same parent\n",
    "leaves: nodes that do not have any children\"\"\""
   ]
  },
  {
   "cell_type": "code",
   "execution_count": 2,
   "metadata": {},
   "outputs": [],
   "source": [
    "class BinaryTreeNode:\n",
    "    def __init__(self,data):\n",
    "        self.data = data\n",
    "        self.left = None\n",
    "        self.right = None\n",
    "\n",
    "btn1 = BinaryTreeNode(1)\n",
    "btn2 = BinaryTreeNode(4)\n",
    "btn3 = BinaryTreeNode(5)\n",
    "\n",
    "#making connections between the nodes\n",
    "btn1.left = btn2\n",
    "btn1.right = btn3"
   ]
  }
 ],
 "metadata": {
  "kernelspec": {
   "display_name": "Python 3",
   "language": "python",
   "name": "python3"
  },
  "language_info": {
   "codemirror_mode": {
    "name": "ipython",
    "version": 3
   },
   "file_extension": ".py",
   "mimetype": "text/x-python",
   "name": "python",
   "nbconvert_exporter": "python",
   "pygments_lexer": "ipython3",
   "version": "3.8.2"
  }
 },
 "nbformat": 4,
 "nbformat_minor": 4
}
