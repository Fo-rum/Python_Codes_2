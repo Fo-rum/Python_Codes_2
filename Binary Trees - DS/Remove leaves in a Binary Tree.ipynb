{
 "cells": [
  {
   "cell_type": "code",
   "execution_count": null,
   "metadata": {},
   "outputs": [],
   "source": [
    "\"\"\"Just remove the leaf nodes in the binary tree\n",
    "dont change the structure\n",
    "just remove the connections.\"\"\""
   ]
  },
  {
   "cell_type": "code",
   "execution_count": 2,
   "metadata": {},
   "outputs": [
    {
     "name": "stdout",
     "output_type": "stream",
     "text": [
      "1\n",
      "2\n",
      "4\n",
      "-1\n",
      "-1\n",
      "5\n",
      "8\n",
      "-1\n",
      "-1\n",
      "9\n",
      "-1\n",
      "-1\n",
      "3\n",
      "6\n",
      "-1\n",
      "-1\n",
      "7\n",
      "-1\n",
      "-1\n",
      "1: L 2,R 3\n",
      "2: L 4,R 5\n",
      "4: \n",
      "5: L 8,R 9\n",
      "8: \n",
      "9: \n",
      "3: L 6,R 7\n",
      "6: \n",
      "7: \n",
      "\n",
      "1: L 2,R 3\n",
      "2: R 5\n",
      "5: \n",
      "3: \n"
     ]
    }
   ],
   "source": [
    "class BinaryTreeNode:\n",
    "    def __init__(self,data):\n",
    "        self.data = data\n",
    "        self.left = None\n",
    "        self.right = None\n",
    "    \n",
    "def printTree(root):\n",
    "    if root == None:\n",
    "        return\n",
    "    print(root.data)\n",
    "    printTree(root.left)\n",
    "    printTree(root.right)\n",
    "    \n",
    "def printTreeDetailed(root):\n",
    "    if root == None:\n",
    "        return\n",
    "    print(root.data, end=\": \")\n",
    "    if root.left != None:\n",
    "        print(\"L\", root.left.data, end=',')\n",
    "    if root.right != None:\n",
    "        print(\"R\", root.right.data, end='')\n",
    "    print()\n",
    "    printTreeDetailed(root.left)\n",
    "    printTreeDetailed(root.right)\n",
    "\n",
    "def treeInput():\n",
    "    rootData = int(input())\n",
    "    if rootData == -1:\n",
    "        return None\n",
    "    root = BinaryTreeNode(rootData)\n",
    "    leftTree = treeInput()\n",
    "    rightTree = treeInput()\n",
    "    root.left = leftTree\n",
    "    root.right = rightTree\n",
    "    return root\n",
    "\n",
    "def removeLeaves(root):\n",
    "    #base case\n",
    "    if root == None:\n",
    "        return None\n",
    "    \n",
    "    #means it is a leaf node \n",
    "    if root.left == None and root.right == None:\n",
    "        return None\n",
    "    \n",
    "    #below two statements are mandatory, without which the changes will not be seen\n",
    "    root.left = removeLeaves(root.left)\n",
    "    root.right = removeLeaves(root.right)\n",
    "    return root\n",
    "\n",
    "root = treeInput()\n",
    "printTreeDetailed(root)\n",
    "root = removeLeaves(root)\n",
    "print(\"After removing leaf nodes: \")\n",
    "printTreeDetailed(root)"
   ]
  }
 ],
 "metadata": {
  "kernelspec": {
   "display_name": "Python 3",
   "language": "python",
   "name": "python3"
  },
  "language_info": {
   "codemirror_mode": {
    "name": "ipython",
    "version": 3
   },
   "file_extension": ".py",
   "mimetype": "text/x-python",
   "name": "python",
   "nbconvert_exporter": "python",
   "pygments_lexer": "ipython3",
   "version": "3.8.2"
  }
 },
 "nbformat": 4,
 "nbformat_minor": 4
}
