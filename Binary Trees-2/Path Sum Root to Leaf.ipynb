{
 "cells": [
  {
   "cell_type": "markdown",
   "metadata": {},
   "source": [
    "For a given Binary Tree of type integer and a number K, print out all root-to-leaf paths where the sum of all the node data along the path is equal to K."
   ]
  },
  {
   "cell_type": "markdown",
   "metadata": {},
   "source": [
    "Input Format:\n",
    "The first line of input will contain the node data, all separated by a single space. Since -1 is used as an indication whether the left or right node data exist for root, it will not be a part of the node data.\n",
    "\n",
    "The second line of input contains an integer value K.\n",
    "\n",
    "Output Format:\n",
    "\n",
    "Lines equal to the total number of paths will be printed. All the node data in every path will be printed in a linear fashion taken in the order they appear from top to down bottom in the tree. A single space will separate them all.\n",
    "\n",
    "Constriants:\n",
    "\n",
    "1 <= N <= 10^5\n",
    "\n",
    "0 <= K <= 10^8\n",
    "\n",
    "Where N is the total number of nodes in the binary tree.\n",
    "\n",
    "Time Limit: 1 second"
   ]
  },
  {
   "cell_type": "code",
   "execution_count": null,
   "metadata": {},
   "outputs": [],
   "source": [
    "import queue\n",
    "import sys\n",
    "sys.setrecursionlimit(10**6)\n",
    "class BinaryTreeNode:\n",
    "    def __init__(self, data):\n",
    "        self.data = data\n",
    "        self.left = None\n",
    "        self.right = None\n",
    "\n",
    "def rootToLeafPathsSumToK(root, k, lst):\n",
    "    #############################\n",
    "    # PLEASE ADD YOUR CODE HERE #\n",
    "    #############################\n",
    "    if root==None:\n",
    "        return None\n",
    "    if root.left==None and root.right==None:\n",
    "        if root.data==k:\n",
    "            print(*lst,k)\n",
    "        return\n",
    "    lst.append(root.data)\n",
    "    rootToLeafPathsSumToK(root.left, k-root.data, lst)\n",
    "    rootToLeafPathsSumToK(root.right, k-root.data, lst)\n",
    "    lst.pop()\n",
    "    pass\n",
    "\n",
    "def buildLevelTree(levelorder):\n",
    "    index = 0\n",
    "    length = len(levelorder)\n",
    "    if length<=0 or levelorder[0]==-1:\n",
    "        return None\n",
    "    root = BinaryTreeNode(levelorder[index])\n",
    "    index += 1\n",
    "    q = queue.Queue()\n",
    "    q.put(root)\n",
    "    while not q.empty():\n",
    "        currentNode = q.get()\n",
    "        leftChild = levelorder[index]\n",
    "        index += 1\n",
    "        if leftChild != -1:\n",
    "            leftNode = BinaryTreeNode(leftChild)\n",
    "            currentNode.left =leftNode\n",
    "            q.put(leftNode)\n",
    "        rightChild = levelorder[index]\n",
    "        index += 1\n",
    "        if rightChild != -1:\n",
    "            rightNode = BinaryTreeNode(rightChild)\n",
    "            currentNode.right =rightNode\n",
    "            q.put(rightNode)\n",
    "    return root\n",
    "\n",
    "# Main\n",
    "levelOrder = [int(i) for i in input().strip().split()]\n",
    "root = buildLevelTree(levelOrder)\n",
    "k=int(input())\n",
    "rootToLeafPathsSumToK(root, k, [])\n"
   ]
  },
  {
   "cell_type": "code",
   "execution_count": null,
   "metadata": {},
   "outputs": [],
   "source": [
    "\"\"\"Sample Input 1:\n",
    "2 3 9 4 8 -1 2 4 -1 -1 -1 6 -1 -1 -1 -1 -1\n",
    "13\n",
    " Sample Output 1:\n",
    "2 3 4 4 \n",
    "2 3 8\n",
    "Sample Input 2:\n",
    "5 6 7 2 3 -1 1 -1 -1 -1 9 -1 -1 -1 -1\n",
    "13\n",
    " Sample Output 2:\n",
    "5 6 2\n",
    "5 7 1\"\"\""
   ]
  }
 ],
 "metadata": {
  "kernelspec": {
   "display_name": "Python 3",
   "language": "python",
   "name": "python3"
  },
  "language_info": {
   "codemirror_mode": {
    "name": "ipython",
    "version": 3
   },
   "file_extension": ".py",
   "mimetype": "text/x-python",
   "name": "python",
   "nbconvert_exporter": "python",
   "pygments_lexer": "ipython3",
   "version": "3.8.2"
  }
 },
 "nbformat": 4,
 "nbformat_minor": 4
}
