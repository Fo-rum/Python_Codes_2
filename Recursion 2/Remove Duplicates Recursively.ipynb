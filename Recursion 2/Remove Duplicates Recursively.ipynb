{
 "cells": [
  {
   "cell_type": "markdown",
   "metadata": {},
   "source": [
    "Given a string S, remove consecutive duplicates from it recursively."
   ]
  },
  {
   "cell_type": "markdown",
   "metadata": {},
   "source": [
    "Input Format :\n",
    "String S\n",
    "\n",
    "Output Format :\n",
    "Output string\n",
    "\n",
    "Constraints :\n",
    "1 <= |S| <= 10^3\n",
    "\n",
    "where |S| represents the length of string"
   ]
  },
  {
   "cell_type": "code",
   "execution_count": 2,
   "metadata": {},
   "outputs": [
    {
     "name": "stdout",
     "output_type": "stream",
     "text": [
      "xxxyyyzwwzzz\n",
      "xyzwz\n"
     ]
    }
   ],
   "source": [
    "\n",
    "def removeConsecutiveDuplicates(string):\n",
    "    if len(string) == 0 or len(string) == 1:\n",
    "        return string\n",
    "\n",
    "    smalloutput = removeConsecutiveDuplicates(string[1:])\n",
    "    if string[0] == string[1]:\n",
    "      return smalloutput\n",
    "\n",
    "    else:\n",
    "      return string[0] + smalloutput\n",
    "\n",
    "# Main\n",
    "string = input().strip()\n",
    "print(removeConsecutiveDuplicates(string))"
   ]
  },
  {
   "cell_type": "code",
   "execution_count": null,
   "metadata": {},
   "outputs": [],
   "source": [
    "\"\"\"\n",
    "Sample Input 1 :\n",
    "aabccba\n",
    "Sample Output 1 :\n",
    "abcba\n",
    "Sample Input 2 :\n",
    "xxxyyyzwwzzz\n",
    "Sample Output 2 :\n",
    "xyzwz\n",
    "\"\"\""
   ]
  }
 ],
 "metadata": {
  "kernelspec": {
   "display_name": "Python 3",
   "language": "python",
   "name": "python3"
  },
  "language_info": {
   "codemirror_mode": {
    "name": "ipython",
    "version": 3
   },
   "file_extension": ".py",
   "mimetype": "text/x-python",
   "name": "python",
   "nbconvert_exporter": "python",
   "pygments_lexer": "ipython3",
   "version": "3.8.2"
  }
 },
 "nbformat": 4,
 "nbformat_minor": 4
}
