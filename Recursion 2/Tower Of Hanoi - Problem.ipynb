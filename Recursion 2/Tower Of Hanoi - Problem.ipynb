{
 "cells": [
  {
   "cell_type": "markdown",
   "metadata": {},
   "source": [
    "Tower of Hanoi is a mathematical puzzle where we have three rods and n disks.\n",
    "\n",
    "The objective of the puzzle is to move all disks from source rod to destination rod using third rod (say auxiliary). \n",
    "\n",
    "The rules are :\n",
    "1) Only one disk can be moved at a time.\n",
    "\n",
    "2) A disk can be moved only if it is on the top of a rod.\n",
    "\n",
    "3) No disk can be placed on the top of a smaller disk.\n",
    "\n",
    "Print the steps required to move n disks from source rod to destination rod.\n",
    "\n",
    "Source Rod is named as 'a', auxiliary rod as 'b' and destination rod as 'c'."
   ]
  },
  {
   "cell_type": "markdown",
   "metadata": {},
   "source": [
    "Input Format :\n",
    "Integer n\n",
    "\n",
    "Output Format :\n",
    "Steps in different lines (in one line print source and destination rod name separated by space)\n",
    "\n",
    "Constraints :\n",
    "0 <= n <= 20"
   ]
  },
  {
   "cell_type": "code",
   "execution_count": 2,
   "metadata": {},
   "outputs": [
    {
     "name": "stdout",
     "output_type": "stream",
     "text": [
      "3\n",
      "a   c\n",
      "a   b\n",
      "c   b\n",
      "a   c\n",
      "b   a\n",
      "b   c\n",
      "a   c\n"
     ]
    }
   ],
   "source": [
    "def towerofhanoi(n, source, aux, dest):\n",
    "    if n == 1:\n",
    "        print(source, \" \", dest)\n",
    "        return\n",
    "        \n",
    "    if n==0:\n",
    "        return\n",
    "    \n",
    "    towerofhanoi(n-1, source, dest, aux)\n",
    "    print(source, \" \", dest)\n",
    "    towerofhanoi(n-1, aux, source, dest)\n",
    "\n",
    "    \n",
    "n=int(input())\n",
    "towerofhanoi(n, 'a', 'b', 'c')\n"
   ]
  },
  {
   "cell_type": "code",
   "execution_count": null,
   "metadata": {},
   "outputs": [],
   "source": [
    "\"\"\"\n",
    "Sample Input 1 :\n",
    "2\n",
    "Sample Output 1 :\n",
    "a b\n",
    "a c\n",
    "b c\n",
    "Sample Input 2 :\n",
    "3\n",
    "Sample Output 2 :\n",
    "a c\n",
    "a b\n",
    "c b\n",
    "a c\n",
    "b a\n",
    "b c\n",
    "a c\n",
    "\"\"\""
   ]
  }
 ],
 "metadata": {
  "kernelspec": {
   "display_name": "Python 3",
   "language": "python",
   "name": "python3"
  },
  "language_info": {
   "codemirror_mode": {
    "name": "ipython",
    "version": 3
   },
   "file_extension": ".py",
   "mimetype": "text/x-python",
   "name": "python",
   "nbconvert_exporter": "python",
   "pygments_lexer": "ipython3",
   "version": "3.8.2"
  }
 },
 "nbformat": 4,
 "nbformat_minor": 4
}
