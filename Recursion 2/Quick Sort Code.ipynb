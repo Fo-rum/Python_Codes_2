{
 "cells": [
  {
   "cell_type": "markdown",
   "metadata": {},
   "source": [
    "Sort an array A using Quick Sort.\n",
    "\n",
    "Change in the input array itself. \n",
    "\n",
    "So no need to return or print anything."
   ]
  },
  {
   "cell_type": "markdown",
   "metadata": {},
   "source": [
    "\n",
    "Input format :\n",
    "    \n",
    "Line 1 : Integer n i.e. Array size\n",
    "    \n",
    "Line 2 : Array elements (separated by space)\n",
    "    \n",
    "Output format :\n",
    "Array elements in increasing order (separated by space)\n",
    "\n",
    "Constraints :\n",
    "1 <= n <= 10^3"
   ]
  },
  {
   "cell_type": "code",
   "execution_count": 2,
   "metadata": {},
   "outputs": [
    {
     "name": "stdout",
     "output_type": "stream",
     "text": [
      "5\n",
      "1 5 2 7 3\n",
      "1 2 3 5 7\n"
     ]
    }
   ],
   "source": [
    "def partition(arr, start, end):\n",
    "    pivot = arr[start]\n",
    "    #find the number of elements smaller than pivot\n",
    "    c = 0\n",
    "    for i in range(start,end+1):\n",
    "        if arr[i] < pivot:\n",
    "            c+=1\n",
    "    arr[start+c], arr[start] = arr[start], arr[start+c]\n",
    "    pivot_index = start + c\n",
    "    \n",
    "    i = start\n",
    "    j = end\n",
    "    while(i<j):\n",
    "        if arr[i] < pivot:\n",
    "            i = i + 1\n",
    "        elif arr[j] >= pivot:\n",
    "            j = j -1\n",
    "        else:\n",
    "            arr[i], arr[j] = arr[j], arr[i]\n",
    "            i += 1\n",
    "            j = j -1\n",
    "            \n",
    "    return pivot_index        \n",
    "    \n",
    "    \n",
    "\n",
    "def quickSort(arr, start, end):\n",
    "    if start >= end:\n",
    "        return\n",
    "    \n",
    "    pivot_index = partition(arr, start, end)\n",
    "    quickSort(arr, start, pivot_index - 1)\n",
    "    quickSort(arr, pivot_index + 1, end)\n",
    "    \n",
    "\n",
    "n=int(input())\n",
    "arr=list(int(i) for i in input().strip().split(' '))\n",
    "quickSort(arr, 0, n-1)\n",
    "print(*arr)"
   ]
  },
  {
   "cell_type": "code",
   "execution_count": null,
   "metadata": {},
   "outputs": [],
   "source": [
    "\"\"\"\n",
    "Sample Input 1 :\n",
    "6 \n",
    "2 6 8 5 4 3\n",
    "Sample Output 1 :\n",
    "2 3 4 5 6 8\n",
    "Sample Input 2 :\n",
    "5\n",
    "1 5 2 7 3\n",
    "Sample Output 2 :\n",
    "1 2 3 5 7 \n",
    "\"\"\""
   ]
  }
 ],
 "metadata": {
  "kernelspec": {
   "display_name": "Python 3",
   "language": "python",
   "name": "python3"
  },
  "language_info": {
   "codemirror_mode": {
    "name": "ipython",
    "version": 3
   },
   "file_extension": ".py",
   "mimetype": "text/x-python",
   "name": "python",
   "nbconvert_exporter": "python",
   "pygments_lexer": "ipython3",
   "version": "3.8.2"
  }
 },
 "nbformat": 4,
 "nbformat_minor": 4
}
