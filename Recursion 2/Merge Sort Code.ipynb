{
 "cells": [
  {
   "cell_type": "markdown",
   "metadata": {},
   "source": [
    "Sort an array A using Merge Sort.\n",
    "\n",
    "Change in the input array itself. \n",
    "\n",
    "So no need to return or print anything."
   ]
  },
  {
   "cell_type": "markdown",
   "metadata": {},
   "source": [
    "Input format :\n",
    "    \n",
    "Line 1 : Integer n i.e. Array size\n",
    "    \n",
    "Line 2 : Array elements (separated by space)\n",
    "    \n",
    "Output format :\n",
    "Array elements in increasing order (separated by space)\n",
    "\n",
    "Constraints :\n",
    "1 <= n <= 10^3"
   ]
  },
  {
   "cell_type": "code",
   "execution_count": 2,
   "metadata": {},
   "outputs": [
    {
     "name": "stdout",
     "output_type": "stream",
     "text": [
      "5\n",
      "2 1 5 2 3\n",
      "1 2 2 3 5\n"
     ]
    }
   ],
   "source": [
    "def merge(s1,s2,arr):\n",
    "    i = j= k= 0\n",
    "    while i<len(s1) and j <len(s2):\n",
    "        if s1[i] < s2[j]:\n",
    "            arr[k] = s1[i]\n",
    "            i = i + 1\n",
    "            k = k + 1\n",
    "            \n",
    "        else:\n",
    "            arr[k] = s2[j]\n",
    "            j = j + 1\n",
    "            k = k+1\n",
    "            \n",
    "    while(i<len(s1)):\n",
    "        arr[k] = s1[i]\n",
    "        i = i +1\n",
    "        k = k + 1\n",
    "        \n",
    "    while(j<len(s2)):\n",
    "        arr[k] = s2[j]\n",
    "        j =j +1\n",
    "        k = k+1\n",
    "        \n",
    "def mergeSort(arr, start, end):\n",
    "    l = len(arr)\n",
    "    if l == 0 or l == 1:\n",
    "        return \n",
    "    mid = (start + end) // 2\n",
    "    s1=arr[:mid]\n",
    "    s2= arr[mid:]\n",
    "    mergeSort(s1,0,mid)\n",
    "    mergeSort(s2,mid, end)\n",
    "    merge(s1, s2,arr)\n",
    "   \n",
    "\n",
    "# Main\n",
    "n=int(input())\n",
    "arr=list(int(i) for i in input().strip().split(' '))\n",
    "mergeSort(arr, 0, n)\n",
    "print(*arr)\n"
   ]
  },
  {
   "cell_type": "code",
   "execution_count": null,
   "metadata": {},
   "outputs": [],
   "source": [
    "\"\"\"\n",
    "Sample Input 1 :\n",
    "6 \n",
    "2 6 8 5 4 3\n",
    "Sample Output 1 :\n",
    "2 3 4 5 6 8\n",
    "Sample Input 2 :\n",
    "5\n",
    "2 1 5 2 3\n",
    "Sample Output 2 :\n",
    "1 2 2 3 5 \n",
    "\"\"\""
   ]
  }
 ],
 "metadata": {
  "kernelspec": {
   "display_name": "Python 3",
   "language": "python",
   "name": "python3"
  },
  "language_info": {
   "codemirror_mode": {
    "name": "ipython",
    "version": 3
   },
   "file_extension": ".py",
   "mimetype": "text/x-python",
   "name": "python",
   "nbconvert_exporter": "python",
   "pygments_lexer": "ipython3",
   "version": "3.8.2"
  }
 },
 "nbformat": 4,
 "nbformat_minor": 4
}
