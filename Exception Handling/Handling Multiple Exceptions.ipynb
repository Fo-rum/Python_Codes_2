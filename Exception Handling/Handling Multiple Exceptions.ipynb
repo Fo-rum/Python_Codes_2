{
 "cells": [
  {
   "cell_type": "code",
   "execution_count": 3,
   "metadata": {},
   "outputs": [
    {
     "name": "stdout",
     "output_type": "stream",
     "text": [
      "enter the numerator: 5\n",
      "enter the denominator: w\n",
      "Numerator and denominator both must be integers\n",
      "enter the numerator: w\n",
      "Numerator and denominator both must be integers\n",
      "enter the numerator: 5\n",
      "enter the denominator: 0\n",
      "Denominator cannot be zero\n",
      "enter the numerator: w\n",
      "Numerator and denominator both must be integers\n",
      "enter the numerator: 0\n",
      "enter the denominator: 2\n",
      "0.0\n"
     ]
    }
   ],
   "source": [
    "#Writing the above code in a loop\n",
    "# i.e if the user enters wrong input, then prompt the user to enter the input again correctly\n",
    "# Multiple exceptions are handled here\n",
    "while True:\n",
    "    try:\n",
    "        n = input(\"enter the numerator: \")\n",
    "        num = int(n)\n",
    "        d = input(\"enter the denominator: \")\n",
    "        denom = int(d)\n",
    "        value = num / denom\n",
    "        print(value)\n",
    "        break\n",
    "    except ValueError:\n",
    "        print(\"Numerator and denominator both must be integers\")\n",
    "    except ZeroDivisionError:\n",
    "        print(\"Denominator cannot be zero\")"
   ]
  },
  {
   "cell_type": "code",
   "execution_count": 4,
   "metadata": {},
   "outputs": [
    {
     "name": "stdout",
     "output_type": "stream",
     "text": [
      "enter the numerator: 5\n",
      "enter the denominator: 0\n"
     ]
    },
    {
     "ename": "NameError",
     "evalue": "name 'ZeroDivisonError' is not defined",
     "output_type": "error",
     "traceback": [
      "\u001b[0;31m---------------------------------------------------------------------------\u001b[0m",
      "\u001b[0;31mZeroDivisionError\u001b[0m                         Traceback (most recent call last)",
      "\u001b[0;32m<ipython-input-4-3cc0f5253eee>\u001b[0m in \u001b[0;36m<module>\u001b[0;34m\u001b[0m\n\u001b[1;32m      6\u001b[0m         \u001b[0mdenom\u001b[0m \u001b[0;34m=\u001b[0m \u001b[0mint\u001b[0m\u001b[0;34m(\u001b[0m\u001b[0md\u001b[0m\u001b[0;34m)\u001b[0m\u001b[0;34m\u001b[0m\u001b[0;34m\u001b[0m\u001b[0m\n\u001b[0;32m----> 7\u001b[0;31m         \u001b[0mvalue\u001b[0m \u001b[0;34m=\u001b[0m \u001b[0mnum\u001b[0m \u001b[0;34m/\u001b[0m \u001b[0mdenom\u001b[0m\u001b[0;34m\u001b[0m\u001b[0;34m\u001b[0m\u001b[0m\n\u001b[0m\u001b[1;32m      8\u001b[0m         \u001b[0mprint\u001b[0m\u001b[0;34m(\u001b[0m\u001b[0mvalue\u001b[0m\u001b[0;34m)\u001b[0m\u001b[0;34m\u001b[0m\u001b[0;34m\u001b[0m\u001b[0m\n",
      "\u001b[0;31mZeroDivisionError\u001b[0m: division by zero",
      "\nDuring handling of the above exception, another exception occurred:\n",
      "\u001b[0;31mNameError\u001b[0m                                 Traceback (most recent call last)",
      "\u001b[0;32m<ipython-input-4-3cc0f5253eee>\u001b[0m in \u001b[0;36m<module>\u001b[0;34m\u001b[0m\n\u001b[1;32m      8\u001b[0m         \u001b[0mprint\u001b[0m\u001b[0;34m(\u001b[0m\u001b[0mvalue\u001b[0m\u001b[0;34m)\u001b[0m\u001b[0;34m\u001b[0m\u001b[0;34m\u001b[0m\u001b[0m\n\u001b[1;32m      9\u001b[0m         \u001b[0;32mbreak\u001b[0m\u001b[0;34m\u001b[0m\u001b[0;34m\u001b[0m\u001b[0m\n\u001b[0;32m---> 10\u001b[0;31m     \u001b[0;32mexcept\u001b[0m\u001b[0;34m(\u001b[0m\u001b[0mValueError\u001b[0m\u001b[0;34m,\u001b[0m \u001b[0mZeroDivisonError\u001b[0m\u001b[0;34m)\u001b[0m\u001b[0;34m:\u001b[0m\u001b[0;34m\u001b[0m\u001b[0;34m\u001b[0m\u001b[0m\n\u001b[0m\u001b[1;32m     11\u001b[0m         \u001b[0mprint\u001b[0m\u001b[0;34m(\u001b[0m\u001b[0;34m\"Numerator and denominator both must be integers && Denominator cannot be zero \"\u001b[0m\u001b[0;34m)\u001b[0m\u001b[0;34m\u001b[0m\u001b[0;34m\u001b[0m\u001b[0m\n",
      "\u001b[0;31mNameError\u001b[0m: name 'ZeroDivisonError' is not defined"
     ]
    }
   ],
   "source": [
    "#handling multiple exceptions in a single exception block\n",
    "while True:\n",
    "    try:\n",
    "        n = input(\"enter the numerator: \")\n",
    "        num = int(n)\n",
    "        d = input(\"enter the denominator: \")\n",
    "        denom = int(d)\n",
    "        value = num / denom\n",
    "        print(value)\n",
    "        break\n",
    "    except(ValueError, ZeroDivisonError):\n",
    "        print(\"Numerator and denominator both must be integers && Denominator cannot be zero \")"
   ]
  },
  {
   "cell_type": "code",
   "execution_count": null,
   "metadata": {},
   "outputs": [],
   "source": []
  }
 ],
 "metadata": {
  "kernelspec": {
   "display_name": "Python 3",
   "language": "python",
   "name": "python3"
  },
  "language_info": {
   "codemirror_mode": {
    "name": "ipython",
    "version": 3
   },
   "file_extension": ".py",
   "mimetype": "text/x-python",
   "name": "python",
   "nbconvert_exporter": "python",
   "pygments_lexer": "ipython3",
   "version": "3.8.2"
  }
 },
 "nbformat": 4,
 "nbformat_minor": 4
}
