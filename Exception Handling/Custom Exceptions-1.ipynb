{
 "cells": [
  {
   "cell_type": "code",
   "execution_count": 2,
   "metadata": {},
   "outputs": [
    {
     "name": "stdout",
     "output_type": "stream",
     "text": [
      "enter the numerator: 3\n",
      "enter the denominator: \n",
      "Numerator and denominator both must be integers\n",
      "enter the numerator: 3\n",
      "enter the denominator: w\n",
      "Numerator and denominator both must be integers\n",
      "enter the numerator: 3\n",
      "enter the denominator: 0\n",
      "Denominator cannot be zero\n",
      "enter the numerator: 1\n",
      "enter the denominator: 2\n",
      "Hi!\n",
      "0.5\n"
     ]
    }
   ],
   "source": [
    "#Custom exceptions are used when we want to raise an exception by ourselves\n",
    "while True:\n",
    "    try:\n",
    "        n = input(\"enter the numerator: \")\n",
    "        num = int(n)\n",
    "        d = input(\"enter the denominator: \")\n",
    "        denom = int(d)\n",
    "        if denom == 0:\n",
    "            raise ZeroDivisionError\n",
    "        print(\"Hi!\")\n",
    "        value = num / denom\n",
    "        print(value)\n",
    "        break\n",
    "    except ValueError:\n",
    "        print(\"Numerator and denominator both must be integers\")\n",
    "    except ZeroDivisionError:\n",
    "        print(\"Denominator cannot be zero\")"
   ]
  },
  {
   "cell_type": "code",
   "execution_count": null,
   "metadata": {},
   "outputs": [],
   "source": []
  }
 ],
 "metadata": {
  "kernelspec": {
   "display_name": "Python 3",
   "language": "python",
   "name": "python3"
  },
  "language_info": {
   "codemirror_mode": {
    "name": "ipython",
    "version": 3
   },
   "file_extension": ".py",
   "mimetype": "text/x-python",
   "name": "python",
   "nbconvert_exporter": "python",
   "pygments_lexer": "ipython3",
   "version": "3.8.2"
  }
 },
 "nbformat": 4,
 "nbformat_minor": 4
}
