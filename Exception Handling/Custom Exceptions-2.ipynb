{
 "cells": [
  {
   "cell_type": "code",
   "execution_count": 2,
   "metadata": {},
   "outputs": [
    {
     "name": "stdout",
     "output_type": "stream",
     "text": [
      "enter the numerator: 5 \n",
      "enter the denominator: 0\n",
      "Zero Denominator Error is raised\n",
      "enter the numerator: w\n",
      "Numerator and denominator both must be integers\n",
      "enter the numerator: 5 0\n",
      "Numerator and denominator both must be integers\n",
      "enter the numerator: 2\n",
      "enter the denominator: 2\n",
      "Hi!\n",
      "1.0\n"
     ]
    }
   ],
   "source": [
    "#HEre Exception is mandatory to inherit from the Exception class\n",
    "# It contains a constructor where you can pass a message\n",
    "# Exception __init__(message)\n",
    "class ZeroDenominatorError(Exception):\n",
    "    pass\n",
    "while True:\n",
    "    try:\n",
    "        n = input(\"enter the numerator: \")\n",
    "        num = int(n)\n",
    "        d = input(\"enter the denominator: \")\n",
    "        denom = int(d)\n",
    "        if denom == 0:\n",
    "            raise ZeroDenominatorError(\"Denominator shouldnt be zero\")\n",
    "        print(\"Hi!\")\n",
    "        value = num / denom\n",
    "        print(value)\n",
    "        break\n",
    "    except ValueError:\n",
    "        print(\"Numerator and denominator both must be integers\")\n",
    "    except ZeroDivisionError:\n",
    "        print(\"Division by zero is not allowed\")\n",
    "    except ZeroDenominatorError:\n",
    "        print(\"Zero Denominator Error is raised\")"
   ]
  },
  {
   "cell_type": "code",
   "execution_count": null,
   "metadata": {},
   "outputs": [],
   "source": []
  }
 ],
 "metadata": {
  "kernelspec": {
   "display_name": "Python 3",
   "language": "python",
   "name": "python3"
  },
  "language_info": {
   "codemirror_mode": {
    "name": "ipython",
    "version": 3
   },
   "file_extension": ".py",
   "mimetype": "text/x-python",
   "name": "python",
   "nbconvert_exporter": "python",
   "pygments_lexer": "ipython3",
   "version": "3.8.2"
  }
 },
 "nbformat": 4,
 "nbformat_minor": 4
}
