{
 "cells": [
  {
   "cell_type": "code",
   "execution_count": 2,
   "metadata": {},
   "outputs": [
    {
     "name": "stdout",
     "output_type": "stream",
     "text": [
      "enter the numerator: 5\n",
      "enter the denominator: abc\n",
      "Numerator and denominator both must be integers\n",
      "5\n",
      "0\n"
     ]
    },
    {
     "ename": "NameError",
     "evalue": "name 'value' is not defined",
     "output_type": "error",
     "traceback": [
      "\u001b[0;31m---------------------------------------------------------------------------\u001b[0m",
      "\u001b[0;31mNameError\u001b[0m                                 Traceback (most recent call last)",
      "\u001b[0;32m<ipython-input-2-1c711b749450>\u001b[0m in \u001b[0;36m<module>\u001b[0;34m\u001b[0m\n\u001b[1;32m     28\u001b[0m         \u001b[0mprint\u001b[0m\u001b[0;34m(\u001b[0m\u001b[0mnum\u001b[0m\u001b[0;34m)\u001b[0m\u001b[0;34m\u001b[0m\u001b[0;34m\u001b[0m\u001b[0m\n\u001b[1;32m     29\u001b[0m         \u001b[0mprint\u001b[0m\u001b[0;34m(\u001b[0m\u001b[0mdenom\u001b[0m\u001b[0;34m)\u001b[0m\u001b[0;34m\u001b[0m\u001b[0;34m\u001b[0m\u001b[0m\n\u001b[0;32m---> 30\u001b[0;31m         \u001b[0mprint\u001b[0m\u001b[0;34m(\u001b[0m\u001b[0mvalue\u001b[0m\u001b[0;34m)\u001b[0m\u001b[0;34m\u001b[0m\u001b[0;34m\u001b[0m\u001b[0m\n\u001b[0m",
      "\u001b[0;31mNameError\u001b[0m: name 'value' is not defined"
     ]
    }
   ],
   "source": [
    "class ZeroDenominatorError(ZeroDivisionError):\n",
    "    pass\n",
    "while True:\n",
    "    try:\n",
    "        n = input(\"enter the numerator: \")\n",
    "        num = int(n)\n",
    "        d = input(\"enter the denominator: \")\n",
    "        denom = int(d)\n",
    "        if denom == 0:\n",
    "            raise ZeroDenominatorError(\"Denominator shouldnt be zero\")\n",
    "        value = num / denom\n",
    "    except ValueError:\n",
    "        print(\"Numerator and denominator both must be integers\")\n",
    "    except ZeroDenominatorError:\n",
    "        print(\"Division by zero not allowed\")\n",
    "    except ZeroDivisionError:\n",
    "        print(\"Zero Division Error raised\")\n",
    "    \n",
    "    #this is the default exception which should always be written in the end\n",
    "    except:\n",
    "        print(\"Some exception is raised\")\n",
    "    \n",
    "    #Code in the else block will be executed if no errors or exceptions occur in the try block\n",
    "    else:\n",
    "        print(value)\n",
    "        break\n",
    "        \n",
    "    #this will work only if the try block code works properly otherwise it will raise NameError\n",
    "    finally:\n",
    "        print(num)\n",
    "        print(denom)\n",
    "        print(value)"
   ]
  },
  {
   "cell_type": "code",
   "execution_count": null,
   "metadata": {},
   "outputs": [],
   "source": [
    "# Finally will execute the code if there is an exception or not\n",
    "# ie. if an exception occurs, then it will be handled and the finally code will be executed. but the code inside else will not be executed.\n",
    "\n",
    "# The code inside else will only be executed if there are no exceptions or errors in the try block\n"
   ]
  },
  {
   "cell_type": "code",
   "execution_count": null,
   "metadata": {},
   "outputs": [],
   "source": [
    "\"\"\"Example to run finally code:\n",
    "1) num = 5\n",
    "    denom  = 0\n",
    "    \n",
    "    Output: Division by Zero not allowed\n",
    "        5 \n",
    "        0 \n",
    "        NameError\n",
    "        \n",
    "2) num = 5\n",
    "    denom  = 2\n",
    "    \n",
    "    Output: 2.5\n",
    "        5 \n",
    "        2\n",
    "        2.5\n",
    "        \n",
    "3) num = 5\n",
    "    denom  = abc\n",
    "    \n",
    "    Output: Numerator and denominator should be integers\n",
    "        5 \n",
    "        NameError\"\"\""
   ]
  }
 ],
 "metadata": {
  "kernelspec": {
   "display_name": "Python 3",
   "language": "python",
   "name": "python3"
  },
  "language_info": {
   "codemirror_mode": {
    "name": "ipython",
    "version": 3
   },
   "file_extension": ".py",
   "mimetype": "text/x-python",
   "name": "python",
   "nbconvert_exporter": "python",
   "pygments_lexer": "ipython3",
   "version": "3.8.2"
  }
 },
 "nbformat": 4,
 "nbformat_minor": 4
}
