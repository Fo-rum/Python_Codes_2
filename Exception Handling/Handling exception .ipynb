{
 "cells": [
  {
   "cell_type": "code",
   "execution_count": 11,
   "metadata": {},
   "outputs": [
    {
     "name": "stdout",
     "output_type": "stream",
     "text": [
      "enter the numerator: w\n",
      "numerator and denominator should be integer\n"
     ]
    }
   ],
   "source": [
    "#Using try block. handling Value Error incase the user gives string as an input\n",
    "try:\n",
    "    n = input(\"enter the numerator: \")\n",
    "    num = int(n)\n",
    "    d = input(\"enter the denominator: \")\n",
    "    denom = int(d)\n",
    "    value = num/denom\n",
    "    print(value)\n",
    "except ValueError:\n",
    "    print(\"numerator and denominator should be integer\")\n",
    "    \n",
    "            "
   ]
  }
 ],
 "metadata": {
  "kernelspec": {
   "display_name": "Python 3",
   "language": "python",
   "name": "python3"
  },
  "language_info": {
   "codemirror_mode": {
    "name": "ipython",
    "version": 3
   },
   "file_extension": ".py",
   "mimetype": "text/x-python",
   "name": "python",
   "nbconvert_exporter": "python",
   "pygments_lexer": "ipython3",
   "version": "3.8.2"
  }
 },
 "nbformat": 4,
 "nbformat_minor": 4
}
