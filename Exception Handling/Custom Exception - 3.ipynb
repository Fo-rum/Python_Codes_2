{
 "cells": [
  {
   "cell_type": "code",
   "execution_count": 6,
   "metadata": {},
   "outputs": [
    {
     "name": "stdout",
     "output_type": "stream",
     "text": [
      "enter the numerator: 5\n",
      "enter the denominator: 0\n",
      "Zero Division Error raised\n",
      "enter the numerator: w\n",
      "Numerator and denominator both must be integers\n",
      "enter the numerator: 5\n",
      "enter the denominator: 2\n",
      "2.5\n"
     ]
    }
   ],
   "source": [
    "#Over here, the output is zero division error \n",
    "# it is the parent class so match is done \n",
    "\n",
    "class ZeroDenominatorError(ZeroDivisionError):\n",
    "    pass\n",
    "while True:\n",
    "    try:\n",
    "        n = input(\"enter the numerator: \")\n",
    "        num = int(n)\n",
    "        d = input(\"enter the denominator: \")\n",
    "        denom = int(d)\n",
    "        if denom == 0:\n",
    "            raise ZeroDenominatorError(\"Denominator shouldnt be zero\")\n",
    "        value = num / denom\n",
    "        print(value)\n",
    "        break\n",
    "    except ValueError:\n",
    "        print(\"Numerator and denominator both must be integers\")\n",
    "    except ZeroDivisionError:\n",
    "        print(\"Zero Division Error raised\")\n",
    "    except ZeroDenominatorError:\n",
    "        print(\"Division by zero not allowed\")\n",
    "    except:\n",
    "        print(\"Some exception is raised\")"
   ]
  },
  {
   "cell_type": "code",
   "execution_count": 7,
   "metadata": {},
   "outputs": [
    {
     "name": "stdout",
     "output_type": "stream",
     "text": [
      "enter the numerator: 5\n",
      "enter the denominator: 0\n",
      "Division by zero not allowed\n",
      "enter the numerator: w\n",
      "Numerator and denominator both must be integers\n",
      "enter the numerator: 5\n",
      "enter the denominator: 2\n",
      "2.5\n"
     ]
    }
   ],
   "source": [
    "#Over here, the order here is: except VE, except ZeroDenom, except ZeroDiv\n",
    "#hence the output is: Divison by zero not allowed\n",
    "\n",
    "class ZeroDenominatorError(ZeroDivisionError):\n",
    "    pass\n",
    "while True:\n",
    "    try:\n",
    "        n = input(\"enter the numerator: \")\n",
    "        num = int(n)\n",
    "        d = input(\"enter the denominator: \")\n",
    "        denom = int(d)\n",
    "        if denom == 0:\n",
    "            raise ZeroDenominatorError(\"Denominator shouldnt be zero\")\n",
    "        value = num / denom\n",
    "        print(value)\n",
    "        break\n",
    "    except ValueError:\n",
    "        print(\"Numerator and denominator both must be integers\")\n",
    "    except ZeroDenominatorError:\n",
    "        print(\"Division by zero not allowed\")\n",
    "    except ZeroDivisionError:\n",
    "        print(\"Zero Division Error raised\")\n",
    "    \n",
    "    #this is the default exception which should always be written in the end\n",
    "    except:\n",
    "        print(\"Some exception is raised\")"
   ]
  }
 ],
 "metadata": {
  "kernelspec": {
   "display_name": "Python 3",
   "language": "python",
   "name": "python3"
  },
  "language_info": {
   "codemirror_mode": {
    "name": "ipython",
    "version": 3
   },
   "file_extension": ".py",
   "mimetype": "text/x-python",
   "name": "python",
   "nbconvert_exporter": "python",
   "pygments_lexer": "ipython3",
   "version": "3.8.2"
  }
 },
 "nbformat": 4,
 "nbformat_minor": 4
}
