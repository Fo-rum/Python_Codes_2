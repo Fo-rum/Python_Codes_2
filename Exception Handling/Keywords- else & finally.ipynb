{
 "cells": [
  {
   "cell_type": "code",
   "execution_count": 1,
   "metadata": {},
   "outputs": [
    {
     "name": "stdout",
     "output_type": "stream",
     "text": [
      "enter the numerator: 4\n",
      "enter the denominator: w\n",
      "Numerator and denominator both must be integers\n",
      "Exception may or may not be raised\n",
      "enter the numerator: 4\n",
      "enter the denominator: 0\n",
      "Division by zero not allowed\n",
      "Exception may or may not be raised\n",
      "enter the numerator: 4\n",
      "enter the denominator: 2\n",
      "2.0\n",
      "Exception may or may not be raised\n"
     ]
    }
   ],
   "source": [
    "class ZeroDenominatorError(ZeroDivisionError):\n",
    "    pass\n",
    "while True:\n",
    "    try:\n",
    "        n = input(\"enter the numerator: \")\n",
    "        num = int(n)\n",
    "        d = input(\"enter the denominator: \")\n",
    "        denom = int(d)\n",
    "        if denom == 0:\n",
    "            raise ZeroDenominatorError(\"Denominator shouldnt be zero\")\n",
    "        value = num / denom\n",
    "    except ValueError:\n",
    "        print(\"Numerator and denominator both must be integers\")\n",
    "    except ZeroDenominatorError:\n",
    "        print(\"Division by zero not allowed\")\n",
    "    except ZeroDivisionError:\n",
    "        print(\"Zero Division Error raised\")\n",
    "    \n",
    "    #this is the default exception which should always be written in the end\n",
    "    except:\n",
    "        print(\"Some exception is raised\")\n",
    "    \n",
    "    #Code in the else block will be executed if no errors or exceptions occur in the try block\n",
    "    else:\n",
    "        print(value)\n",
    "        break\n",
    "    finally:\n",
    "        print(\"Exception may or may not be raised\")"
   ]
  },
  {
   "cell_type": "code",
   "execution_count": null,
   "metadata": {},
   "outputs": [],
   "source": [
    "\"\"\"Order for exceptions:\n",
    "1) try\n",
    "    except\n",
    "    finally\n",
    "    \n",
    "2) try\n",
    "    except\n",
    "    else\n",
    "    finally\"\"\""
   ]
  }
 ],
 "metadata": {
  "kernelspec": {
   "display_name": "Python 3",
   "language": "python",
   "name": "python3"
  },
  "language_info": {
   "codemirror_mode": {
    "name": "ipython",
    "version": 3
   },
   "file_extension": ".py",
   "mimetype": "text/x-python",
   "name": "python",
   "nbconvert_exporter": "python",
   "pygments_lexer": "ipython3",
   "version": "3.8.2"
  }
 },
 "nbformat": 4,
 "nbformat_minor": 4
}
