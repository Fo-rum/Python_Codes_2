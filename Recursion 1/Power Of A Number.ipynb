{
 "cells": [
  {
   "cell_type": "markdown",
   "metadata": {},
   "source": [
    "Write a program to find x to the power n (i.e. x^n). Take x and n from the user. You need to print the answer.\n",
    "Note : For this question, you can assume that 0 raised to the power of 0 is 1"
   ]
  },
  {
   "cell_type": "markdown",
   "metadata": {},
   "source": [
    "Input format :\n",
    "\n",
    "Two integers x and n (separated by space)\n",
    "\n",
    "Output Format :\n",
    "\n",
    "x^n (i.e. x raise to the power n)\n",
    "\n",
    "Constraints:\n",
    "\n",
    "0 <= x <= 8 \n",
    "0 <= n <= 9"
   ]
  },
  {
   "cell_type": "code",
   "execution_count": 5,
   "metadata": {},
   "outputs": [
    {
     "name": "stdout",
     "output_type": "stream",
     "text": [
      "2 5\n",
      "32\n"
     ]
    }
   ],
   "source": [
    "# ## Read input as specified in the question.\n",
    "# ## Print output as specified in the question.\n",
    "\n",
    "#Approach that contains the recur\n",
    "def power(x,n):\n",
    "    if n==0:\n",
    "        return 1\n",
    "    elif x ==0:\n",
    "        return 0\n",
    "    smallOutput = power(x,n-1)\n",
    "    output = x * smallOutput\n",
    "    return output\n",
    "        \n",
    "\n",
    "\n",
    "str = input().split()\n",
    "x,n = int(str[0]), int(str[1])\n",
    "print(power(x,n))\n",
    "\n",
    "\n",
    "#Alternative approach without the recursive call\n",
    "## Read input as specified in the question.\n",
    "## Print output as specified in the question.\n",
    "# def power(x,n):\n",
    "#     if n==0:\n",
    "#         return 1\n",
    "#     elif x ==0:\n",
    "#         return 0\n",
    "#     smallOutput = x**(n-1)\n",
    "#     output = x * smallOutput\n",
    "#     return output\n",
    "        \n",
    "\n",
    "\n",
    "# str = input().split()\n",
    "# x,n = int(str[0]), int(str[1])\n",
    "# print(power(x,n))\n"
   ]
  },
  {
   "cell_type": "code",
   "execution_count": null,
   "metadata": {},
   "outputs": [],
   "source": [
    "\"\"\"\n",
    "Sample Input 1 :\n",
    " 3 4\n",
    "Sample Output 1 :\n",
    "81\n",
    "Sample Input 2 :\n",
    " 2 5\n",
    "Sample Output 2 :\n",
    "32\n",
    "\"\"\""
   ]
  }
 ],
 "metadata": {
  "kernelspec": {
   "display_name": "Python 3",
   "language": "python",
   "name": "python3"
  },
  "language_info": {
   "codemirror_mode": {
    "name": "ipython",
    "version": 3
   },
   "file_extension": ".py",
   "mimetype": "text/x-python",
   "name": "python",
   "nbconvert_exporter": "python",
   "pygments_lexer": "ipython3",
   "version": "3.8.2"
  }
 },
 "nbformat": 4,
 "nbformat_minor": 4
}
