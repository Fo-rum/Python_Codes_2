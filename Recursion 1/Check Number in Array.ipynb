{
 "cells": [
  {
   "cell_type": "markdown",
   "metadata": {},
   "source": [
    "Given an array of length N and an integer x, you need to find if x is present in the array or not. Return true or false.\n",
    "Do this recursively."
   ]
  },
  {
   "cell_type": "markdown",
   "metadata": {},
   "source": [
    "Input Format :\n",
    "    \n",
    "Line 1 : An Integer N i.e. size of array\n",
    "\n",
    "Line 2 : N integers which are elements of the array, separated by spaces\n",
    "\n",
    "Line 3 : Integer x\n",
    "    \n",
    "Output Format :\n",
    "'true' or 'false'\n",
    "\n",
    "Constraints :\n",
    "1 <= N <= 10^3"
   ]
  },
  {
   "cell_type": "code",
   "execution_count": 3,
   "metadata": {},
   "outputs": [
    {
     "name": "stdout",
     "output_type": "stream",
     "text": [
      "3\n",
      "9 8 10\n",
      "2\n",
      "false\n"
     ]
    }
   ],
   "source": [
    "\n",
    "#Not my approach\n",
    "# def checkNumber(arr, x):\n",
    "#     # Please add your code here\n",
    "#     l=len(arr)\n",
    "#     if l==0:\n",
    "#         return False\n",
    "#     smallerarray=arr[1:]\n",
    "#     if x==arr[0]:\n",
    "#         return True\n",
    "#     find=checkNumber(smallerarray,x)\n",
    "#     if find:\n",
    "#         return True\n",
    "#     else:\n",
    "#         return False\n",
    "    \n",
    "\n",
    "# # Main\n",
    "# from sys import setrecursionlimit\n",
    "# setrecursionlimit(11000)\n",
    "# n=int(input())\n",
    "# arr=list(int(i) for i in input().strip().split(' '))\n",
    "# x=int(input())\n",
    "# if checkNumber(arr, x):\n",
    "#     print('true')\n",
    "# else:\n",
    "#     print('false')\n",
    "\n",
    "    \n",
    "#My approach\n",
    "def checkNumber(arr, x):\n",
    "    l = len(arr)\n",
    "\n",
    "    if l==0:\n",
    "        return\n",
    "    if arr[0] == x:\n",
    "      return True\n",
    "\n",
    "    output = checkNumber(arr[1:], x)\n",
    "    return output\n",
    "    \n",
    "\n",
    "# Main\n",
    "from sys import setrecursionlimit\n",
    "setrecursionlimit(11000)\n",
    "n=int(input())\n",
    "arr=list(int(i) for i in input().strip().split(' '))\n",
    "x=int(input())\n",
    "if checkNumber(arr, x):\n",
    "    print('true')\n",
    "else:\n",
    "    print('false')\n"
   ]
  },
  {
   "cell_type": "code",
   "execution_count": null,
   "metadata": {},
   "outputs": [],
   "source": [
    "\"\"\"\n",
    "Sample Input 1 :\n",
    "3\n",
    "9 8 10\n",
    "8\n",
    "Sample Output 1 :\n",
    "true\n",
    "Sample Input 2 :\n",
    "3\n",
    "9 8 10\n",
    "2\n",
    "Sample Output 2 :\n",
    "false\n",
    "\"\"\""
   ]
  }
 ],
 "metadata": {
  "kernelspec": {
   "display_name": "Python 3",
   "language": "python",
   "name": "python3"
  },
  "language_info": {
   "codemirror_mode": {
    "name": "ipython",
    "version": 3
   },
   "file_extension": ".py",
   "mimetype": "text/x-python",
   "name": "python",
   "nbconvert_exporter": "python",
   "pygments_lexer": "ipython3",
   "version": "3.8.2"
  }
 },
 "nbformat": 4,
 "nbformat_minor": 4
}
