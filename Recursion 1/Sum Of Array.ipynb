{
 "cells": [
  {
   "cell_type": "markdown",
   "metadata": {},
   "source": [
    "Given an array of length N, you need to find and return the sum of all elements of the array.\n",
    "Do this recursively."
   ]
  },
  {
   "cell_type": "markdown",
   "metadata": {},
   "source": [
    "Input Format :\n",
    "\n",
    "Line 1 : An Integer N i.e. size of array\n",
    "Line 2 : N integers which are elements of the array, separated by spaces\n",
    "\n",
    "Output Format :\n",
    "Sum\n",
    "\n",
    "Constraints :\n",
    "1 <= N <= 10^3"
   ]
  },
  {
   "cell_type": "code",
   "execution_count": 2,
   "metadata": {},
   "outputs": [
    {
     "name": "stdout",
     "output_type": "stream",
     "text": [
      "3\n",
      "4 2 1\n",
      "7\n"
     ]
    }
   ],
   "source": [
    "def sumArray(arr):\n",
    "    l = len(arr)\n",
    "    if l == 0:\n",
    "        return \n",
    "    if l == 1:\n",
    "        return arr[0]\n",
    "    smallOutput = sumArray(arr[1:])\n",
    "    output = arr[0] + smallOutput\n",
    "    return output\n",
    "\n",
    "# Main\n",
    "from sys import setrecursionlimit\n",
    "setrecursionlimit(11000)\n",
    "n=int(input())\n",
    "arr=list(int(i) for i in input().strip().split(' '))\n",
    "print(sumArray(arr))\n"
   ]
  },
  {
   "cell_type": "code",
   "execution_count": null,
   "metadata": {},
   "outputs": [],
   "source": [
    "\"\"\"\n",
    "Sample Input 1 :\n",
    "3\n",
    "9 8 9\n",
    "Sample Output 1 :\n",
    "26\n",
    "Sample Input 2 :\n",
    "3\n",
    "4 2 1\n",
    "Sample Output 2 :\n",
    "7    \n",
    "\"\"\""
   ]
  }
 ],
 "metadata": {
  "kernelspec": {
   "display_name": "Python 3",
   "language": "python",
   "name": "python3"
  },
  "language_info": {
   "codemirror_mode": {
    "name": "ipython",
    "version": 3
   },
   "file_extension": ".py",
   "mimetype": "text/x-python",
   "name": "python",
   "nbconvert_exporter": "python",
   "pygments_lexer": "ipython3",
   "version": "3.8.2"
  }
 },
 "nbformat": 4,
 "nbformat_minor": 4
}
