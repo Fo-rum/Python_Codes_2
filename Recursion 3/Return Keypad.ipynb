{
 "cells": [
  {
   "cell_type": "markdown",
   "metadata": {},
   "source": [
    "Given an integer n, using phone keypad find out and return all the possible strings that can be made using digits of input n.\n",
    "\n",
    "Note : The order of strings are not important."
   ]
  },
  {
   "cell_type": "markdown",
   "metadata": {},
   "source": [
    "Input Format :\n",
    "Integer n\n",
    "\n",
    "Output Format :\n",
    "All possible strings in different lines\n",
    "\n",
    "Constraints :\n",
    "1 <= n <= 10^6"
   ]
  },
  {
   "cell_type": "code",
   "execution_count": 1,
   "metadata": {},
   "outputs": [
    {
     "name": "stdout",
     "output_type": "stream",
     "text": [
      "23\n",
      "ad\n",
      "ae\n",
      "af\n",
      "bd\n",
      "be\n",
      "bf\n",
      "cd\n",
      "ce\n",
      "cf\n"
     ]
    }
   ],
   "source": [
    "\n",
    "def getString(d):\n",
    "    if d == 2:\n",
    "        return \"abc\"\n",
    "    if d == 3:\n",
    "        return \"def\"\n",
    "    if d == 4:\n",
    "        return \"ghi\"\n",
    "    if d == 5:\n",
    "        return \"jkl\"\n",
    "    if d == 6:\n",
    "        return \"mno\"\n",
    "    if d == 7:\n",
    "        return \"pqrs\"\n",
    "    if d == 8:\n",
    "        return \"tuv\"\n",
    "    if d == 9:\n",
    "        return \"wxyz\"\n",
    "    return \" \"\n",
    "\n",
    "def keypad(n):\n",
    "    if n == 0:\n",
    "        output = []\n",
    "        output.append(\"\")\n",
    "        return output\n",
    "    \n",
    "    smaller_integer = n // 10\n",
    "    remaining_integer = n % 10\n",
    "    \n",
    "    small_output = keypad(smaller_integer)\n",
    "    options_for_last_digit = getString(remaining_integer)\n",
    "    \n",
    "    new_array = []\n",
    "    \n",
    "    for s in small_output:\n",
    "        for c in options_for_last_digit:\n",
    "            option = s + c\n",
    "            new_array.append(option)\n",
    "            \n",
    "    return new_array\n",
    "    \n",
    "\n",
    "n = int(input())\n",
    "ans = keypad(n)\n",
    "for s in ans:\n",
    "    print(s)"
   ]
  },
  {
   "cell_type": "code",
   "execution_count": null,
   "metadata": {},
   "outputs": [],
   "source": [
    "\"\"\"Sample Input:\n",
    "23\n",
    "Sample Output:\n",
    "ad\n",
    "ae\n",
    "af\n",
    "bd\n",
    "be\n",
    "bf\n",
    "cd\n",
    "ce\n",
    "cf\"\"\""
   ]
  }
 ],
 "metadata": {
  "kernelspec": {
   "display_name": "Python 3",
   "language": "python",
   "name": "python3"
  },
  "language_info": {
   "codemirror_mode": {
    "name": "ipython",
    "version": 3
   },
   "file_extension": ".py",
   "mimetype": "text/x-python",
   "name": "python",
   "nbconvert_exporter": "python",
   "pygments_lexer": "ipython3",
   "version": "3.8.2"
  }
 },
 "nbformat": 4,
 "nbformat_minor": 4
}
