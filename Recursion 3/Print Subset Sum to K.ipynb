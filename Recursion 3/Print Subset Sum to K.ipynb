{
 "cells": [
  {
   "cell_type": "markdown",
   "metadata": {},
   "source": [
    "Given an array A and an integer K, print all subsets of A which sum to K.\n",
    "\n",
    "Subsets are of length varying from 0 to n, that contain elements of the array. \n",
    "\n",
    "But the order of elements should remain same as in the input array.\n",
    "\n",
    "Note : The order of subsets are not important. Just print them in different lines.\n",
    "\n",
    "Input format :\n",
    "\n",
    "Line 1 : Size of input array\n",
    "\n",
    "Line 2 : Array elements separated by space\n",
    "\n",
    "Line 3 : K "
   ]
  },
  {
   "cell_type": "code",
   "execution_count": 1,
   "metadata": {},
   "outputs": [
    {
     "name": "stdout",
     "output_type": "stream",
     "text": [
      "9\n",
      "5 12 3 17 1 18 15 3 17 \n",
      "6\n",
      "3 3 \n",
      "5 1 \n"
     ]
    }
   ],
   "source": [
    "## Read input as specified in the question.\n",
    "## Print output as specified in the question.\n",
    "def printSubsetToKHelper(arr,k,output):\n",
    "    if len(arr) == 0:\n",
    "        if k == 0:\n",
    "            for ele in output:\n",
    "                print(ele, end=' ')\n",
    "            print()\n",
    "                \n",
    "            return\n",
    "        else:\n",
    "            return\n",
    "    \n",
    "    #excluding the first element\n",
    "    printSubsetToKHelper(arr[1:], k , output)\n",
    "    \n",
    "    output1= [ele for ele in output]\n",
    "    output1.append(arr[0])\n",
    "    \n",
    "    #including the first element\n",
    "    printSubsetToKHelper(arr[1:], k-arr[0], output1)\n",
    "\n",
    "def printSubsetToK(arr,k):\n",
    "    output= []\n",
    "    printSubsetToKHelper(arr,k,output)\n",
    "\n",
    "n = int(input())\n",
    "arr = [int(ele) for ele in input().split()]\n",
    "k = int(input())\n",
    "\n",
    "printSubsetToK(arr,k)"
   ]
  },
  {
   "cell_type": "code",
   "execution_count": null,
   "metadata": {},
   "outputs": [],
   "source": [
    "\"\"\"Sample Input:\n",
    "9 \n",
    "5 12 3 17 1 18 15 3 17 \n",
    "6\n",
    "Sample Output:\n",
    "3 3\n",
    "5 1\"\"\""
   ]
  }
 ],
 "metadata": {
  "kernelspec": {
   "display_name": "Python 3",
   "language": "python",
   "name": "python3"
  },
  "language_info": {
   "codemirror_mode": {
    "name": "ipython",
    "version": 3
   },
   "file_extension": ".py",
   "mimetype": "text/x-python",
   "name": "python",
   "nbconvert_exporter": "python",
   "pygments_lexer": "ipython3",
   "version": "3.8.2"
  }
 },
 "nbformat": 4,
 "nbformat_minor": 4
}
