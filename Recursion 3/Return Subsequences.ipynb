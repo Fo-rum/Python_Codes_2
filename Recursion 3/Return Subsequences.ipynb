{
 "cells": [
  {
   "cell_type": "markdown",
   "metadata": {},
   "source": [
    "Given a string (let's say of length n), return all the subsequences of the given string.\n",
    "\n",
    "Subsequences contain all the strings of length varying from 0 to n. But the order of characters should remain the same as in the input string.\n",
    "\n",
    "Note: The order of subsequences are not important.\n"
   ]
  },
  {
   "cell_type": "code",
   "execution_count": 1,
   "metadata": {},
   "outputs": [
    {
     "name": "stdout",
     "output_type": "stream",
     "text": [
      "abc\n",
      "\n",
      "c\n",
      "b\n",
      "bc\n",
      "a\n",
      "ac\n",
      "ab\n",
      "abc\n"
     ]
    }
   ],
   "source": [
    "\n",
    "def subsequences(string):\n",
    "    #base case:\n",
    "    if len(string) == 0:\n",
    "        output = []\n",
    "        output.append(\"\")\n",
    "        return output\n",
    "    \n",
    "    small_output = subsequences(string[1:])\n",
    "    \n",
    "    new_array = []\n",
    "    for subs in small_output:\n",
    "        new_array.append(subs)\n",
    "        \n",
    "    for subs in small_output:\n",
    "        new_array.append(string[0] + subs)\n",
    "        \n",
    "    return new_array\n",
    "    \n",
    "\n",
    "\n",
    "string = input()\n",
    "ans = subsequences(string)\n",
    "for ele in ans:\n",
    "    print(ele)\n",
    "\n"
   ]
  },
  {
   "cell_type": "code",
   "execution_count": null,
   "metadata": {},
   "outputs": [],
   "source": [
    "\"\"\"Sample Input:\n",
    "abc\n",
    "Sample Output:\n",
    "\"\" (the double quotes just signifies an empty string, don't worry about the quotes)\n",
    "c \n",
    "b \n",
    "bc \n",
    "a \n",
    "ac \n",
    "ab \n",
    "abc \"\"\""
   ]
  },
  {
   "cell_type": "code",
   "execution_count": null,
   "metadata": {},
   "outputs": [],
   "source": [
    "\"\"\"Note: i) the base case here will be strings of length 1 or an empty string\n",
    "    ii) for a string of length n, the total number of subsequences = 2^n\n",
    "    iii) Empty string has one subsequence. For base case, return an array containing the empty string -> [\" \"]\"\"\""
   ]
  }
 ],
 "metadata": {
  "kernelspec": {
   "display_name": "Python 3",
   "language": "python",
   "name": "python3"
  },
  "language_info": {
   "codemirror_mode": {
    "name": "ipython",
    "version": 3
   },
   "file_extension": ".py",
   "mimetype": "text/x-python",
   "name": "python",
   "nbconvert_exporter": "python",
   "pygments_lexer": "ipython3",
   "version": "3.8.2"
  }
 },
 "nbformat": 4,
 "nbformat_minor": 4
}
