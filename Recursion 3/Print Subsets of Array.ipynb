{
 "cells": [
  {
   "cell_type": "markdown",
   "metadata": {},
   "source": [
    "Given an integer array (of length n), find and print all the subsets of input array.\n",
    "\n",
    "Subsets are of length varying from 0 to n, that contain elements of the array. \n",
    "\n",
    "But the order of elements should remain same as in the input array.\n",
    "\n",
    "Note : The order of subsets are not important. Just print the subsets in different lines."
   ]
  },
  {
   "cell_type": "markdown",
   "metadata": {},
   "source": [
    "Input format :\n",
    "\n",
    "Line 1 : Integer n, Size of array\n",
    "\n",
    "Line 2 : Array elements (separated by space)\n",
    "\n",
    "Constraints :\n",
    "1 <= n <= 15"
   ]
  },
  {
   "cell_type": "code",
   "execution_count": 1,
   "metadata": {},
   "outputs": [
    {
     "name": "stdout",
     "output_type": "stream",
     "text": [
      "3\n",
      "15 20 12\n",
      "\n",
      "12 \n",
      "20 \n",
      "20 12 \n",
      "15 \n",
      "15 12 \n",
      "15 20 \n",
      "15 20 12 \n"
     ]
    }
   ],
   "source": [
    "## Read input as specified in the question.\n",
    "## Print output as specified in the question.\n",
    "def printSubsetofArrayHelper(arr,output):\n",
    "    \n",
    "    #base case:\n",
    "    #output is 1-d array\n",
    "    if len(arr) == 0:\n",
    "        for ele in output:\n",
    "            print(ele, end = ' ')\n",
    "        print()\n",
    "        return\n",
    "    \n",
    "    #excluding the element\n",
    "    printSubsetofArrayHelper(arr[1:], output)\n",
    "    \n",
    "    #creation of the new array\n",
    "    new_array = [int(ele) for ele in output]\n",
    "    new_array.append(arr[0])\n",
    "    \n",
    "    printSubsetofArrayHelper(arr[1:], new_array)\n",
    "\n",
    "\n",
    "def printSubsetofArray(arr):\n",
    "    \n",
    "    output = []\n",
    "    printSubsetofArrayHelper(arr,output)\n",
    "    \n",
    "\n",
    "n = int(input())\n",
    "arr = [int(ele) for ele in input().split()]\n",
    "\n",
    "printSubsetofArray(arr)"
   ]
  },
  {
   "cell_type": "code",
   "execution_count": null,
   "metadata": {},
   "outputs": [],
   "source": [
    "\"\"\"Sample Input:\n",
    "3\n",
    "15 20 12\n",
    "Sample Output:\n",
    "[] (this just represents an empty array, don't worry about the square brackets)\n",
    "12 \n",
    "20 \n",
    "20 12 \n",
    "15 \n",
    "15 12 \n",
    "15 20 \n",
    "15 20 12 \"\"\""
   ]
  }
 ],
 "metadata": {
  "kernelspec": {
   "display_name": "Python 3",
   "language": "python",
   "name": "python3"
  },
  "language_info": {
   "codemirror_mode": {
    "name": "ipython",
    "version": 3
   },
   "file_extension": ".py",
   "mimetype": "text/x-python",
   "name": "python",
   "nbconvert_exporter": "python",
   "pygments_lexer": "ipython3",
   "version": "3.8.2"
  }
 },
 "nbformat": 4,
 "nbformat_minor": 4
}
