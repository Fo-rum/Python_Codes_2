{
 "cells": [
  {
   "cell_type": "markdown",
   "metadata": {},
   "source": [
    "Given an array A of size n and an integer K, return all subsets of A which sum to K.\n",
    "\n",
    "Subsets are of length varying from 0 to n, that contain elements of the array.\n",
    "\n",
    "But the order of elements should remain same as in the input array.\n",
    "\n",
    "Note : The order of subsets are not important."
   ]
  },
  {
   "cell_type": "markdown",
   "metadata": {},
   "source": [
    "Input format :\n",
    "\n",
    "Line 1 : Integer n, Size of input array\n",
    "\n",
    "Line 2 : Array elements separated by space\n",
    "\n",
    "Line 3 : K \n",
    "\n",
    "Constraints :\n",
    "\n",
    "1 <= n <= 20"
   ]
  },
  {
   "cell_type": "code",
   "execution_count": 1,
   "metadata": {},
   "outputs": [
    {
     "name": "stdout",
     "output_type": "stream",
     "text": [
      "9\n",
      "5 12 3 17 1 18 15 3 17 \n",
      "6\n",
      "3 3\n",
      "5 1\n"
     ]
    }
   ],
   "source": [
    "# def subset(arr,k):\n",
    "## Read input as specified in the question.\n",
    "## Print output as specified in the question.\n",
    "\n",
    "def subsets(arr, k):\n",
    "    return subsetsHelper(arr, 0, k)\n",
    "\n",
    "def subsetsHelper(arr, si, k):\n",
    "    if si == len(arr):\n",
    "        if k == 0:\n",
    "            return [list()]\n",
    "        else:\n",
    "            return list()\n",
    "\n",
    "    smallOutput1 = subsetsHelper(arr, si + 1, k)\n",
    "    smallOutput2 = subsetsHelper(arr, si + 1, k - arr[si])\n",
    "\n",
    "    output = (len(smallOutput1) + len(smallOutput2))*[0]\n",
    "    index = 0\n",
    "    for i in range(len(smallOutput1)):\n",
    "        output[index] = smallOutput1[i]\n",
    "        index += 1\n",
    "\n",
    "    for i in range(len(smallOutput2)):\n",
    "        output[index] = (len(smallOutput2[i]) + 1) * [0]\n",
    "        output[index][0] = arr[si]\n",
    "\n",
    "        for j in range(len(smallOutput2[i])):\n",
    "            output[index][j + 1] = smallOutput2[i][j]\n",
    "        index += 1\n",
    "    return output\n",
    "    \n",
    "\n",
    "n = int(input())\n",
    "arr = [int(x) for x in input().split()]\n",
    "k = int(input())\n",
    "output = subsets(arr, k)\n",
    "for i in output:\n",
    "    print(*i)\n",
    "\n",
    "# import sys\n",
    "# sys.setrecursionlimit(10 ** 8)\n",
    "\n",
    "\n",
    "# def subsetsSumK(arr, k) :\n",
    "    \n",
    "\n",
    "# def takeInput() :\n",
    "#     n = int(input().strip())\n",
    "\n",
    "#     if n == 0 :\n",
    "#         return list(), 0\n",
    "\n",
    "#     arr = [int(element) for element in list(input().strip().split(\" \"))]\n",
    "#     return arr, n\n",
    "\n",
    "\n",
    "# #printing the list of lists\n",
    "# def printListOfList(liOfLi) :\n",
    "#     for li in liOfLi :\n",
    "#         for elem in li :\n",
    "#             print(elem, end = \" \")\n",
    "#         print()\n",
    "\n",
    "# #main\n",
    "# arr, n = takeInput()\n",
    "\n",
    "# if n != 0 :\n",
    "#     k = int(input().strip())\n",
    "#     liOfLi = subsetsSumK(arr, k)\n",
    "\n",
    "#     printListOfList(liOfLi)\n",
    "\n"
   ]
  },
  {
   "cell_type": "code",
   "execution_count": null,
   "metadata": {},
   "outputs": [],
   "source": [
    "\"\"\"Sample Input :\n",
    "9 \n",
    "5 12 3 17 1 18 15 3 17 \n",
    "6\n",
    "Sample Output :\n",
    "3 3\n",
    "5 1\"\"\""
   ]
  }
 ],
 "metadata": {
  "kernelspec": {
   "display_name": "Python 3",
   "language": "python",
   "name": "python3"
  },
  "language_info": {
   "codemirror_mode": {
    "name": "ipython",
    "version": 3
   },
   "file_extension": ".py",
   "mimetype": "text/x-python",
   "name": "python",
   "nbconvert_exporter": "python",
   "pygments_lexer": "ipython3",
   "version": "3.8.2"
  }
 },
 "nbformat": 4,
 "nbformat_minor": 4
}
