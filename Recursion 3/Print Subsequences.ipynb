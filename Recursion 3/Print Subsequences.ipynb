{
 "cells": [
  {
   "cell_type": "markdown",
   "metadata": {},
   "source": [
    "Given a string (lets say of length n), print all the subsequences of the given string.\n",
    "\n",
    "Subsequences contain all the strings of length varying from 0 to n. But the order of characters should remain same as in the input string.\n",
    "\n",
    "Note :\n",
    "The order of subsequences are not important. Print every subsequence in new line."
   ]
  },
  {
   "cell_type": "markdown",
   "metadata": {},
   "source": [
    "Input format:\n",
    "\n",
    "The input only consists of one line which consists of a single string.\n",
    "\n",
    "Output format:\n",
    "\n",
    "The output consists of all subsequences of the input string where each subsequence is printed in a different line. The order of the subsequences doesn't matter.\n",
    "\n",
    "Constraints:\n",
    "\n",
    "1 <= |S| <= 15\n",
    "\n",
    "where |S| represents the length of the input string\n",
    "\n",
    "Time limit: 1 sec\n"
   ]
  },
  {
   "cell_type": "code",
   "execution_count": 1,
   "metadata": {},
   "outputs": [
    {
     "name": "stdout",
     "output_type": "stream",
     "text": [
      "abc\n",
      "\n",
      "c\n",
      "b\n",
      "bc\n",
      "a\n",
      "ac\n",
      "ab\n",
      "abc\n"
     ]
    }
   ],
   "source": [
    "## Read input as specified in the question.\n",
    "## Print output as specified in the question.\n",
    "\n",
    "def printsubs(input,output):\n",
    "    \n",
    "    #no more calls or decision to make because of empty string\n",
    "    if len(input) == 0:\n",
    "        print(output)\n",
    "        return\n",
    "    \n",
    "    #dont include the ith character\n",
    "    printsubs(input[1:], output)\n",
    "    \n",
    "    #include the 0th character\n",
    "    printsubs(input[1:], output+input[0])\n",
    "    \n",
    "    \n",
    "string = input()\n",
    "printsubs(string,\"\")"
   ]
  },
  {
   "cell_type": "code",
   "execution_count": null,
   "metadata": {},
   "outputs": [],
   "source": [
    "\"\"\"Sample Input:\n",
    "abc\n",
    "Sample Output:\n",
    "\"\" (the double quotes just signifies an empty string, don't worry about the quotes)\n",
    "c \n",
    "b \n",
    "bc \n",
    "a \n",
    "ac \n",
    "ab \n",
    "abc \"\"\""
   ]
  },
  {
   "cell_type": "code",
   "execution_count": null,
   "metadata": {},
   "outputs": [],
   "source": [
    "\"\"\"Previously during the same code for recursion, we used to wait for the base case and then use to decide whether\n",
    "to include the first element or not.\n",
    "\n",
    "New approach: Take two calls. One when the character is included, otherwise when the character is not included.\n",
    "LHS call: dont include the character\n",
    "RHS call: include the character\n",
    "\n",
    "thus, we are taking decision while moving towards the basecase.\n",
    "Reaching the basecase and printing the outcomes.\"\"\""
   ]
  }
 ],
 "metadata": {
  "kernelspec": {
   "display_name": "Python 3",
   "language": "python",
   "name": "python3"
  },
  "language_info": {
   "codemirror_mode": {
    "name": "ipython",
    "version": 3
   },
   "file_extension": ".py",
   "mimetype": "text/x-python",
   "name": "python",
   "nbconvert_exporter": "python",
   "pygments_lexer": "ipython3",
   "version": "3.8.2"
  }
 },
 "nbformat": 4,
 "nbformat_minor": 4
}
