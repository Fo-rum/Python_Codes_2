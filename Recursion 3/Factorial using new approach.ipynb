{
 "cells": [
  {
   "cell_type": "code",
   "execution_count": 3,
   "metadata": {},
   "outputs": [
    {
     "name": "stdout",
     "output_type": "stream",
     "text": [
      "1\n",
      "2\n",
      "6\n",
      "24\n",
      "120\n"
     ]
    },
    {
     "data": {
      "text/plain": [
       "120"
      ]
     },
     "execution_count": 3,
     "metadata": {},
     "output_type": "execute_result"
    }
   ],
   "source": [
    "#Not required, because printing all the outputs instead of one\n",
    "def fact(n):\n",
    "    if n == 0:\n",
    "        return 1\n",
    "    smalloutput = fact(n-1)\n",
    "    output = n * smalloutput\n",
    "    print(output)\n",
    "    return output\n",
    "\n",
    "fact(5)"
   ]
  },
  {
   "cell_type": "code",
   "execution_count": 4,
   "metadata": {},
   "outputs": [
    {
     "name": "stdout",
     "output_type": "stream",
     "text": [
      "120\n"
     ]
    }
   ],
   "source": [
    "#Approach 2 but not proper because the idea was the recursion function must print instead of returning\n",
    "def factHelper(n):\n",
    "    if n == 0:\n",
    "        return 1\n",
    "    smalloutput = factHelper(n-1)\n",
    "    output = n * smalloutput\n",
    "    return output\n",
    "\n",
    "def fact(n):\n",
    "    output = factHelper(n)\n",
    "    print(output)\n",
    "    \n",
    "fact(5)"
   ]
  },
  {
   "cell_type": "code",
   "execution_count": 1,
   "metadata": {},
   "outputs": [
    {
     "name": "stdout",
     "output_type": "stream",
     "text": [
      "120\n"
     ]
    }
   ],
   "source": [
    "#Ideal approach:\n",
    "def printFact(n, ans=1):\n",
    "    if n == 0:\n",
    "        print(ans) #everything is computed previously\n",
    "        return\n",
    "    ans = ans * n\n",
    "    printFact(n-1, ans)\n",
    "    \n",
    "printFact(5)"
   ]
  },
  {
   "cell_type": "code",
   "execution_count": null,
   "metadata": {},
   "outputs": [],
   "source": [
    "\"\"\"The idea is instead of building the answer bottom up, we will print it in the top itself\n",
    "Previously, we need to build the answer from the base case to upwards\n",
    "Now, pass the answer itself and the base case would be ideal to print ans\"\"\""
   ]
  }
 ],
 "metadata": {
  "kernelspec": {
   "display_name": "Python 3",
   "language": "python",
   "name": "python3"
  },
  "language_info": {
   "codemirror_mode": {
    "name": "ipython",
    "version": 3
   },
   "file_extension": ".py",
   "mimetype": "text/x-python",
   "name": "python",
   "nbconvert_exporter": "python",
   "pygments_lexer": "ipython3",
   "version": "3.8.2"
  }
 },
 "nbformat": 4,
 "nbformat_minor": 4
}
