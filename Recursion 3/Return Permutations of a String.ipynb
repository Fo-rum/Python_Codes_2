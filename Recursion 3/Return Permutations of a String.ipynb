{
 "cells": [
  {
   "cell_type": "markdown",
   "metadata": {},
   "source": [
    "Given a string, find and return all the possible permutations of the input string.\n",
    "\n",
    "Note : The order of permutations are not important."
   ]
  },
  {
   "cell_type": "code",
   "execution_count": 1,
   "metadata": {},
   "outputs": [
    {
     "name": "stdout",
     "output_type": "stream",
     "text": [
      "abc\n",
      "abc\n",
      "acb\n",
      "bac\n",
      "bca\n",
      "cab\n",
      "cba\n"
     ]
    }
   ],
   "source": [
    "\n",
    "def permutations(s):\n",
    "    if len(s)==1:\n",
    "        return s[0]\n",
    "    \n",
    "    output=[]\n",
    "    \n",
    "    for i in range(0,len(s)):\n",
    "        add=s[0:i]+s[i+1:]\n",
    "        smallans=permutations(add)\n",
    "        \n",
    "        for m in smallans:\n",
    "            final=s[i]+m\n",
    "            output.append(final)\n",
    "    return output\n",
    "    \n",
    "    \n",
    "\n",
    "\n",
    "s = input()\n",
    "ans = permutations(s)\n",
    "for a in ans:\n",
    "    print(a)\n",
    "\n",
    "\n",
    "#my code- not working \n",
    "# def permutations(str):\n",
    "#     #base case:\n",
    "#     if len(str) == 0:\n",
    "#         output = []\n",
    "#         output.append(\"\")\n",
    "#         return output\n",
    "    \n",
    "#     pos = 0\n",
    "#     li = []\n",
    "    \n",
    "#     for i in range(len(str)):\n",
    "#         if pos!=i:\n",
    "#             li.append(str[i])\n",
    "    \n",
    "#     new_string = ''.join(li)\n",
    "    \n",
    "#     small_output = permutations(new_string)\n",
    "    \n",
    "#     li1 = []\n",
    "    \n",
    "#     for i in range(len(small_output)):\n",
    "#         li1.append(str[pos]+small_output[i])\n",
    "        \n",
    "#     # output = str[pos] + small_output\n",
    "    \n",
    "#     return li1\n",
    "\n",
    "\n",
    "# string = input()\n",
    "# ans = permutations(string)\n",
    "# for s in ans:\n",
    "#     print(s)\n",
    "\n"
   ]
  },
  {
   "cell_type": "code",
   "execution_count": null,
   "metadata": {},
   "outputs": [],
   "source": [
    "\"\"\"Sample Input :\n",
    "abc\n",
    "Sample Output :\n",
    "abc\n",
    "acb\n",
    "bac\n",
    "bca\n",
    "cab\n",
    "cba\"\"\""
   ]
  }
 ],
 "metadata": {
  "kernelspec": {
   "display_name": "Python 3",
   "language": "python",
   "name": "python3"
  },
  "language_info": {
   "codemirror_mode": {
    "name": "ipython",
    "version": 3
   },
   "file_extension": ".py",
   "mimetype": "text/x-python",
   "name": "python",
   "nbconvert_exporter": "python",
   "pygments_lexer": "ipython3",
   "version": "3.8.2"
  }
 },
 "nbformat": 4,
 "nbformat_minor": 4
}
