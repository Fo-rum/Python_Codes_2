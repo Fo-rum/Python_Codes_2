{
 "cells": [
  {
   "cell_type": "markdown",
   "metadata": {},
   "source": [
    "Given an integer n, using phone keypad find out and print all the possible strings that can be made using digits of input n.\n",
    "\n",
    "Note : The order of strings are not important. Just print different strings in new lines."
   ]
  },
  {
   "cell_type": "markdown",
   "metadata": {},
   "source": [
    "Input Format :\n",
    "Integer n\n",
    "\n",
    "Output Format :\n",
    "All possible strings in different lines\n",
    "\n",
    "Constraints :\n",
    "1 <= n <= 10^6"
   ]
  },
  {
   "cell_type": "code",
   "execution_count": 1,
   "metadata": {},
   "outputs": [
    {
     "name": "stdout",
     "output_type": "stream",
     "text": [
      "23\n",
      "ad\n",
      "bd\n",
      "cd\n",
      "ae\n",
      "be\n",
      "ce\n",
      "af\n",
      "bf\n",
      "cf\n"
     ]
    }
   ],
   "source": [
    "## Read input as specified in the question.\n",
    "## Print output as specified in the question.\n",
    "\n",
    "def getString(d):\n",
    "    if d == 2:\n",
    "        return \"abc\"\n",
    "    if d == 3:\n",
    "        return \"def\"\n",
    "    if d == 4:\n",
    "        return \"ghi\"\n",
    "    if d == 5:\n",
    "        return \"jkl\"\n",
    "    if d == 6:\n",
    "        return \"mno\"\n",
    "    if d == 7:\n",
    "        return \"pqrs\"\n",
    "    if d == 8:\n",
    "        return \"tuv\"\n",
    "    if d == 9:\n",
    "        return \"wxyz\"\n",
    "    return \" \"\n",
    "\n",
    "def printkeypad(input, outputsofar):\n",
    "    if input == 0:\n",
    "        print(outputsofar)\n",
    "        return\n",
    "    \n",
    "    smallernumber = input // 10\n",
    "    last_digit = input % 10\n",
    "    \n",
    "    optionsforlastdigit = getString(last_digit)\n",
    "    \n",
    "    for char in optionsforlastdigit:\n",
    "        printkeypad(smallernumber,char+outputsofar)\n",
    "        \n",
    "number = int(input())\n",
    "printkeypad(number,\"\")\n",
    "        \n",
    "\n",
    "        \n",
    "    "
   ]
  },
  {
   "cell_type": "code",
   "execution_count": null,
   "metadata": {},
   "outputs": [],
   "source": [
    "\"\"\"Sample Input:\n",
    "23\n",
    "Sample Output:\n",
    "ad\n",
    "ae\n",
    "af\n",
    "bd\n",
    "be\n",
    "bf\n",
    "cd\n",
    "ce\n",
    "cf\"\"\""
   ]
  },
  {
   "cell_type": "code",
   "execution_count": null,
   "metadata": {},
   "outputs": [],
   "source": [
    "\"\"\"Previous: 234 -> 23 -> 2 -> 0\n",
    "Now:\n",
    "    234\n",
    "    | (3 calls for 4)\n",
    "    23\n",
    "    | (3 calls for 3)\n",
    "    2 \n",
    "     (3 calls for 2)\n",
    "        \n",
    "Here, the no of recursive calls are more. 3*3*3 = 27 calls\n",
    "but they are not doing anything.\n",
    "Previously, using huge array combinations.\n",
    "There, we used to do a lot of work in a single recursive call.\n",
    "Whereas now, there are just more number of calls.\n",
    "    \"\"\""
   ]
  }
 ],
 "metadata": {
  "kernelspec": {
   "display_name": "Python 3",
   "language": "python",
   "name": "python3"
  },
  "language_info": {
   "codemirror_mode": {
    "name": "ipython",
    "version": 3
   },
   "file_extension": ".py",
   "mimetype": "text/x-python",
   "name": "python",
   "nbconvert_exporter": "python",
   "pygments_lexer": "ipython3",
   "version": "3.8.2"
  }
 },
 "nbformat": 4,
 "nbformat_minor": 4
}
