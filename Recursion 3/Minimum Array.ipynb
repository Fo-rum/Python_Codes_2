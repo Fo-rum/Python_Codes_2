{
 "cells": [
  {
   "cell_type": "code",
   "execution_count": null,
   "metadata": {},
   "outputs": [],
   "source": [
    "#find the minimum element in the array\n",
    "\n",
    "def minList(l):\n",
    "    if len(l) == 1:\n",
    "        return l[0]\n",
    "    \n",
    "    minSmallArray = minList(l[1:])\n",
    "    overallMin = min(minSmallArray,l[0])\n",
    "    return overallMin\n",
    "\n",
    "#the above is an old approach because again, there is no printing\n",
    "#here we are finding the answer by going till the base case"
   ]
  },
  {
   "cell_type": "code",
   "execution_count": 1,
   "metadata": {},
   "outputs": [
    {
     "name": "stdout",
     "output_type": "stream",
     "text": [
      "-2\n"
     ]
    }
   ],
   "source": [
    "def printMin(l,minSoFar=1000000):\n",
    "    if len(l) == 0:\n",
    "        print(minSoFar)\n",
    "        return\n",
    "    \n",
    "    newMin = min(minSoFar,l[0])\n",
    "    printMin(l[1:], newMin)\n",
    "    \n",
    "printMin([1,2,4,6,8,0,-1,8,-2])\n",
    "\n",
    "#here we are finding the answer by going towards the basecase\n",
    "# So the answer is present till the time the basecase is reached."
   ]
  }
 ],
 "metadata": {
  "kernelspec": {
   "display_name": "Python 3",
   "language": "python",
   "name": "python3"
  },
  "language_info": {
   "codemirror_mode": {
    "name": "ipython",
    "version": 3
   },
   "file_extension": ".py",
   "mimetype": "text/x-python",
   "name": "python",
   "nbconvert_exporter": "python",
   "pygments_lexer": "ipython3",
   "version": "3.8.2"
  }
 },
 "nbformat": 4,
 "nbformat_minor": 4
}
