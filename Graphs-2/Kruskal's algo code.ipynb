{
 "cells": [
  {
   "cell_type": "code",
   "execution_count": null,
   "metadata": {},
   "outputs": [],
   "source": [
    "\"\"\"-> used to find MST (n vertices, n-1 edges)\n",
    "i) start with the edge with minimum weight\n",
    "ii) initially count = 0\n",
    "iii) increment count after adding every edge\n",
    "iv) stop till count = n-1\n",
    "\n",
    "*Kruskal's algo says to pick a edge with minimum weight, but if it forms a cycle then simply skip and go for the other edge.\n",
    "\n",
    "\n",
    "Detect cycle:\n",
    "i) pick minimum weight edge\n",
    "ii) if there doesnt exist a path b/w both the vertices, then adding a edge b/w both will not form a cycle\n",
    "iii) But, if a path already exists then connecting the vertices via an edge will result in the formation of a cycle.\n",
    "\n",
    "\n",
    "Kruskal's algo code:\n",
    "i) Sort the input array(source, destination, weight) according to weight\n",
    "ii) Iterate over the array \n",
    "iii) while count < n-1 {\n",
    "v1,v2\n",
    "parent array -> add to output only if the topmost parent are different\n",
    "count++\n",
    "}\n",
    "return output\n",
    "\n",
    "Union find algo:\n",
    "it uses the concept of parent to check if the two vertices are in same connected components or not.\n",
    "If v1 n v2 are in the same component then it will form a cycle.\n",
    "if they are in different component then connect using edge. no CYCLE formed.\n",
    "\n",
    "Steps:\n",
    "1. initially all are in their different components\n",
    "2. if an edge is formed then they will have a common named component\n",
    "uses the concept of common topmost parent\n",
    "3. for any vertex, check if they have the common topmost parent. Maintain the parent matrix, where each vertex will be its own parent.\n",
    "\"\"\""
   ]
  },
  {
   "cell_type": "code",
   "execution_count": 3,
   "metadata": {},
   "outputs": [
    {
     "name": "stdout",
     "output_type": "stream",
     "text": [
      "4 4\n",
      "0 1 2\n",
      "1 3 3\n",
      "0 2 5\n",
      "2 3 8\n",
      "0 1 2\n",
      "1 3 3\n",
      "0 2 5\n"
     ]
    }
   ],
   "source": [
    "class Edge:\n",
    "    def __init__(self,src,dest,wt):\n",
    "        self.src=src\n",
    "        self.dst=dst\n",
    "        self.wt=wt\n",
    "        \n",
    "def getparent(v,parent):\n",
    "    if v==parent[v]:\n",
    "        return v #return topmost parent\n",
    "    return getparent(parent[v],parent)\n",
    "\n",
    "def Kruskal(edges,nVertices):\n",
    "    parent=[i for i in range(nVertices)]\n",
    "    \n",
    "    #lambda gives you an access to an object and its properties\n",
    "    #here,we are sorting wrt weight\n",
    "    edges=sorted(edges,key=lambda edge:edge.wt)\n",
    "    output=[]\n",
    "    count=0\n",
    "    i=0\n",
    "    \n",
    "    while count<nVertices-1:\n",
    "        cur_edg=edges[i]\n",
    "        src_par=getparent(cur_edg.src,parent)\n",
    "        dst_par=getparent(cur_edg.dst,parent)\n",
    "        \n",
    "        #if the topmost parent are different then append edge to output\n",
    "        #updating the topmost parent of source with destination\n",
    "        if src_par != dst_par:\n",
    "            output.append(cur_edg)\n",
    "            count+=1\n",
    "            parent[src_par]=dst_par\n",
    "        i+=1\n",
    "    return output\n",
    "\n",
    "li = [int(ele) for ele in input().split()]\n",
    "n = li[0]\n",
    "E = li[1]\n",
    "edges = []\n",
    "\n",
    "for i in range(E):\n",
    "    curr_input = [int(ele) for ele in input().split()]\n",
    "    src = curr_input[0]\n",
    "    dst = curr_input[1]\n",
    "    wt = curr_input[2]\n",
    "    edge = Edge(src,dst,wt)\n",
    "    edges.append(edge)\n",
    "    \n",
    "output = Kruskal(edges,n)\n",
    "for edge in output:\n",
    "    if edge.src < edge.dst:\n",
    "        print(str(edge.src) + \" \" + str(edge.dst) + \" \" + str(edge.wt))\n",
    "    else:\n",
    "        print(str(edge.dst) + \" \" + str(edge.src) + \" \" + str(edge.wt))"
   ]
  },
  {
   "cell_type": "code",
   "execution_count": null,
   "metadata": {},
   "outputs": [],
   "source": [
    "\"\"\"lambda explanation:\n",
    "i)lambda edge: edge.wt -> sorting accdg to the weights\n",
    "ii) lambda edge: (edge.wt + edge.src) -> sorting accdg to wt & src\n",
    "iii)if two weights are equal then sort accdg to src\n",
    "lambda edge: (edge.wt, edge.src) -> first priority is wt, second priority is src\"\"\""
   ]
  }
 ],
 "metadata": {
  "kernelspec": {
   "display_name": "Python 3",
   "language": "python",
   "name": "python3"
  },
  "language_info": {
   "codemirror_mode": {
    "name": "ipython",
    "version": 3
   },
   "file_extension": ".py",
   "mimetype": "text/x-python",
   "name": "python",
   "nbconvert_exporter": "python",
   "pygments_lexer": "ipython3",
   "version": "3.8.2"
  }
 },
 "nbformat": 4,
 "nbformat_minor": 4
}
