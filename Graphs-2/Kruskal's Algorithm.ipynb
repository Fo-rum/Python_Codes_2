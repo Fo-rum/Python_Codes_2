{
 "cells": [
  {
   "cell_type": "markdown",
   "metadata": {},
   "source": [
    "Given an undirected, connected and weighted graph G(V, E) with V number of vertices (which are numbered from 0 to V-1) and E number of edges.\n",
    "\n",
    "Find and print the Minimum Spanning Tree (MST) using Kruskal's algorithm.\n",
    "\n",
    "For printing MST follow the steps -\n",
    "1. In one line, print an edge which is part of MST in the format - \n",
    "\n",
    "v1 v2 w\n",
    "\n",
    "where, v1 and v2 are the vertices of the edge which is included in MST and whose weight is w. And v1  <= v2 i.e. print the smaller vertex first while printing an edge.\n",
    "\n",
    "2. Print V-1 edges in above format in different lines.\n",
    "Note : Order of different edges doesn't matter."
   ]
  },
  {
   "cell_type": "markdown",
   "metadata": {},
   "source": [
    "Input Format :\n",
    "\n",
    "Line 1: Two Integers V and E (separated by space)\n",
    "\n",
    "Next E lines : Three integers ei, ej and wi, denoting that there exists an edge between vertex ei and vertex ej with weight wi (separated by space)\n",
    "\n",
    "Output Format :\n",
    "\n",
    "Print the MST, as described in the task.\n",
    "\n",
    "Constraints :\n",
    "\n",
    "2 <= V, E <= 10^5\n",
    "\n",
    "Time Limit: 1 sec"
   ]
  },
  {
   "cell_type": "code",
   "execution_count": 1,
   "metadata": {},
   "outputs": [
    {
     "name": "stdout",
     "output_type": "stream",
     "text": [
      "4 4\n",
      "0 1 3\n",
      "0 3 5\n",
      "1 2 1\n",
      "2 3 8\n",
      "1 2 1\n",
      "0 1 3\n",
      "0 3 5\n"
     ]
    }
   ],
   "source": [
    "## Read input as specified in the question.\n",
    "## Print output as specified in the question.\n",
    "class Edge:\n",
    "    def __init__(self,src,dst,wt):\n",
    "        self.src=src\n",
    "        self.dst=dst\n",
    "        self.wt=wt\n",
    "        \n",
    "def getparent(v,parent):\n",
    "    if v==parent[v]:\n",
    "        return v\n",
    "    return getparent(parent[v],parent)\n",
    "\n",
    "def Kruskal(edges,n):\n",
    "    parent=[int(i) for i in range(n)]\n",
    "    edges=sorted(edges,key=lambda edge:edge.wt)\n",
    "    output=[]\n",
    "    count=0\n",
    "    i=0\n",
    "    \n",
    "    while count<n-1:\n",
    "        cur_edg=edges[i]\n",
    "        src_par=getparent(cur_edg.src,parent)\n",
    "        dst_par=getparent(cur_edg.dst,parent)\n",
    "        \n",
    "        if src_par != dst_par:\n",
    "            output.append(cur_edg)\n",
    "            count+=1\n",
    "            parent[src_par]=dst_par\n",
    "        i+=1\n",
    "    return output\n",
    "\n",
    "V,E=map(int,input().split())\n",
    "edges=[]\n",
    "for _ in range(E):\n",
    "    v,e,w=map(int,input().split())\n",
    "    edge=Edge(v,e,w)\n",
    "    edges.append(edge)\n",
    "output=Kruskal(edges,V)\n",
    "for edge in output:\n",
    "    if edge.src < edge.dst:\n",
    "        print(edge.src,edge.dst,edge.wt,sep=\" \")\n",
    "    else:\n",
    "        print(edge.dst,edge.src,edge.wt,sep=\" \")"
   ]
  },
  {
   "cell_type": "code",
   "execution_count": null,
   "metadata": {},
   "outputs": [],
   "source": [
    "\"\"\"Sample Input 1 :\n",
    "4 4\n",
    "0 1 3\n",
    "0 3 5\n",
    "1 2 1\n",
    "2 3 8\n",
    "Sample Output 1 :\n",
    "1 2 1\n",
    "0 1 3\n",
    "0 3 5\"\"\""
   ]
  },
  {
   "cell_type": "code",
   "execution_count": null,
   "metadata": {},
   "outputs": [],
   "source": []
  }
 ],
 "metadata": {
  "kernelspec": {
   "display_name": "Python 3",
   "language": "python",
   "name": "python3"
  },
  "language_info": {
   "codemirror_mode": {
    "name": "ipython",
    "version": 3
   },
   "file_extension": ".py",
   "mimetype": "text/x-python",
   "name": "python",
   "nbconvert_exporter": "python",
   "pygments_lexer": "ipython3",
   "version": "3.8.2"
  }
 },
 "nbformat": 4,
 "nbformat_minor": 4
}
