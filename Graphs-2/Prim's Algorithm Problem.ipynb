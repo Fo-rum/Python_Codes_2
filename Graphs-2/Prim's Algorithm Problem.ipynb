{
 "cells": [
  {
   "cell_type": "markdown",
   "metadata": {},
   "source": [
    "Given an undirected, connected and weighted graph G(V, E) with V number of vertices (which are numbered from 0 to V-1) and E number of edges.\n",
    "\n",
    "Find and print the Minimum Spanning Tree (MST) using Prim's algorithm.\n",
    "\n",
    "For printing MST follow the steps -\n",
    "\n",
    "1. In one line, print an edge which is part of MST in the format - \n",
    "\n",
    "v1 v2 w\n",
    "\n",
    "where, v1 and v2 are the vertices of the edge which is included in MST and whose weight is w. And v1  <= v2 i.e. print the smaller vertex first while printing an edge.\n",
    "\n",
    "2. Print V-1 edges in above format in different lines.\n",
    "\n",
    "Note : Order of different edges doesn't matter."
   ]
  },
  {
   "cell_type": "markdown",
   "metadata": {},
   "source": [
    "Input Format :\n",
    "\n",
    "Line 1: Two Integers V and E (separated by space)\n",
    "\n",
    "Next E lines : Three integers ei, ej and wi, denoting that there exists an edge between vertex ei and vertex ej with weight wi (separated by space)\n",
    "\n",
    "Output Format :\n",
    "\n",
    "Print the MST, as described in the task.\n",
    "\n",
    "Constraints :\n",
    "\n",
    "2 <= V, E <= 10^5\n",
    "\n",
    "1 <= Wi <= 10^5\n",
    "\n",
    "Time Limit: 1 sec"
   ]
  },
  {
   "cell_type": "code",
   "execution_count": 5,
   "metadata": {},
   "outputs": [
    {
     "name": "stdout",
     "output_type": "stream",
     "text": [
      "4 4\n",
      "0 1 3\n",
      "0 3 5\n",
      "1 2 1\n",
      "2 3 8\n",
      "0 1 3\n",
      "1 2 1\n",
      "0 3 5\n"
     ]
    }
   ],
   "source": [
    "## Read input as specified in the question.\n",
    "## Print output as specified in the question.\n",
    "import sys\n",
    "class Edge:\n",
    "    def __init__(self,n):\n",
    "        self.n=n\n",
    "        self.adj=[[0 for i in range(self.n)] for i in range(self.n)]\n",
    "    \n",
    "    #instead of storing edges, the adjacency matrix stores the weight b/w the two vertices.\n",
    "    #her v and e are two vertices v1 and v2\n",
    "    # n means no of vertices\n",
    "    #adj means the adjacency matrix\n",
    "    def AddEdge(self,v,e,w):\n",
    "        self.adj[v][e]=w\n",
    "        self.adj[e][v]=w\n",
    "        \n",
    "    def __getMinVertex(self,visited,weight):\n",
    "        min_ver=-1\n",
    "        for i in range(self.n):\n",
    "            \n",
    "                                        #if no vertex has been visited yet\n",
    "            if (visited[i] is False and (min_ver==-1 or weight[i]< weight[min_ver])):\n",
    "                min_ver=i\n",
    "        return min_ver\n",
    "    \n",
    "    def Prims(self):\n",
    "        visited=[False for i in range(self.n)]\n",
    "        parent=[-1 for i in range(self.n)]\n",
    "        weight=[sys.maxsize for i in range(self.n)]\n",
    "        weight[0]=0 #starting first from 0 vertex\n",
    "        for i in range(self.n-1):\n",
    "            min_vertex=self.__getMinVertex(visited,weight)\n",
    "            visited[min_vertex]=True\n",
    "            \n",
    "            #explore the neighbours of minVertecx which are not visited and update the corresponding weight if required.\n",
    "            for j in range(self.n):\n",
    "                if self.adj[min_vertex][j]>0 and visited[j] is False:\n",
    "                    if weight[j]> self.adj[min_vertex][j]:\n",
    "                        weight[j]=self.adj[min_vertex][j]\n",
    "                        parent[j]=min_vertex\n",
    "        \n",
    "        #starting from 1 because 0 has no parent\n",
    "        for i in range(1,self.n):\n",
    "            if i<parent[i]:\n",
    "                print(str(i)+\" \"+str(parent[i])+\" \"+str(weight[i]))\n",
    "            else:\n",
    "                print(str(parent[i])+\" \"+str(i)+\" \"+str(weight[i]))\n",
    "\n",
    "V,E=map(int,input().split())\n",
    "g=Edge(V)\n",
    "for _ in range(E):\n",
    "    v,e,w=map(int,input().split())\n",
    "    g.AddEdge(v,e,w)\n",
    "g.Prims()"
   ]
  },
  {
   "cell_type": "code",
   "execution_count": null,
   "metadata": {},
   "outputs": [],
   "source": [
    "\"\"\"Sample Input 1 :\n",
    "4 4\n",
    "0 1 3\n",
    "0 3 5\n",
    "1 2 1\n",
    "2 3 8\n",
    "Sample Output 1 :\n",
    "0 1 3\n",
    "1 2 1\n",
    "0 3 5\"\"\""
   ]
  },
  {
   "cell_type": "code",
   "execution_count": null,
   "metadata": {},
   "outputs": [],
   "source": [
    "\"\"\"-> used for calculating MST\n",
    "Steps:\n",
    "    i) choose a starting vertex\n",
    "    ii) initialize the parent of starting vertex as -1 and its weight as 0\n",
    "    iii) for rest of the vertices, their parents will be None and their weights initialized as infinity.\n",
    "    iv) Select the neighbours of starting vertex & update the weight if less than original update their parents.\n",
    "    v) Go for unvisited. find the minimum weight - make it starting. Explore all the neighbours which are\n",
    "        unvisited and repeat the process.\"\"\""
   ]
  },
  {
   "cell_type": "code",
   "execution_count": null,
   "metadata": {},
   "outputs": [],
   "source": [
    "\"\"\"for further optimization:\n",
    "    i) minVertex can be done using priority queues\n",
    "    ii) for j in range... -> loop iterates over all vertices unneccesarily. \n",
    "        use adjacency list to store only the adjacent neighbours.\"\"\""
   ]
  }
 ],
 "metadata": {
  "kernelspec": {
   "display_name": "Python 3",
   "language": "python",
   "name": "python3"
  },
  "language_info": {
   "codemirror_mode": {
    "name": "ipython",
    "version": 3
   },
   "file_extension": ".py",
   "mimetype": "text/x-python",
   "name": "python",
   "nbconvert_exporter": "python",
   "pygments_lexer": "ipython3",
   "version": "3.8.2"
  }
 },
 "nbformat": 4,
 "nbformat_minor": 4
}
