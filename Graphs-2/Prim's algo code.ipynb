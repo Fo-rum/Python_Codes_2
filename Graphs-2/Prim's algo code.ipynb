{
 "cells": [
  {
   "cell_type": "code",
   "execution_count": null,
   "metadata": {},
   "outputs": [],
   "source": [
    "\"\"\"-> used for calculating MST\n",
    "Steps:\n",
    "    i) choose a starting vertex\n",
    "    ii) initialize the parent of starting vertex as -1 and its weight as 0\n",
    "    iii) for rest of the vertices, their parents will be None and their weights initialized as infinity.\n",
    "    iv) Select the neighbours of starting vertex & update the weight if less than original update their parents.\n",
    "    v) Go for unvisited. find the minimum weight - make it starting. Explore all the neighbours which are\n",
    "        unvisited and repeat the process.\"\"\""
   ]
  },
  {
   "cell_type": "code",
   "execution_count": 1,
   "metadata": {},
   "outputs": [
    {
     "name": "stdout",
     "output_type": "stream",
     "text": [
      "4 4\n",
      "0 1 3\n",
      "0 3 5\n",
      "1 2 1\n",
      "2 3 8\n",
      "0 1 3\n",
      "1 2 1\n",
      "0 3 5\n"
     ]
    }
   ],
   "source": [
    "## Print output as specified in the question.\n",
    "import sys\n",
    "class Graph:\n",
    "    def __init__(self,nVertices):\n",
    "        self.nVertices=nVertices\n",
    "        self.adjMatrix= [[0 for i in range(nVertices)] for i in range(nVertices)]\n",
    "        \n",
    "    def addEdge(self,v1,v2,wt):\n",
    "        self.adjMatrix[v1][v2]=wt\n",
    "        self.adjMatrix[v2][v1]=wt\n",
    "        \n",
    "    def __getMinVertex(self,visited,weight):\n",
    "        min_vertex = -1\n",
    "        for i in range(self.nVertices):\n",
    "            if (visited[i] is False and (min_vertex == -1 or weight[min_vertex] > weight[i])):\n",
    "                min_vertex = i\n",
    "        \n",
    "        return min_vertex\n",
    "    \n",
    "    def Prims(self):\n",
    "        visited=[False for i in range(self.nVertices)]\n",
    "        parent=[-1 for i in range(self.nVertices)]\n",
    "        weight=[sys.maxsize for i in range(self.nVertices)]\n",
    "        weight[0]=0\n",
    "        for i in range(self.nVertices-1):\n",
    "            min_vertex=self.__getMinVertex(visited,weight)\n",
    "            visited[min_vertex]=True\n",
    "            \n",
    "            for j in range(self.nVertices):\n",
    "                if self.adjMatrix[min_vertex][j]>0 and visited[j] is False:\n",
    "                    if weight[j]> self.adjMatrix[min_vertex][j]:\n",
    "                        weight[j]=self.adjMatrix[min_vertex][j]\n",
    "                        parent[j]=min_vertex\n",
    "                        \n",
    "        for i in range(1,self.nVertices):\n",
    "            if i<parent[i]:\n",
    "                print(str(i)+\" \"+str(parent[i])+\" \"+str(weight[i]))\n",
    "            else:\n",
    "                print(str(parent[i])+\" \"+str(i)+\" \"+str(weight[i]))\n",
    "\n",
    "li = [int(ele) for ele in input().split()]\n",
    "n = li[0] \n",
    "E = li[1]\n",
    "\n",
    "g = Graph(n)\n",
    "for i in range(E):\n",
    "    curr_input = [int(ele) for ele in input().split()]\n",
    "    g.addEdge(curr_input[0], curr_input[1], curr_input[2])\n",
    "g.Prims()\n",
    "\n",
    "# V,E=map(int,input().split())\n",
    "# g=Graph(V)\n",
    "# for _ in range(E):\n",
    "#     v,e,w=map(int,input().split())\n",
    "#     g.addEdge(v,e,w)\n",
    "# g.Prims()"
   ]
  },
  {
   "cell_type": "code",
   "execution_count": null,
   "metadata": {},
   "outputs": [],
   "source": []
  }
 ],
 "metadata": {
  "kernelspec": {
   "display_name": "Python 3",
   "language": "python",
   "name": "python3"
  },
  "language_info": {
   "codemirror_mode": {
    "name": "ipython",
    "version": 3
   },
   "file_extension": ".py",
   "mimetype": "text/x-python",
   "name": "python",
   "nbconvert_exporter": "python",
   "pygments_lexer": "ipython3",
   "version": "3.8.2"
  }
 },
 "nbformat": 4,
 "nbformat_minor": 4
}
