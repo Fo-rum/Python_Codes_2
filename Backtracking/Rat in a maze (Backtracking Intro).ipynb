{
 "cells": [
  {
   "cell_type": "code",
   "execution_count": null,
   "metadata": {},
   "outputs": [],
   "source": [
    "\"\"\"This is the concept of backtracking\n",
    "1. Explore all the options and the possibilities\n",
    "2. Uses the concept of recursion ie. implemented via recursion\n",
    "\n",
    "In this maze:\n",
    "    1. check if a path exists\n",
    "    2. get all the paths\n",
    "    3. print all the paths\n",
    " \n",
    "if a cell is included means '1' otherwise '0' \n",
    "    \"\"\""
   ]
  },
  {
   "cell_type": "code",
   "execution_count": 1,
   "metadata": {},
   "outputs": [
    {
     "name": "stdout",
     "output_type": "stream",
     "text": [
      "4\n",
      "1 1 1 1\n",
      "1 0 1 1\n",
      "1 1 0 1\n",
      "1 1 1 1\n",
      "[[1, 0, 0, 0], [1, 0, 0, 0], [1, 0, 0, 0], [1, 1, 1, 1]]\n",
      "[[1, 0, 0, 0], [1, 0, 0, 0], [1, 1, 0, 0], [0, 1, 1, 1]]\n",
      "[[1, 1, 1, 0], [0, 0, 1, 1], [0, 0, 0, 1], [0, 0, 0, 1]]\n",
      "[[1, 1, 1, 1], [0, 0, 0, 1], [0, 0, 0, 1], [0, 0, 0, 1]]\n"
     ]
    }
   ],
   "source": [
    "def printPathHelper(x,y,maze,n,solution):\n",
    "    \n",
    "    #once the destination has been reached, means that path is explored and print the solution matrix\n",
    "    if x == n-1 and y == n-1:\n",
    "        solution[x][y] = 1\n",
    "        print(solution)\n",
    "        \n",
    "        #if this line is not present, then the final solution matrix will be:\n",
    "        # [0000, 0000, 0000, 0001]\n",
    "        solution[x][y] = 0\n",
    "        return\n",
    "    \n",
    "    #these are the blocking points basically five conditions where nothing has to be done\n",
    "    # maze[x][y] == 0 means encountered a 0\n",
    "    # solution[x][y] == 1 means loopm if encountered once then dont make repetitive calls\n",
    "    if x < 0 or y < 0 or x >=n or y >= n or maze[x][y] == 0 or solution [x][y] == 1:\n",
    "        return\n",
    "    \n",
    "    #including the cell in the solution matrix\n",
    "    solution[x][y]=1\n",
    "    \n",
    "    #calling in the four directions viz up, down, left,right\n",
    "    printPathHelper(x+1,y,maze,n,solution)\n",
    "    printPathHelper(x,y+1,maze,n,solution)\n",
    "    printPathHelper(x-1,y,maze,n,solution)\n",
    "    printPathHelper(x,y-1,maze,n,solution)\n",
    "    \n",
    "    #after returning should be made 0 to explore other paths\n",
    "    solution[x][y] = 0\n",
    "    return\n",
    "\n",
    "def printPath(maze):\n",
    "    n = len(maze)\n",
    "    \n",
    "    #initially nothing is included, so everything is 0\n",
    "    solution = [[0 for j in range(n)] for i in range(n)]\n",
    "    \n",
    "    printPathHelper(0,0,maze,n,solution)\n",
    "    \n",
    "n = int(input())\n",
    "maze = []\n",
    "for i in range(n):\n",
    "    row = [int(ele) for ele in input().split()]\n",
    "    maze.append(row)\n",
    "printPath(maze)"
   ]
  },
  {
   "cell_type": "code",
   "execution_count": null,
   "metadata": {},
   "outputs": [],
   "source": [
    "\"\"\"NOTE: When you are backtracking, going back, solution matrix make it 0, so that it becomes available for another\n",
    "    call or path exploration.\"\"\""
   ]
  }
 ],
 "metadata": {
  "kernelspec": {
   "display_name": "Python 3",
   "language": "python",
   "name": "python3"
  },
  "language_info": {
   "codemirror_mode": {
    "name": "ipython",
    "version": 3
   },
   "file_extension": ".py",
   "mimetype": "text/x-python",
   "name": "python",
   "nbconvert_exporter": "python",
   "pygments_lexer": "ipython3",
   "version": "3.8.2"
  }
 },
 "nbformat": 4,
 "nbformat_minor": 4
}
