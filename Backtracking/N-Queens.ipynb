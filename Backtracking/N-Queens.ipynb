{
 "cells": [
  {
   "cell_type": "code",
   "execution_count": null,
   "metadata": {},
   "outputs": [],
   "source": [
    "\"\"\"Given a N * N chessboard, place N-queens in a way such that no queens cross each other.\n",
    "\n",
    "A queen can move in any of the 8 possible directions\n",
    "\n",
    "Explore all the paths till the last row is reached.\"\"\""
   ]
  },
  {
   "cell_type": "code",
   "execution_count": 4,
   "metadata": {},
   "outputs": [
    {
     "name": "stdout",
     "output_type": "stream",
     "text": [
      "4\n",
      "0 1 0 0 0 0 0 1 1 0 0 0 0 0 1 0 \n",
      "0 0 1 0 1 0 0 0 0 0 0 1 0 1 0 0 \n"
     ]
    }
   ],
   "source": [
    "def isSafe(row,col,board,n):\n",
    "    \n",
    "    #vertical direction\n",
    "    i = row-1\n",
    "    while i>=0:\n",
    "        if board[i][col] == 1:\n",
    "            return False\n",
    "        i -= 1\n",
    "    \n",
    "    #up-left direction (left diagonal)\n",
    "    i = row-1\n",
    "    j = col-1\n",
    "    \n",
    "    while i >= 0 and j >= 0:\n",
    "        if board[i][j] == 1:\n",
    "            return False\n",
    "        i -= 1\n",
    "        j -= 1\n",
    "    \n",
    "    #right diagonal\n",
    "    i = row -1\n",
    "    j = col +1\n",
    "    \n",
    "    while i >= 0 and j < n:\n",
    "        if board[i][j] == 1:\n",
    "            return False\n",
    "        i -= 1\n",
    "        j += 1\n",
    "    return True\n",
    "\n",
    "def printPathHelper(row,n,board):\n",
    "    \n",
    "    #all the paths explored, simply print the board one by one\n",
    "    if row == n:\n",
    "        for i in range(n):\n",
    "            for j in range(n):\n",
    "                print(board[i][j], end=' ')\n",
    "        print()\n",
    "        return\n",
    "    \n",
    "    for col in range(n):\n",
    "        \n",
    "        #place the queen on a particular cell is safe\n",
    "        if isSafe(row,col,board,n) is True:\n",
    "            board[row][col] = 1\n",
    "            printPathHelper(row+1,n,board)\n",
    "            \n",
    "            #after exploring all paths for backtracking purposes, make it 0\n",
    "            board[row][col] = 0\n",
    "            \n",
    "    return\n",
    "\n",
    "def printPaths(n):\n",
    "    board = [[0 for j in range(n)] for i in range(n)]\n",
    "    printPathHelper(0,n,board)\n",
    "    \n",
    "n = int(input())\n",
    "printPaths(n)"
   ]
  },
  {
   "cell_type": "code",
   "execution_count": null,
   "metadata": {},
   "outputs": [],
   "source": [
    "\"\"\"Note: we dont check bottom directions since we are filling row wise\n",
    "    If it safe we return True, or otherwise it is found in either of 3 directions, we return False\"\"\""
   ]
  }
 ],
 "metadata": {
  "kernelspec": {
   "display_name": "Python 3",
   "language": "python",
   "name": "python3"
  },
  "language_info": {
   "codemirror_mode": {
    "name": "ipython",
    "version": 3
   },
   "file_extension": ".py",
   "mimetype": "text/x-python",
   "name": "python",
   "nbconvert_exporter": "python",
   "pygments_lexer": "ipython3",
   "version": "3.8.2"
  }
 },
 "nbformat": 4,
 "nbformat_minor": 4
}
