{
 "cells": [
  {
   "cell_type": "code",
   "execution_count": 4,
   "metadata": {},
   "outputs": [
    {
     "name": "stdout",
     "output_type": "stream",
     "text": [
      "1 2 3 4 5 \n",
      "True\n"
     ]
    }
   ],
   "source": [
    "def isSorted(a):\n",
    "    l = len(a)\n",
    "    if l == 0 or l == 1:\n",
    "        return True\n",
    "    if a[0] > a[1]:\n",
    "        return False\n",
    "    smallerList = a[1:]\n",
    "    isSmallerListSorted = isSorted(smallerList)\n",
    "    \n",
    "    #return isSmallerListSorted\n",
    "    if isSmallerListSorted:\n",
    "        return True\n",
    "    else:\n",
    "        return False\n",
    "\n",
    "l = [int(ele) for ele in input().split()]\n",
    "print(isSorted(l))"
   ]
  },
  {
   "cell_type": "code",
   "execution_count": 6,
   "metadata": {},
   "outputs": [
    {
     "name": "stdout",
     "output_type": "stream",
     "text": [
      "3 2 1 4\n",
      "False\n"
     ]
    }
   ],
   "source": [
    "#checking if the list is sorted using a pointer\n",
    "def isSortedB(a,si):\n",
    "    l = len(a)\n",
    "    if si == l-1 or si == l:\n",
    "        return True\n",
    "    if a[si] > a[si+1]:\n",
    "        return False\n",
    "    issmallerpartsorted = isSortedB(a,si+1)\n",
    "    return issmallerpartsorted\n",
    "\n",
    "l = [int(ele) for ele in input().split()]\n",
    "print(isSortedB(l,0))"
   ]
  }
 ],
 "metadata": {
  "kernelspec": {
   "display_name": "Python 3",
   "language": "python",
   "name": "python3"
  },
  "language_info": {
   "codemirror_mode": {
    "name": "ipython",
    "version": 3
   },
   "file_extension": ".py",
   "mimetype": "text/x-python",
   "name": "python",
   "nbconvert_exporter": "python",
   "pygments_lexer": "ipython3",
   "version": "3.8.2"
  }
 },
 "nbformat": 4,
 "nbformat_minor": 4
}
