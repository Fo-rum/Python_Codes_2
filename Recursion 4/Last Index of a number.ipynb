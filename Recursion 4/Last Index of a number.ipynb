{
 "cells": [
  {
   "cell_type": "code",
   "execution_count": 4,
   "metadata": {},
   "outputs": [
    {
     "name": "stdout",
     "output_type": "stream",
     "text": [
      "1 4 5 4 8\n",
      "4\n",
      "3\n"
     ]
    }
   ],
   "source": [
    "def lastIndex(a,x):\n",
    "    l = len(a)\n",
    "    if l == 0:\n",
    "        return -1\n",
    "    smallerList = a[1:]\n",
    "    smallerListOutput = lastIndex(smallerList,x)\n",
    "    \n",
    "    if smallerListOutput != -1:\n",
    "        return smallerListOutput + 1\n",
    "    else:\n",
    "        if a[0] == x:\n",
    "            return 0\n",
    "        else:\n",
    "            return -1\n",
    "        \n",
    "l = [int(ele) for ele in input().split()]\n",
    "x = int(input())\n",
    "print(lastIndex(l,x))"
   ]
  },
  {
   "cell_type": "code",
   "execution_count": 9,
   "metadata": {},
   "outputs": [
    {
     "name": "stdout",
     "output_type": "stream",
     "text": [
      "1 4 5 4 8\n",
      "4\n",
      "3\n"
     ]
    }
   ],
   "source": [
    "#finding the last index of a number using pointer\n",
    "\n",
    "def lastIndexB(a,x,si):\n",
    "    l = len(a)\n",
    "    if si == l:\n",
    "        return -1\n",
    "    smallerListOutput = lastIndexB(a,x,si+1)\n",
    "    if smallerListOutput != -1:\n",
    "        return smallerListOutput\n",
    "    else:\n",
    "        if a[si] == x:\n",
    "            return si\n",
    "        else:\n",
    "            return -1\n",
    "\n",
    "l = [int(ele) for ele in input().split()]\n",
    "x = int(input())\n",
    "print(lastIndexB(l,x,0))"
   ]
  },
  {
   "cell_type": "code",
   "execution_count": null,
   "metadata": {},
   "outputs": [],
   "source": []
  }
 ],
 "metadata": {
  "kernelspec": {
   "display_name": "Python 3",
   "language": "python",
   "name": "python3"
  },
  "language_info": {
   "codemirror_mode": {
    "name": "ipython",
    "version": 3
   },
   "file_extension": ".py",
   "mimetype": "text/x-python",
   "name": "python",
   "nbconvert_exporter": "python",
   "pygments_lexer": "ipython3",
   "version": "3.8.2"
  }
 },
 "nbformat": 4,
 "nbformat_minor": 4
}
