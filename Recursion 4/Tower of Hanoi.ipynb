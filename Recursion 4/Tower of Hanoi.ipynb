{
 "cells": [
  {
   "cell_type": "code",
   "execution_count": 9,
   "metadata": {},
   "outputs": [
    {
     "name": "stdout",
     "output_type": "stream",
     "text": [
      "3\n",
      "move 1st disk from a to c\n",
      "move 2 th disk from a to b\n",
      "move 1st disk from c to b\n",
      "move 3 th disk from a to c\n",
      "move 1st disk from b to a\n",
      "move 2 th disk from b to c\n",
      "move 1st disk from a to c\n"
     ]
    }
   ],
   "source": [
    "def tower_of_hanoi (n,a,b,c):\n",
    "    if n == 1:\n",
    "        print(\"move 1st disk from\", a , \"to\", c)\n",
    "        return\n",
    "    tower_of_hanoi(n-1,a,c,b)\n",
    "    print(\"move\", n , \"th disk from\", a, \"to\", c)\n",
    "    tower_of_hanoi(n-1,b,a,c)\n",
    "\n",
    "\n",
    "n=int(input())\n",
    "tower_of_hanoi(n, 'a', 'b', 'c')"
   ]
  },
  {
   "cell_type": "code",
   "execution_count": null,
   "metadata": {},
   "outputs": [],
   "source": []
  }
 ],
 "metadata": {
  "kernelspec": {
   "display_name": "Python 3",
   "language": "python",
   "name": "python3"
  },
  "language_info": {
   "codemirror_mode": {
    "name": "ipython",
    "version": 3
   },
   "file_extension": ".py",
   "mimetype": "text/x-python",
   "name": "python",
   "nbconvert_exporter": "python",
   "pygments_lexer": "ipython3",
   "version": "3.8.2"
  }
 },
 "nbformat": 4,
 "nbformat_minor": 4
}
