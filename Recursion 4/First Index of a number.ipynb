{
 "cells": [
  {
   "cell_type": "code",
   "execution_count": 2,
   "metadata": {},
   "outputs": [
    {
     "name": "stdout",
     "output_type": "stream",
     "text": [
      "1 3 5 7 9 7 10 11\n",
      "7\n",
      "3\n"
     ]
    }
   ],
   "source": [
    "def firstIndex(a,x):\n",
    "    l = len(a)\n",
    "    if l == 0:\n",
    "        return -1\n",
    "    if a[0] == x:\n",
    "        return 0\n",
    "    smallerList = a[1:]\n",
    "    smallerListOutput = firstIndex(smallerList,x)\n",
    "    \n",
    "    if smallerListOutput == -1:\n",
    "        return -1\n",
    "    else:\n",
    "        return smallerListOutput + 1\n",
    "\n",
    "l = [int(ele) for ele in input().split()]\n",
    "x = int(input())\n",
    "print(firstIndex(l,x))"
   ]
  },
  {
   "cell_type": "code",
   "execution_count": 6,
   "metadata": {},
   "outputs": [
    {
     "name": "stdout",
     "output_type": "stream",
     "text": [
      "1 3 5 7 9 7 10 11\n",
      "7\n",
      "3\n"
     ]
    }
   ],
   "source": [
    "#finding the first index of a number in the list using a pointer\n",
    "\n",
    "def firstIndexB(a,x,si):\n",
    "    l = len(a)\n",
    "    if si == l:\n",
    "        return -1\n",
    "    if a[si] == x:\n",
    "        return si\n",
    "    smallerListOutput = firstIndexB(a,x,si+1)\n",
    "    return smallerListOutput\n",
    "\n",
    "\n",
    "l = [int(ele) for ele in input().split()]\n",
    "x = int(input())\n",
    "print(firstIndexB(l,x,0))\n"
   ]
  }
 ],
 "metadata": {
  "kernelspec": {
   "display_name": "Python 3",
   "language": "python",
   "name": "python3"
  },
  "language_info": {
   "codemirror_mode": {
    "name": "ipython",
    "version": 3
   },
   "file_extension": ".py",
   "mimetype": "text/x-python",
   "name": "python",
   "nbconvert_exporter": "python",
   "pygments_lexer": "ipython3",
   "version": "3.8.2"
  }
 },
 "nbformat": 4,
 "nbformat_minor": 4
}
