{
 "cells": [
  {
   "cell_type": "code",
   "execution_count": 2,
   "metadata": {},
   "outputs": [
    {
     "name": "stdout",
     "output_type": "stream",
     "text": [
      "1 2 3 4 5 -1\n",
      "1->2->3->4->5->None\n",
      "5->4->3->2->1->None\n"
     ]
    }
   ],
   "source": [
    "class Node:\n",
    "    def __init__(self,data):\n",
    "        self.data = data\n",
    "        self.next = None\n",
    "\n",
    "def printLL(head):\n",
    "    while head is not None:\n",
    "        print(str(head.data) + \"->\", end='' )\n",
    "        head = head.next\n",
    "    print(\"None\")\n",
    "    return\n",
    "\n",
    "def reverse3(head):\n",
    "    \n",
    "    if head is None or head.next is None:\n",
    "        return head\n",
    "    \n",
    "    smallHead = reverse3(head.next)\n",
    "    tail = head.next\n",
    "    tail.next = head\n",
    "    head.next = None\n",
    "    \n",
    "    return smallHead\n",
    "\n",
    "\n",
    "def takeInput():\n",
    "    inputList = [int(ele) for ele in input().split()]\n",
    "    \n",
    "    #for the first node head is None, so now head will point to the first head and wont change\n",
    "    head = None\n",
    "    tail = None\n",
    "    for currData in inputList:\n",
    "        if currData == -1:\n",
    "            break\n",
    "        \n",
    "        newNode = Node(currData)\n",
    "        if head is None:\n",
    "            head = newNode #first both head and tail will point to the first node\n",
    "            tail = newNode\n",
    "        else:\n",
    "            tail.next = newNode #for addition of newnode, tail gets updated and points to the newnode\n",
    "            tail = newNode\n",
    "            \n",
    "    return head\n",
    "\n",
    "head = takeInput()\n",
    "printLL(head)\n",
    "head= reverse3(head)\n",
    "printLL(head)"
   ]
  },
  {
   "cell_type": "code",
   "execution_count": null,
   "metadata": {},
   "outputs": [],
   "source": [
    "\"\"\"From the above problem, instead of finding the tail separately, \n",
    "if we have a closer look then we have the tail itself without calculations.\n",
    "Hence, the trick is the optimization of the previous problem.\n",
    "When we already have the tail eg: head was connected to 2\n",
    "head.next ie. 1.next = 2 is the tail\n",
    "then no reason to compute again\n",
    "\"\"\""
   ]
  }
 ],
 "metadata": {
  "kernelspec": {
   "display_name": "Python 3",
   "language": "python",
   "name": "python3"
  },
  "language_info": {
   "codemirror_mode": {
    "name": "ipython",
    "version": 3
   },
   "file_extension": ".py",
   "mimetype": "text/x-python",
   "name": "python",
   "nbconvert_exporter": "python",
   "pygments_lexer": "ipython3",
   "version": "3.8.2"
  }
 },
 "nbformat": 4,
 "nbformat_minor": 4
}
