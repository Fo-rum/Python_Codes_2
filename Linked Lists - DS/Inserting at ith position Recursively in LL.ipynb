{
 "cells": [
  {
   "cell_type": "code",
   "execution_count": 1,
   "metadata": {},
   "outputs": [
    {
     "name": "stdout",
     "output_type": "stream",
     "text": [
      "1 2 3 4 5 -1\n",
      "1->2->3->4->5->None\n",
      "1->2->6->3->4->5->None\n",
      "9->1->2->6->3->4->5->None\n",
      "9->1->2->6->3->4->5->10->None\n"
     ]
    }
   ],
   "source": [
    "class Node:\n",
    "    def __init__(self,data):\n",
    "        self.data = data\n",
    "        self.next = None\n",
    "\n",
    "def printLL(head):\n",
    "    while head is not None:\n",
    "        print(str(head.data) + \"->\", end='' )\n",
    "        head = head.next\n",
    "    print(\"None\")\n",
    "    return\n",
    "\n",
    "def length(head):\n",
    "    count = 0\n",
    "    while head is not None:\n",
    "        count = count + 1\n",
    "        head = head.next\n",
    "    \n",
    "    return count\n",
    "\n",
    "def insertAtIR(head,i,data):\n",
    "    \n",
    "    #cant insert at these positions\n",
    "    if i < 0:\n",
    "        return head\n",
    "    \n",
    "    if i == 0:\n",
    "        newNode = Node(data)\n",
    "        newNode.next = head\n",
    "        return newNode\n",
    "    \n",
    "    #if head is None and i==0 means empty list which is allowed\n",
    "    if head is None: \n",
    "        return None\n",
    "    \n",
    "    smallHead = insertAtIR(head.next, i-1, data)\n",
    "    head.next = smallHead\n",
    "    \n",
    "    return head\n",
    "\n",
    "def takeInput():\n",
    "    inputList = [int(ele) for ele in input().split()]\n",
    "    \n",
    "    #for the first node head is None, so now head will point to the first head and wont change\n",
    "    head = None\n",
    "    tail = None\n",
    "    for currData in inputList:\n",
    "        if currData == -1:\n",
    "            break\n",
    "        \n",
    "        newNode = Node(currData)\n",
    "        if head is None:\n",
    "            head = newNode #first both head and tail will point to the first node\n",
    "            tail = newNode\n",
    "        else:\n",
    "            tail.next = newNode #for addition of newnode, tail gets updated and points to the newnode\n",
    "            tail = newNode\n",
    "            \n",
    "    return head\n",
    "\n",
    "head = takeInput()\n",
    "printLL(head)\n",
    "head = insertAtIR(head,2,6)\n",
    "printLL(head)\n",
    "head = insertAtIR(head,0,9)\n",
    "printLL(head)\n",
    "head = insertAtIR(head,7,10)\n",
    "printLL(head)"
   ]
  }
 ],
 "metadata": {
  "kernelspec": {
   "display_name": "Python 3",
   "language": "python",
   "name": "python3"
  },
  "language_info": {
   "codemirror_mode": {
    "name": "ipython",
    "version": 3
   },
   "file_extension": ".py",
   "mimetype": "text/x-python",
   "name": "python",
   "nbconvert_exporter": "python",
   "pygments_lexer": "ipython3",
   "version": "3.8.2"
  }
 },
 "nbformat": 4,
 "nbformat_minor": 4
}
