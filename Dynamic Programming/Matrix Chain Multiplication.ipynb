{
 "cells": [
  {
   "cell_type": "code",
   "execution_count": null,
   "metadata": {},
   "outputs": [],
   "source": [
    "\"\"\"Matrix chain Multiplication (MCM):\n",
    "-> minimum cost to multiply the matrices\n",
    "\n",
    "Recurrence relation:\n",
    "    M[i,j] -> min (k = i to j - 1\n",
    "                M[i,k] + M[k+1,j]+P[i-1]*P[k]*P[j] )\"\"\""
   ]
  },
  {
   "cell_type": "markdown",
   "metadata": {},
   "source": [
    "Given a chain of matrices A1, A2, A3,.....An, you have to figure out the most efficient way to multiply these matrices. \n",
    "\n",
    "In other words, determine where to place parentheses to minimize the number of multiplications.\n",
    "\n",
    "You will be given an array p[] of size n + 1. Dimension of matrix Ai is p[i - 1]*p[i]. \n",
    "\n",
    "You need to find minimum number of multiplications needed to multiply the chain."
   ]
  },
  {
   "cell_type": "markdown",
   "metadata": {},
   "source": [
    "Input Format:\n",
    "The first line of input contains an integer, that denotes the value of n. The following line contains n+1 integers, that denote the value of elements of array p[].\n",
    "\n",
    "Output Format:\n",
    "The first and only line of output prints the minimum number of multiplication needed.\n",
    "\n",
    "Constraints :\n",
    "\n",
    "1 <= n <= 100\n",
    "\n",
    "Time limit: 1 second"
   ]
  },
  {
   "cell_type": "code",
   "execution_count": 1,
   "metadata": {},
   "outputs": [
    {
     "name": "stdout",
     "output_type": "stream",
     "text": [
      "124\n"
     ]
    }
   ],
   "source": [
    "#Recursive solution\n",
    "import sys\n",
    "\n",
    "def mcm(p,i,j):\n",
    "    \n",
    "    #base case:\n",
    "    if i == j:\n",
    "        return 0\n",
    "    \n",
    "    min_value = sys.maxsize\n",
    "    \n",
    "    for k in range(i,j):\n",
    "        ans1 = mcm(p,i,k)\n",
    "        ans2 = mcm(p,k+1,j)\n",
    "        \n",
    "        mCost = p[i-1]*p[k]*p[j]\n",
    "        curr_value = ans1+ ans2+ mCost\n",
    "        min_value = min(min_value, curr_value)\n",
    "        \n",
    "    return min_value\n",
    "\n",
    "p = [2,3,4,5,6]\n",
    "n = len(p)-1\n",
    "ans = mcm(p,1,n)\n",
    "print(ans)"
   ]
  },
  {
   "cell_type": "code",
   "execution_count": 3,
   "metadata": {},
   "outputs": [
    {
     "name": "stdout",
     "output_type": "stream",
     "text": [
      "124\n"
     ]
    }
   ],
   "source": [
    "#Recursive Memoization\n",
    "\n",
    "import sys\n",
    "from sys import stdin\n",
    "def mcm(p,i,j,dp):\n",
    "\n",
    "    #base case:\n",
    "    if i == j:\n",
    "        return 0\n",
    "    \n",
    "    min_value = sys.maxsize\n",
    "    for k in range(i,j):\n",
    "        if dp[i][k] == -1:\n",
    "            ans1 = mcm(p,i,k,dp)\n",
    "            dp[i][k] = ans1\n",
    "        else:\n",
    "            ans1 = dp[i][k]\n",
    "        \n",
    "        if dp[k+1][j] == -1:\n",
    "            ans2 = mcm(p,k+1,j,dp)\n",
    "            dp[k+1][j] = ans2\n",
    "        else:\n",
    "            ans2 = dp[k+1][j]\n",
    "            \n",
    "        min_cost = p[i-1] * p[k] * p[j]\n",
    "        curr_value = ans1 + ans2 + min_cost\n",
    "        min_value = min(min_value, curr_value)\n",
    "        \n",
    "    return min_value\n",
    "\n",
    "p = [2,3,4,5,6]\n",
    "n = len(p)-1\n",
    "dp = [[-1 for j in range(n+1)] for i in range(n+1)]\n",
    "print(mcm(p,1,n,dp))\n",
    "\n",
    "# n=int(stdin.readline().strip())\n",
    "# p=[int(i) for i in stdin.readline().strip().split()]\n",
    "# dp = [[-1 for j in range(n+1)] for i in range(n+1)]\n",
    "# print(mcm(p,1,n,dp))"
   ]
  },
  {
   "cell_type": "code",
   "execution_count": null,
   "metadata": {},
   "outputs": [],
   "source": [
    "\"\"\"Sample Input 1:\n",
    "3\n",
    "10 15 20 25\n",
    "Sample Output 1:\n",
    "8000\n",
    "Sample Output Explanation:\n",
    "There are two ways to multiply the chain - A1*(A2*A3) or (A1*A2)*A3.\n",
    "If we multiply in order- A1*(A2*A3), then number of multiplications required are 15000.\n",
    "If we multiply in order- (A1*A2)*A3, then number of multiplications required are 8000.\n",
    "Thus minimum number of multiplications required are 8000. \"\"\""
   ]
  }
 ],
 "metadata": {
  "kernelspec": {
   "display_name": "Python 3",
   "language": "python",
   "name": "python3"
  },
  "language_info": {
   "codemirror_mode": {
    "name": "ipython",
    "version": 3
   },
   "file_extension": ".py",
   "mimetype": "text/x-python",
   "name": "python",
   "nbconvert_exporter": "python",
   "pygments_lexer": "ipython3",
   "version": "3.8.2"
  }
 },
 "nbformat": 4,
 "nbformat_minor": 4
}
