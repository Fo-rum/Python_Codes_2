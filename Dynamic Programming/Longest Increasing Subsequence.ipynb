{
 "cells": [
  {
   "cell_type": "markdown",
   "metadata": {},
   "source": [
    "Given an array with N elements, you need to find the length of the longest subsequence in the given array such that all elements of the subsequence are sorted in strictly increasing order.\n",
    "\n",
    "Note: skipping is allowed but go from L -> R"
   ]
  },
  {
   "cell_type": "markdown",
   "metadata": {},
   "source": [
    "Input Format:\n",
    "The first line of input contains an integer N. The following line contains N space separated integers, that denote the value of elements of array.\n",
    "\n",
    "Output Format:\n",
    "The first and only line of output contains the length of longest subsequence.\n",
    "\n",
    "Constraints\n",
    "\n",
    "1 <= N <= 10^3\n",
    "\n",
    "Time Limit: 1 second"
   ]
  },
  {
   "cell_type": "code",
   "execution_count": 3,
   "metadata": {},
   "outputs": [
    {
     "name": "stdout",
     "output_type": "stream",
     "text": [
      "7\n",
      "6 3 1 2 0 7 9\n",
      "4\n"
     ]
    }
   ],
   "source": [
    "#LIS recursive solution\n",
    "\n",
    "#including ith element\n",
    "#overall LIS starting from ith element\n",
    "\n",
    "def lisR(li,i,n):\n",
    "    if i == n:\n",
    "        return 0,0\n",
    "    including_max = 1\n",
    "    for j in range(i+1,n):\n",
    "        if li[j] >= li[i]:\n",
    "            further_including_max = lisR(li,j,n)[0]\n",
    "            including_max = max(including_max , 1+further_including_max)\n",
    "            \n",
    "    excluding_max = lisR(li,i+1,n)[1]\n",
    "    overall_max = max(including_max, excluding_max)\n",
    "    return including_max,overall_max\n",
    "\n",
    "n = int(input())\n",
    "li = [int(ele) for ele in input().split()]\n",
    "ans = lisR(li,0,n)[1] #returns a tuple, but we just need the overallMax\n",
    "print(ans)"
   ]
  },
  {
   "cell_type": "code",
   "execution_count": 4,
   "metadata": {},
   "outputs": [
    {
     "name": "stdout",
     "output_type": "stream",
     "text": [
      "7\n",
      "6 3 1 2 0 7 9\n",
      "4\n"
     ]
    }
   ],
   "source": [
    "#Using memoization\n",
    "\n",
    "def lisM(li,i,n,dp):\n",
    "    \n",
    "    #base case\n",
    "    if i == n:\n",
    "        return 0,0\n",
    "    \n",
    "    including_max = 1\n",
    "    for j in range(i+1,n):\n",
    "        if li[j] >= li[i]:\n",
    "            if dp[j] == -1:\n",
    "                ans = lisM(li,j,n,dp)\n",
    "                dp[j] = ans\n",
    "                further_including_max = ans[0]\n",
    "            else:\n",
    "                further_including_max = dp[j][0]\n",
    "            including_max = max(including_max, 1+ further_including_max)\n",
    "            \n",
    "    \n",
    "    if dp[i+1] == -1:\n",
    "        ans = lisM(li, i+1, n, dp)\n",
    "        dp[i+1] = ans\n",
    "        excluding_max = ans[1]\n",
    "        \n",
    "    else:\n",
    "        excluding_max = dp[i+1][1]\n",
    "    overallMax = max(including_max, excluding_max)\n",
    "    return including_max, overallMax\n",
    "\n",
    "n = int(input())\n",
    "li = [int(ele) for ele in input().split()]\n",
    "dp = [-1 for i in range(n+1)] #one extra for the last element because accessing the (i+1) element might throw index error\n",
    "ans = lisM(li,0,n,dp)[1]\n",
    "print(ans)"
   ]
  },
  {
   "cell_type": "code",
   "execution_count": null,
   "metadata": {},
   "outputs": [],
   "source": [
    "#Iterative solution\n",
    "Note: For iterative solution, the computation starts in reverse order ie from n-1 to 0\n",
    "    there is last extra position at array (0,0) when i==n\n",
    "    \n",
    "    hENCE, initialization for all is done accordingly\n",
    "    \n",
    "    dp[i] stores two things:\n",
    "        1. including ith element LIS\n",
    "        2. overall max LIS starting from ith element\n",
    "\n",
    "\n",
    "from sys import stdin\n",
    "\n",
    "def lis(arr): \n",
    "    n = len(arr)\n",
    "    \n",
    "    #store (0,0) for all including the base case\n",
    "    dp = [[0 for j in range(2)] for i in range(n+1)]\n",
    "    \n",
    "    for i in range(n-1,-1,-1):\n",
    "        including_max = 1\n",
    "        for j in range(i+1,n):\n",
    "            \n",
    "            #the below condition arr[j] > arr[i] is for strictly increasing means same consecutive elements not allowed\n",
    "            # if only increasing ie repetition allowed then arr[j] >= arr[i]\n",
    "            if arr[j] > arr[i]:\n",
    "                including_max = max(including_max, 1+dp[j][0])\n",
    "        dp[i][0] = including_max\n",
    "        excluding_max = dp[i+1][1]\n",
    "        overallMax = max(including_max, excluding_max)\n",
    "        dp[i][1] = overallMax\n",
    "            \n",
    "    return dp[0][1] #longest sequence will be stored at first element's second part\n",
    "\n",
    "# n = int(input())\n",
    "# li = [int(ele) for ele in input().split()]\n",
    "# ans = lis(li,n)\n",
    "# print(ans)\n",
    "\n",
    "\n",
    "\n",
    "def takeInput():\n",
    "    #To take fast I/O\n",
    "    n=int(stdin.readline().strip())\n",
    "    if n==0:\n",
    "        return list(),0\n",
    "    arr=list(map(int,stdin.readline().strip().split( )))\n",
    "    return arr,n\n",
    "    \n",
    "\n",
    "arr,n=takeInput()\n",
    "print(lis(arr))"
   ]
  },
  {
   "cell_type": "code",
   "execution_count": null,
   "metadata": {},
   "outputs": [],
   "source": [
    "\"\"\"Sample Input 1 :\n",
    "6\n",
    "5 4 11 1 16 8\n",
    "Sample Output 1 :\n",
    "3\n",
    "Sample Output Explanation\n",
    "Length of longest subsequence is 3 i.e. (5,11,16) or (4,11,16).\n",
    "Sample Input 2 :\n",
    "3\n",
    "1 2 2\n",
    "Sample Output 2 :\n",
    "2\"\"\""
   ]
  }
 ],
 "metadata": {
  "kernelspec": {
   "display_name": "Python 3",
   "language": "python",
   "name": "python3"
  },
  "language_info": {
   "codemirror_mode": {
    "name": "ipython",
    "version": 3
   },
   "file_extension": ".py",
   "mimetype": "text/x-python",
   "name": "python",
   "nbconvert_exporter": "python",
   "pygments_lexer": "ipython3",
   "version": "3.8.2"
  }
 },
 "nbformat": 4,
 "nbformat_minor": 4
}
