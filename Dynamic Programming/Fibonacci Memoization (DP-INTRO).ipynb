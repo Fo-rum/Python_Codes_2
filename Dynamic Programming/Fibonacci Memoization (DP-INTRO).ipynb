{
 "cells": [
  {
   "cell_type": "code",
   "execution_count": null,
   "metadata": {},
   "outputs": [],
   "source": [
    "# Dynamic programming is useful for optimal substructure and for overlapping subproblems\n",
    "\n",
    "#Memoization is the concept of storing information via recursion. The storage can be done using arrays or maps.\n",
    "\n",
    "#Recurrence relationn for fibonacci:\n",
    "#fibb(n) => fibb(n-1) + fibb(n-2)"
   ]
  },
  {
   "cell_type": "code",
   "execution_count": 5,
   "metadata": {},
   "outputs": [
    {
     "name": "stdout",
     "output_type": "stream",
     "text": [
      "4\n",
      "3\n"
     ]
    }
   ],
   "source": [
    "def fibb(n,dp):\n",
    "    \n",
    "    if n == 0 or n == 1:\n",
    "        return n\n",
    "    \n",
    "    #if not present then make the recursive call\n",
    "    if dp[n-1] == -1:\n",
    "        ans1 = fibb(n-1,dp)\n",
    "        dp[n-1] = ans1 #once the call is madem the answer is stored at the respective array location\n",
    "    else:\n",
    "        ans1 = dp[n-1]\n",
    "    \n",
    "    if dp[n-2] == -1:\n",
    "        ans2 = fibb(n-2,dp)\n",
    "        dp[n-2] = ans2\n",
    "    else:\n",
    "        ans2 = dp[n-2] #if not -1, means already stored in the list, access the respective array loc and get the answer\n",
    "    \n",
    "    myans = ans1 + ans2\n",
    "    return myans\n",
    "\n",
    "n = int(input())\n",
    "dp = [-1 for i in range(n+1)]\n",
    "ans = fibb(n,dp)\n",
    "print(ans)"
   ]
  },
  {
   "cell_type": "code",
   "execution_count": 6,
   "metadata": {},
   "outputs": [
    {
     "name": "stdout",
     "output_type": "stream",
     "text": [
      "5\n",
      "5\n"
     ]
    }
   ],
   "source": [
    "# Conversion of recursive code to iterative code\n",
    "#In iterative solution, the initial values get filled according to the base condition\n",
    "# According to the recurrence relation, fill the remaining values\n",
    "\n",
    "def fibbI(n):\n",
    "    dp = [0 for i in range(n+1)]\n",
    "    \n",
    "    #initializing the first two values using the base condition\n",
    "    dp[0] = 0\n",
    "    dp[1] = 1\n",
    "    \n",
    "    i = 2\n",
    "    while i<=n:\n",
    "        dp[i] = dp[i-1] + dp[i-2]\n",
    "        i +=1\n",
    "    return dp[n]\n",
    "\n",
    "n = int(input())\n",
    "ans = fibbI(n)\n",
    "print(ans)\n",
    "    "
   ]
  },
  {
   "cell_type": "code",
   "execution_count": null,
   "metadata": {},
   "outputs": [],
   "source": [
    "\"\"\"Steps for DP:\n",
    "1. Recursive/Recurrence relation -> 70% part\n",
    "2. Memoization (optimize overlapping subproblems) -> 30%\n",
    "3. Iterative Dynamic prog -> Difficult initially, but dont jump directly.\n",
    "\n",
    "Why are iterative solutions better than recursive solutions?\n",
    "Ans: recursive solutions involve function calls which get stored in a stack. Too many function calls can lead to\n",
    "    a stack overflow. Also, have to wait for the answer to be returned.\n",
    "    \n",
    "    Whereas, in iterative there are no stacks involved. No stack overflow and comparatively fewer function calls made.\"\"\""
   ]
  }
 ],
 "metadata": {
  "kernelspec": {
   "display_name": "Python 3",
   "language": "python",
   "name": "python3"
  },
  "language_info": {
   "codemirror_mode": {
    "name": "ipython",
    "version": 3
   },
   "file_extension": ".py",
   "mimetype": "text/x-python",
   "name": "python",
   "nbconvert_exporter": "python",
   "pygments_lexer": "ipython3",
   "version": "3.8.2"
  }
 },
 "nbformat": 4,
 "nbformat_minor": 4
}
