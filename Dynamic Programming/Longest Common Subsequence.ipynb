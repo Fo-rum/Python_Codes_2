{
 "cells": [
  {
   "cell_type": "code",
   "execution_count": null,
   "metadata": {},
   "outputs": [],
   "source": [
    "\"\"\"Part of string moving from left to right, which may not be continous is known as a subsequence.\n",
    "task is to Find Longest subsequence in two strings.\n",
    "\n",
    "Algorithm:\n",
    "    if str1[i] == str2[j]:\n",
    "        1 + lCS(i+1,j+1)\n",
    "    else:\n",
    "        max(lcs(i+1,j), lcs(i,j+1))\"\"\""
   ]
  },
  {
   "cell_type": "markdown",
   "metadata": {},
   "source": [
    "Given two strings, S and T with lengths M and N, find the length of the 'Longest Common Subsequence'.\n",
    "\n",
    "For a string 'str'(per se) of length K, the subsequences are the strings containing characters in the same relative order as they are present in 'str,' but not necessarily contiguous. Subsequences contain all the strings of length varying from 0 to K.\n",
    "\n",
    "Example :\n",
    "Subsequences of string \"abc\" are:  \"\"(empty string), a, b, c, ab, bc, ac, abc."
   ]
  },
  {
   "cell_type": "markdown",
   "metadata": {},
   "source": [
    "Input format :\n",
    "The first line of input contains the string S of length M.\n",
    "\n",
    "The second line of the input contains the String T of length N.\n",
    "\n",
    "Output format :\n",
    "Print the length of the 'Longest Common Subsequence'.\n",
    "\n",
    "Constraints :\n",
    "\n",
    "0 <= M <= 10 ^ 3\n",
    "\n",
    "0 <= N <= 10 ^ 3\n",
    "\n",
    "Time Limit: 1sec"
   ]
  },
  {
   "cell_type": "code",
   "execution_count": 1,
   "metadata": {},
   "outputs": [
    {
     "name": "stdout",
     "output_type": "stream",
     "text": [
      "4\n"
     ]
    }
   ],
   "source": [
    "#Recursive Solution\n",
    "\n",
    "def lcsR(str1,str2,i,j):\n",
    "    \n",
    "    #base case:\n",
    "    #If either of them reach the length, means there are no characters pending after that, simply return 0\n",
    "    if i == len(str1) or j == len(str2):\n",
    "        return 0\n",
    "    \n",
    "    if str1[i] == str2[j]:\n",
    "        ans = 1 + lcsR(str1,str2,i+1,j+1)\n",
    "    else:\n",
    "        \n",
    "        #If no match, increment i & j\n",
    "        ans1 = lcsR(str1,str2,i+1,j)\n",
    "        ans2 = lcsR(str1,str2,i,j+1)\n",
    "        ans = max(ans1,ans2)\n",
    "    \n",
    "    return ans\n",
    "\n",
    "str1 = \"abdgec\"\n",
    "str2 = \"bfdmgjc\"\n",
    "ans = lcsR(str1,str2,0,0)\n",
    "print(ans)"
   ]
  },
  {
   "cell_type": "code",
   "execution_count": 2,
   "metadata": {},
   "outputs": [
    {
     "name": "stdout",
     "output_type": "stream",
     "text": [
      "4\n"
     ]
    }
   ],
   "source": [
    "#Memoization solution\n",
    "#Overlapping subproblems: making function calls because the characters are not matching\n",
    "\n",
    "def lcsM(str1,str2,i,j,dp):\n",
    "    \n",
    "    #base case:\n",
    "    if i == len(str1) or j == len(str2):\n",
    "        return 0\n",
    "    \n",
    "    #if the characters match\n",
    "    if str1[i] == str2[j]:\n",
    "        if dp[i+1][j+1] == -1:\n",
    "            smallans = lcsM(str1,str2,i+1,j+1,dp)\n",
    "            dp[i+1][j+1] = smallans\n",
    "            ans = 1+ smallans #here 1 means include the characters in the string\n",
    "        else:\n",
    "            ans = 1+ dp[i+1][j+1]\n",
    "            \n",
    "    #if the characters do not match\n",
    "    else:\n",
    "        if dp[i+1][j] == -1:\n",
    "            ans1 = lcsM(str1,str2,i+1,j,dp)\n",
    "            dp[i+1][j] = ans1\n",
    "        else:\n",
    "            ans1 = dp[i+1][j]\n",
    "            \n",
    "        if dp[i][j+1] == -1:\n",
    "            ans2 = lcsM(str1,str2,i,j+1,dp)\n",
    "            dp[i][j+1] = ans2\n",
    "        else:\n",
    "            ans2 = dp[i][j+1]\n",
    "        \n",
    "        ans = max(ans1,ans2)\n",
    "        \n",
    "    return ans\n",
    "\n",
    "\n",
    "str1 = \"abdgec\"\n",
    "str2 = \"bfdmgjc\"\n",
    "m = len(str1)\n",
    "n = len(str2)\n",
    "\n",
    "#initialized dp array with -1 because len of string cant be -1\n",
    "#Extra space to prevent index error while making calls for (i+1,j+1)\n",
    "dp = [[-1 for j in range(n+1)] for i in range(m+1)]\n",
    "ans = lcsM(str1,str2,0,0,dp)\n",
    "print(ans)"
   ]
  },
  {
   "cell_type": "code",
   "execution_count": null,
   "metadata": {},
   "outputs": [],
   "source": [
    "#Iterative solution\n",
    "#Bottom up approach\n",
    "\n",
    "from sys import stdin\n",
    "\n",
    "def lcs(str1, str2) :\n",
    "    m = len(str1)\n",
    "    n = len(str2)\n",
    "    \n",
    "    dp = [[0 for j in range(n+1)] for i in range(m+1)]\n",
    "    \n",
    "    for i in range(m-1,-1,-1):\n",
    "        for j in range(n-1,-1,-1):\n",
    "            if str1[i] == str2[j]:\n",
    "                dp[i][j] = 1 + dp[i+1][j+1]\n",
    "            else:\n",
    "                dp[i][j] = max(dp[i][j+1], dp[i+1][j])\n",
    "                \n",
    "    return dp[0][0]\n",
    "    \n",
    "#main\n",
    "s = str(stdin.readline().rstrip())\n",
    "t = str(stdin.readline().rstrip())\n",
    "\n",
    "print(lcs(s, t))"
   ]
  },
  {
   "cell_type": "code",
   "execution_count": null,
   "metadata": {},
   "outputs": [],
   "source": [
    "\"\"\"Sample Input 1 :\n",
    "adebc\n",
    "dcadb\n",
    "Sample Output 1 :\n",
    "3\n",
    "Explanation of the Sample Input 1 :\n",
    "Both the strings contain a common subsequence 'adb', which is the longest common subsequence with length 3. \n",
    "Sample Input 2 :\n",
    "ab\n",
    "defg\n",
    "Sample Output 2 :\n",
    "0\n",
    "Explanation of the Sample Input 2 :\n",
    "The only subsequence that is common to both the given strings is an empty string(\"\") of length 0.\"\"\""
   ]
  }
 ],
 "metadata": {
  "kernelspec": {
   "display_name": "Python 3",
   "language": "python",
   "name": "python3"
  },
  "language_info": {
   "codemirror_mode": {
    "name": "ipython",
    "version": 3
   },
   "file_extension": ".py",
   "mimetype": "text/x-python",
   "name": "python",
   "nbconvert_exporter": "python",
   "pygments_lexer": "ipython3",
   "version": "3.8.2"
  }
 },
 "nbformat": 4,
 "nbformat_minor": 4
}
