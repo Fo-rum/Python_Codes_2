{
 "cells": [
  {
   "cell_type": "markdown",
   "metadata": {},
   "source": [
    "A thief robbing a store can carry a maximal weight of W into his knapsack. \n",
    "\n",
    "There are N items, and i-th item weigh 'Wi' and the value being 'Vi.' What would be the maximum value V, that the thief can steal?"
   ]
  },
  {
   "cell_type": "markdown",
   "metadata": {},
   "source": [
    "Input Format :\n",
    "The first line of the input contains an integer value N, which denotes the total number of items.\n",
    "\n",
    "The second line of input contains the N number of weights separated by a single space.\n",
    "\n",
    "The third line of input contains the N number of values separated by a single space.\n",
    "\n",
    "The fourth line of the input contains an integer value W, which denotes the maximum weight the thief can steal.\n",
    "\n",
    "Output Format :\n",
    "Print the maximum value of V that the thief can steal.\n",
    "\n",
    "Constraints :\n",
    "\n",
    "1 <= N <= 20\n",
    "\n",
    "1<= Wi <= 100\n",
    "\n",
    "1 <= Vi <= 100\n",
    "\n",
    "Time Limit: 1 sec"
   ]
  },
  {
   "cell_type": "code",
   "execution_count": 1,
   "metadata": {},
   "outputs": [
    {
     "name": "stdout",
     "output_type": "stream",
     "text": [
      "500\n"
     ]
    }
   ],
   "source": [
    "#Recursive code\n",
    "\n",
    "def knapsack(W,val,wt,n,i):\n",
    "    \n",
    "    #when i goes out of range, there is no value associated with it\n",
    "    #so simply return 0\n",
    "    if i == n:\n",
    "        return 0\n",
    "    \n",
    "    #simply exclude the item\n",
    "    if wt[i] > W:\n",
    "        ans = knapsack(W,val,wt,n,i+1)\n",
    "        \n",
    "    else:\n",
    "        #inclusion of ith item\n",
    "        ans1 = val[i] + knapsack(W-wt[i], val, wt, n, i+1)\n",
    "        \n",
    "        #exclusion of ith item\n",
    "        ans2 = knapsack(W,val,wt,n,i+1)\n",
    "        \n",
    "        ans = max(ans1,ans2)\n",
    "        \n",
    "    return ans\n",
    "\n",
    "val = [200,300,100]\n",
    "wt = [20,25,30]\n",
    "W = 50\n",
    "n = len(val)\n",
    "ans = knapsack(W,val,wt,n,0)\n",
    "print(ans)"
   ]
  },
  {
   "cell_type": "code",
   "execution_count": null,
   "metadata": {},
   "outputs": [],
   "source": [
    "\n",
    "from sys import stdin\n",
    "\n",
    "def knapsack(weights, values, n, maxWeight) :\n",
    "    \n",
    "    dp = [[0 for j in range(maxWeight+1)] for i in range(n+1)]\n",
    "    \n",
    "    for i in range(1,n+1):\n",
    "        for j in range(1,maxWeight+1):\n",
    "            if j < weights[i-1]:\n",
    "                ans = dp[i-1][j]\n",
    "            else:\n",
    "                ans1 = values[i-1] + dp[i-1][j-weights[i-1]]\n",
    "                ans2 = dp[i-1][j]\n",
    "                ans = max(ans1,ans2)\n",
    "            dp[i][j] = ans\n",
    "            \n",
    "    return dp[n][maxWeight]\n",
    "        \n",
    "\n",
    "\n",
    "def takeInput() :\n",
    "    n = int(stdin.readline().rstrip())\n",
    "\n",
    "    if n == 0 :\n",
    "        return list(), list(), n, 0\n",
    "\n",
    "    weights = list(map(int, stdin.readline().rstrip().split(\" \")))\n",
    "    values = list(map(int, stdin.readline().rstrip().split(\" \")))\n",
    "    maxWeight = int(stdin.readline().rstrip())\n",
    "\n",
    "    return weights, values, n, maxWeight\n",
    "\n",
    "\n",
    "#main\n",
    "weights, values, n, maxWeight = takeInput()\n",
    "\n",
    "print(knapsack(weights, values, n, maxWeight))"
   ]
  },
  {
   "cell_type": "code",
   "execution_count": null,
   "metadata": {},
   "outputs": [],
   "source": [
    "\"\"\"Sample Input 1 :\n",
    "4\n",
    "1 2 4 5\n",
    "5 4 8 6\n",
    "5\n",
    "Sample Output 1 :\n",
    "13\n",
    "Sample Input 2 :\n",
    "5\n",
    "12 7 11 8 9\n",
    "24 13 23 15 16\n",
    "26\n",
    "Sample Output 2 :\n",
    "51\"\"\""
   ]
  }
 ],
 "metadata": {
  "kernelspec": {
   "display_name": "Python 3",
   "language": "python",
   "name": "python3"
  },
  "language_info": {
   "codemirror_mode": {
    "name": "ipython",
    "version": 3
   },
   "file_extension": ".py",
   "mimetype": "text/x-python",
   "name": "python",
   "nbconvert_exporter": "python",
   "pygments_lexer": "ipython3",
   "version": "3.8.2"
  }
 },
 "nbformat": 4,
 "nbformat_minor": 4
}
