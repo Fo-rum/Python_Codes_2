{
 "cells": [
  {
   "cell_type": "markdown",
   "metadata": {},
   "source": [
    "A number can always be represented as a sum of squares of other numbers.\n",
    "\n",
    "Note that 1 is a square and we can always break a number as [(1 * 1) + (1 * 1) + (1 * 1) + …]. \n",
    "\n",
    "Given a number n, find the minimum number of squares that sum to n."
   ]
  },
  {
   "cell_type": "markdown",
   "metadata": {},
   "source": [
    "Input format:\n",
    " The first and only line of input contains an integer N (1 <= N <= 10000)\n",
    " \n",
    "Constraints:\n",
    " Time Limit: 1 seconds\n",
    " \n",
    "Output format:\n",
    "The first and only line of output contains the minimum number if squares that sum to n."
   ]
  },
  {
   "cell_type": "code",
   "execution_count": 3,
   "metadata": {},
   "outputs": [
    {
     "name": "stdout",
     "output_type": "stream",
     "text": [
      "14\n",
      "3\n"
     ]
    }
   ],
   "source": [
    "#Recursive solution\n",
    "\n",
    "import math,sys\n",
    "def minSquaresR(n):\n",
    "    if n == 0:\n",
    "        return 0\n",
    "    ans = sys.maxsize\n",
    "    root = int(math.sqrt(n))\n",
    "    for i in range(1,root+1):\n",
    "        curr_ans = 1 + minSquaresR(n-(i**2))\n",
    "        ans = min(ans,curr_ans)\n",
    "    return ans\n",
    "\n",
    "n = int(input())\n",
    "ans = minSquaresR(n)\n",
    "print(ans)"
   ]
  },
  {
   "cell_type": "code",
   "execution_count": 4,
   "metadata": {},
   "outputs": [
    {
     "name": "stdout",
     "output_type": "stream",
     "text": [
      "14\n",
      "3\n"
     ]
    }
   ],
   "source": [
    "#Using Memoization\n",
    "\n",
    "import math,sys\n",
    "\n",
    "def minSquaresM(n,dp):\n",
    "    if n ==0:\n",
    "        return 0\n",
    "    ans = sys.maxsize\n",
    "    root = int(math.sqrt(n))\n",
    "    for i in range(1, root+1):\n",
    "        newCheckValue = n - (i**2)\n",
    "        if dp[newCheckValue] == -1:\n",
    "            smallans = minSquaresM(newCheckValue,dp)\n",
    "            dp[newCheckValue] = smallans\n",
    "            curr_ans = 1 + smallans\n",
    "        else:\n",
    "            curr_ans = 1+ dp[newCheckValue]\n",
    "        ans = min(ans,curr_ans)\n",
    "        \n",
    "    return ans\n",
    "\n",
    "n = int(input())\n",
    "dp = [-1 for i in range(n+1)]\n",
    "ans = minSquaresM(n,dp)\n",
    "print(ans)"
   ]
  },
  {
   "cell_type": "code",
   "execution_count": 2,
   "metadata": {},
   "outputs": [
    {
     "name": "stdout",
     "output_type": "stream",
     "text": [
      "10\n",
      "2\n"
     ]
    }
   ],
   "source": [
    "\n",
    "#Iterative solution\n",
    "import sys,math\n",
    "def minsquaresI(n):\n",
    "    dp = [-1 for i in range(n+1)]\n",
    "    dp[0] = 0\n",
    "    for i in range(1,n+1):\n",
    "        ans = sys.maxsize\n",
    "        root = int(math.sqrt(i))\n",
    "        for j in range(1,root+1):\n",
    "            curr_ans = 1+dp[i-(j**2)]\n",
    "            ans = min(ans,curr_ans)\n",
    "        dp[i]=ans\n",
    "    return dp[n]\n",
    "    \n",
    "n = int(input())\n",
    "ans = minsquaresI(n)\n",
    "print(ans)\n"
   ]
  },
  {
   "cell_type": "code",
   "execution_count": null,
   "metadata": {},
   "outputs": [],
   "source": [
    "\"\"\"Sample Test Cases:\n",
    "Sample Input 1:\n",
    "100\n",
    "Sample Output 1:\n",
    "1\n",
    "Explanation:\n",
    "We can write 100 as 10^2 also, 100 can be written as (5^2) + (5^2) + (5^2) + (5^2), but this representation requires 4 squares. So, in this case, the expected answer would be 1, that is, 10^2.\n",
    "\n",
    "input - output\n",
    "3 - 3\n",
    "10 - 2\n",
    "13 - 2\n",
    "\n",
    "\"\"\""
   ]
  }
 ],
 "metadata": {
  "kernelspec": {
   "display_name": "Python 3",
   "language": "python",
   "name": "python3"
  },
  "language_info": {
   "codemirror_mode": {
    "name": "ipython",
    "version": 3
   },
   "file_extension": ".py",
   "mimetype": "text/x-python",
   "name": "python",
   "nbconvert_exporter": "python",
   "pygments_lexer": "ipython3",
   "version": "3.8.2"
  }
 },
 "nbformat": 4,
 "nbformat_minor": 4
}
