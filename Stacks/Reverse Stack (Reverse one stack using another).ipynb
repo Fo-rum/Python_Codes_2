{
 "cells": [
  {
   "cell_type": "markdown",
   "metadata": {},
   "source": [
    "You have been given two stacks that can store integers as the data. Out of the two given stacks, one is populated and the other one is empty.\n",
    "\n",
    "You are required to write a function that reverses the populated stack using the one which is empty."
   ]
  },
  {
   "cell_type": "markdown",
   "metadata": {},
   "source": [
    "Input Format :\n",
    "\n",
    "The first line of input contains an integer N, denoting the total number of elements in the stack.\n",
    "\n",
    "The second line of input contains N integers separated by a single space, representing the order in which the elements are pushed into the stack.\n",
    "\n",
    "Output Format:\n",
    "The only line of output prints the order in which the stack elements are popped, all of them separated by a single space. \n",
    "\n",
    "Note:\n",
    "You are not required to print the expected output explicitly, it has already been taken care of. Just make the changes in the input stack itself.\n",
    "\n",
    "Constraints:\n",
    "1 <= N <= 10^3\n",
    "\n",
    "-2^31 <= data <= 2^31 - 1\n",
    "\n",
    "Time Limit: 1sec "
   ]
  },
  {
   "cell_type": "code",
   "execution_count": null,
   "metadata": {},
   "outputs": [],
   "source": [
    "\n",
    "from sys import stdin, setrecursionlimit\n",
    "setrecursionlimit(10 ** 6)\n",
    "\n",
    "\n",
    "def reverseStack(inputStack, extraStack) :\n",
    "    if(len(inputStack)) <= 1:\n",
    "        return\n",
    "    \n",
    "    while(len(inputStack)!=1):\n",
    "        element = inputStack.pop()\n",
    "        extraStack.append(element)\n",
    "    \n",
    "    lastElement = inputStack.pop()\n",
    "    \n",
    "    while(len(extraStack)!=0):\n",
    "        element = extraStack.pop()\n",
    "        inputStack.append(element)\n",
    "        \n",
    "    reverseStack(inputStack,extraStack)\n",
    "    inputStack.append(lastElement)\n",
    "\n",
    "\n",
    "    \n",
    "# n = int(input())\n",
    "# s1 = [int(ele) for ele in input().split()]\n",
    "# s2 = []\n",
    "# reverseStack(s1,s2)\n",
    "# while(len(s1)!= 0):\n",
    "#     print(s1.pop(), end='')\n",
    "\n",
    "\n",
    "'''-------------- Utility Functions --------------'''\n",
    "\n",
    "#Taking input using fast I/o method\n",
    "def takeInput() :\n",
    "\tsize = int(stdin.readline().strip())\n",
    "\tinputStack = list()\n",
    "\n",
    "\tif size == 0 :\n",
    "\t\treturn inputStack\n",
    "\n",
    "\n",
    "\tvalues = list(map(int, stdin.readline().strip().split(\" \")))\n",
    "\tinputStack = values\n",
    "\n",
    "\treturn inputStack\n",
    "\n",
    "\n",
    "#main\n",
    "inputStack = takeInput()\n",
    "emptyStack = list()\n",
    "\n",
    "reverseStack(inputStack, emptyStack)\n",
    "\n",
    "while len(inputStack)!=0 :\n",
    "\tprint(inputStack.pop(), end = \" \")\n"
   ]
  },
  {
   "cell_type": "code",
   "execution_count": null,
   "metadata": {},
   "outputs": [],
   "source": [
    "\"\"\"\n",
    "Sample Input 1:\n",
    "6\n",
    "1 2 3 4 5 10\n",
    "Note:\n",
    "Here, 10 is at the top of the stack.\n",
    "Sample Output 1:\n",
    "1 2 3 4 5 10\n",
    "Note:\n",
    "Here, 1 is at the top of the stack.\n",
    "Sample Input 2:\n",
    "5\n",
    "2 8 15 1 10\n",
    "Sample Output 2:\n",
    "2 8 15 1 10\n",
    "\"\"\""
   ]
  },
  {
   "cell_type": "code",
   "execution_count": null,
   "metadata": {},
   "outputs": [],
   "source": [
    "\"\"\"Working of the above operation:\n",
    "1. reverse stack(s1,s2):\n",
    "    if (s1 has one element):\n",
    "        return\n",
    "2. Move n-1 elements from s1 to s2\n",
    "3. 1 elem <- save the last element\n",
    "4. move n-1 elements from s2 to s1\n",
    "    reverse(s1,s2)\n",
    "    push element into stack\n",
    "    return s1\"\"\""
   ]
  }
 ],
 "metadata": {
  "kernelspec": {
   "display_name": "Python 3",
   "language": "python",
   "name": "python3"
  },
  "language_info": {
   "codemirror_mode": {
    "name": "ipython",
    "version": 3
   },
   "file_extension": ".py",
   "mimetype": "text/x-python",
   "name": "python",
   "nbconvert_exporter": "python",
   "pygments_lexer": "ipython3",
   "version": "3.8.2"
  }
 },
 "nbformat": 4,
 "nbformat_minor": 4
}
