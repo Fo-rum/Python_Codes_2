{
 "cells": [
  {
   "cell_type": "markdown",
   "metadata": {},
   "source": [
    "Afzal has been working with an organization called 'Money Traders' for the past few years. The organization is into the money trading business. His manager assigned him a task. For a given array/list of stock's prices for N days, find the stock's span for each day.\n",
    "\n",
    "The span of the stock's price today is defined as the maximum number of consecutive days(starting from today and going backwards) for which the price of the stock was less than today's price.\n",
    "\n",
    "For example, if the price of a stock over a period of 7 days are [100, 80, 60, 70, 60, 75, 85], then the stock spans will be [1, 1, 1, 2, 1, 4, 6].\n",
    "\n",
    "Explanation:\n",
    "On the sixth day when the price of the stock was 75, the span came out to be 4, because the last 4 prices(including the current price of 75) were less than the current or the sixth day's price.\n",
    "\n",
    "Similarly, we can deduce the remaining results.\n",
    "\n",
    "Afzal has to return an array/list of spans corresponding to each day's stock's price. Help him to achieve the task."
   ]
  },
  {
   "cell_type": "markdown",
   "metadata": {},
   "source": [
    "Input Format:\n",
    "The first line of input contains an integer N, denoting the total number of days.\n",
    "\n",
    "The second line of input contains the stock prices of each day. A single space will separate them.\n",
    "\n",
    "Output Format:\n",
    "The only line of output will print the span for each day's stock price. A single space will separate them.\n",
    "\n",
    "Note:\n",
    "You are not required to print the expected output explicitly. It has already been taken care of. \n",
    "\n",
    "Constraints:\n",
    "\n",
    "0 <= N <= 10^7\n",
    "\n",
    "1 <= X <= 10^9\n",
    "\n",
    "Where X denotes the stock's price for a day.\n",
    "\n",
    "Time Limit: 1 second\n"
   ]
  },
  {
   "cell_type": "code",
   "execution_count": null,
   "metadata": {},
   "outputs": [],
   "source": [
    "\n",
    "\n",
    "def stockSpan(price,n):\n",
    "    \n",
    "    \n",
    "    stack = [0]\n",
    "    span = [1]\n",
    "    \n",
    "    for i in range(1, n):\n",
    "        \n",
    "        \n",
    "        while len(stack)!=0 and price[stack[-1]] < price[i]:\n",
    "            stack.pop()\n",
    "        \n",
    "        if len(stack) == 0:\n",
    "            span.append(i+1)\n",
    "        \n",
    "        else:\n",
    "            span.append(i-stack[-1])\n",
    "        stack.append(i)\n",
    "            \n",
    "    return span\n",
    "            \n",
    "\n",
    "\n",
    "\t\n",
    "\n",
    "n = int(input())\n",
    "price = [int(ele) for ele in input().split()]\n",
    "spans = stockSpan(price,n)\n",
    "for ele in spans:\n",
    "    print(ele,end= ' ')\n",
    "\n",
    "\n",
    "\n",
    "\n",
    "\n",
    "\n"
   ]
  },
  {
   "cell_type": "code",
   "execution_count": null,
   "metadata": {},
   "outputs": [],
   "source": [
    "\"\"\"\n",
    "Sample Input 1:\n",
    "4\n",
    "10 10 10 10\n",
    "Sample Output 1:\n",
    "1 1 1 1 \n",
    "Sample Input 2:\n",
    "8\n",
    "60 70 80 100 90 75 80 120\n",
    "Sample Output 2:\n",
    "1 2 3 4 1 1 2 8 \n",
    "\"\"\""
   ]
  }
 ],
 "metadata": {
  "kernelspec": {
   "display_name": "Python 3",
   "language": "python",
   "name": "python3"
  },
  "language_info": {
   "codemirror_mode": {
    "name": "ipython",
    "version": 3
   },
   "file_extension": ".py",
   "mimetype": "text/x-python",
   "name": "python",
   "nbconvert_exporter": "python",
   "pygments_lexer": "ipython3",
   "version": "3.8.2"
  }
 },
 "nbformat": 4,
 "nbformat_minor": 4
}
