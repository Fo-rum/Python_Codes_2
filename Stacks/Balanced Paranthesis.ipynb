{
 "cells": [
  {
   "cell_type": "markdown",
   "metadata": {},
   "source": [
    "For a given a string expression containing only round brackets or parentheses, check if they are balanced or not. Brackets are said to be balanced if the bracket which opens last, closes first.\n",
    "\n",
    "Example:\n",
    "Expression: (()())\n",
    "\n",
    "Since all the opening brackets have their corresponding closing brackets, we say it is balanced and hence the output will be, 'true'.\n",
    "You need to return a boolean value indicating whether the expression is balanced or not.\n",
    "\n",
    "Note:\n",
    "The input expression will not contain spaces in between."
   ]
  },
  {
   "cell_type": "markdown",
   "metadata": {},
   "source": [
    "Input Format:\n",
    "The first and the only line of input contains a string expression without any spaces in between.\n",
    "\n",
    "Output Format:\n",
    "The only line of output prints 'true' or 'false'.\n",
    "\n",
    "Note:\n",
    "You don't have to print anything explicitly. It has been taken care of. Just implement the function. \n",
    "\n",
    "Constraints:\n",
    "1 <= N <= 10^7\n",
    "\n",
    "Where N is the length of the expression.\n",
    "\n",
    "Time Limit: 1sec"
   ]
  },
  {
   "cell_type": "code",
   "execution_count": null,
   "metadata": {},
   "outputs": [],
   "source": [
    "\n",
    "from sys import stdin\n",
    "\n",
    "\n",
    "def isBalanced(expression) :\n",
    "    stack = []\n",
    "    for char in expression:\n",
    "        if char in '([{':\n",
    "            stack.append(char)\n",
    "            \n",
    "        elif char is ')':\n",
    "            if(len(stack)==0 or stack[-1]!= '('):\n",
    "                return False\n",
    "            stack.pop()\n",
    "            \n",
    "        elif char is ']':\n",
    "            if(len(stack)==0 or stack[-1]!='['):\n",
    "                return False\n",
    "            stack.pop()\n",
    "\n",
    "        elif char is '}':\n",
    "            if(len(stack)==0 or stack[-1]!='{'):\n",
    "                return False\n",
    "            stack.pop()\n",
    "\n",
    "            \n",
    "    if len(stack)==0:\n",
    "        return True\n",
    "    return False\n",
    "\t\n",
    "\n",
    "#main\n",
    "expression = stdin.readline().strip()\n",
    "\n",
    "if isBalanced(expression) :\n",
    "\tprint(\"true\")\n",
    "\n",
    "else :\n",
    "\tprint(\"false\")\n"
   ]
  },
  {
   "cell_type": "code",
   "execution_count": null,
   "metadata": {},
   "outputs": [],
   "source": [
    "\"\"\"\n",
    "Sample Input 1 :\n",
    "(()()())\n",
    "Sample Output 1 :\n",
    "true\n",
    "Sample Input 2 :\n",
    "()()(()\n",
    "Sample Output 2 :\n",
    "false\n",
    "Explanation to Sample Input 2:\n",
    "The initial two pairs of brackets are balanced. But when you see, the opening bracket at the fourth index doesn't have its corresponding closing bracket which makes it imbalanced and in turn, making the whole expression imbalanced. Hence the output prints 'false'.\n",
    "\"\"\""
   ]
  }
 ],
 "metadata": {
  "kernelspec": {
   "display_name": "Python 3",
   "language": "python",
   "name": "python3"
  },
  "language_info": {
   "codemirror_mode": {
    "name": "ipython",
    "version": 3
   },
   "file_extension": ".py",
   "mimetype": "text/x-python",
   "name": "python",
   "nbconvert_exporter": "python",
   "pygments_lexer": "ipython3",
   "version": "3.8.2"
  }
 },
 "nbformat": 4,
 "nbformat_minor": 4
}
