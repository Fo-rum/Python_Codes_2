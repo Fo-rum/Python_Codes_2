{
 "cells": [
  {
   "cell_type": "markdown",
   "metadata": {},
   "source": [
    "For a given expression in the form of a string, find if there exist any redundant brackets or not. It is given that the expression contains only rounded brackets or parenthesis and the input expression will always be balanced.\n",
    "A pair of the bracket is said to be redundant when a sub-expression is surrounded by unnecessary or needless brackets.\n",
    "\n",
    "Example:\n",
    "Expression: (a+b)+c\n",
    "Since there are no needless brackets, hence, the output must be 'false'.\n",
    "\n",
    "Expression: ((a+b))\n",
    "The expression can be reduced to (a+b). Hence the expression has redundant brackets and the output will be 'true'.\n",
    "\n",
    "Note:\n",
    "You will not get a partial score for this problem. You will get marks only if all the test cases are passed."
   ]
  },
  {
   "cell_type": "markdown",
   "metadata": {},
   "source": [
    "Input Format :\n",
    "    \n",
    "The first and the only line of input contains a string expression, without any spaces in between.\n",
    "\n",
    "Output Format :\n",
    "The first and the only line of output will print either 'true' or 'false'(without the quotes) denoting whether the input expression contains redundant brackets or not.\n",
    "\n",
    "Note:\n",
    "You are not required to print the expected result. It has already been taken care of.\n",
    "\n",
    "Constraints:\n",
    "    \n",
    "0 <= N <= 10^6\n",
    "\n",
    "Where N is the length of the expression.\n",
    "\n",
    "Time Limit: 1 second"
   ]
  },
  {
   "cell_type": "code",
   "execution_count": null,
   "metadata": {},
   "outputs": [],
   "source": [
    "\n",
    "from sys import stdin\n",
    "\n",
    "# def checkRedundantBrackets(string) :\n",
    "# \t# Your code goes here\n",
    "#     st = []   \n",
    "#     for ch in string:   \n",
    "#         if (ch == ')'):  \n",
    "#             top = st[-1]  \n",
    "#             st.pop()  \n",
    "#             flag = True\n",
    "#             while (top != '('):   \n",
    "#                 if (top == '+' or top == '-' or\n",
    "#                     top == '*' or top == '/'):  \n",
    "#                     flag = False  \n",
    "#                 top = st[-1]  \n",
    "#                 st.pop() \n",
    "#             if (flag == True): \n",
    "#                 return True\n",
    "#         else: \n",
    "#             st.append(ch) \n",
    "#     return False\n",
    "\n",
    "\n",
    "#alternative solution\n",
    "def checkRedundantBrackets(expression) :\n",
    "  stack = []\n",
    "  for char in expression:\n",
    "      if char != ')':\n",
    "        stack.append(char)\n",
    "      else:\n",
    "        top = stack[-1]\n",
    "        count = 0\n",
    "        flag = True\n",
    "        while top!= '(':\n",
    "            if (top == '+' or top == '-' or top == '*' or top == '/'):            \n",
    "              count +=1\n",
    "              #stack.pop()\n",
    "            top = stack[-1]\n",
    "            stack.pop()\n",
    "            #top = stack[-1]\n",
    "        if count == 0:\n",
    "          flag = True\n",
    "        else:\n",
    "          flag = False\n",
    "  return flag\n",
    "\n",
    "#main\n",
    "expression = stdin.readline().strip()\n",
    "\n",
    "if checkRedundantBrackets(expression) :\n",
    "\tprint(\"true\")\n",
    "\n",
    "else :\n",
    "\tprint(\"false\")\n"
   ]
  },
  {
   "cell_type": "code",
   "execution_count": 2,
   "metadata": {},
   "outputs": [
    {
     "data": {
      "text/plain": [
       "'\\nSample Input 1:\\na+(b)+c \\nSample Output 1:\\ntrue\\nExplanation:\\nThe expression can be reduced to a+b+c. Hence, the brackets are redundant.\\nSample Input 2:\\n(a+b)\\nSample Output 2:\\nfalse'"
      ]
     },
     "execution_count": 2,
     "metadata": {},
     "output_type": "execute_result"
    }
   ],
   "source": [
    "\"\"\"\n",
    "Sample Input 1:\n",
    "a+(b)+c \n",
    "Sample Output 1:\n",
    "true\n",
    "Explanation:\n",
    "The expression can be reduced to a+b+c. Hence, the brackets are redundant.\n",
    "Sample Input 2:\n",
    "(a+b)\n",
    "Sample Output 2:\n",
    "false\"\"\""
   ]
  }
 ],
 "metadata": {
  "kernelspec": {
   "display_name": "Python 3",
   "language": "python",
   "name": "python3"
  },
  "language_info": {
   "codemirror_mode": {
    "name": "ipython",
    "version": 3
   },
   "file_extension": ".py",
   "mimetype": "text/x-python",
   "name": "python",
   "nbconvert_exporter": "python",
   "pygments_lexer": "ipython3",
   "version": "3.8.2"
  }
 },
 "nbformat": 4,
 "nbformat_minor": 4
}
